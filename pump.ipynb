{
 "cells": [
  {
   "cell_type": "code",
   "execution_count": 248,
   "metadata": {},
   "outputs": [],
   "source": [
    "import numpy as np\n",
    "import pandas as pd\n",
    "import time\n",
    "\n",
    "import matplotlib.pyplot as plt\n",
    "import seaborn as sns\n",
    "import seaborn as sn\n",
    "from sklearn.model_selection import train_test_split\n",
    "from sklearn.naive_bayes import GaussianNB\n",
    "from sklearn import metrics\n",
    "import prince\n",
    "from sklearn.feature_selection import SelectKBest, chi2 # for chi-squared feature selection\n",
    "from sklearn.preprocessing import LabelEncoder, OrdinalEncoder\n",
    "from sklearn.naive_bayes import MultinomialNB"
   ]
  },
  {
   "cell_type": "code",
   "execution_count": 249,
   "metadata": {},
   "outputs": [],
   "source": [
    "train_data = pd.read_csv('training set values.csv')\n",
    "train_target = pd.read_csv('training set labels.csv')\n"
   ]
  },
  {
   "cell_type": "code",
   "execution_count": 250,
   "metadata": {},
   "outputs": [],
   "source": [
    "# Merge data and labels together in one dataframe.\n",
    "train_data = pd.merge(train_data, train_target, on='id')\n",
    "del train_target"
   ]
  },
  {
   "cell_type": "code",
   "execution_count": 251,
   "metadata": {},
   "outputs": [
    {
     "name": "stdout",
     "output_type": "stream",
     "text": [
      "<class 'pandas.core.frame.DataFrame'>\n",
      "Int64Index: 59400 entries, 0 to 59399\n",
      "Data columns (total 41 columns):\n",
      " #   Column                 Non-Null Count  Dtype  \n",
      "---  ------                 --------------  -----  \n",
      " 0   id                     59400 non-null  int64  \n",
      " 1   amount_tsh             59400 non-null  float64\n",
      " 2   date_recorded          59400 non-null  object \n",
      " 3   funder                 55765 non-null  object \n",
      " 4   gps_height             59400 non-null  int64  \n",
      " 5   installer              55745 non-null  object \n",
      " 6   longitude              59400 non-null  float64\n",
      " 7   latitude               59400 non-null  float64\n",
      " 8   wpt_name               59400 non-null  object \n",
      " 9   num_private            59400 non-null  int64  \n",
      " 10  basin                  59400 non-null  object \n",
      " 11  subvillage             59029 non-null  object \n",
      " 12  region                 59400 non-null  object \n",
      " 13  region_code            59400 non-null  int64  \n",
      " 14  district_code          59400 non-null  int64  \n",
      " 15  lga                    59400 non-null  object \n",
      " 16  ward                   59400 non-null  object \n",
      " 17  population             59400 non-null  int64  \n",
      " 18  public_meeting         56066 non-null  object \n",
      " 19  recorded_by            59400 non-null  object \n",
      " 20  scheme_management      55523 non-null  object \n",
      " 21  scheme_name            31234 non-null  object \n",
      " 22  permit                 56344 non-null  object \n",
      " 23  construction_year      59400 non-null  int64  \n",
      " 24  extraction_type        59400 non-null  object \n",
      " 25  extraction_type_group  59400 non-null  object \n",
      " 26  extraction_type_class  59400 non-null  object \n",
      " 27  management             59400 non-null  object \n",
      " 28  management_group       59400 non-null  object \n",
      " 29  payment                59400 non-null  object \n",
      " 30  payment_type           59400 non-null  object \n",
      " 31  water_quality          59400 non-null  object \n",
      " 32  quality_group          59400 non-null  object \n",
      " 33  quantity               59400 non-null  object \n",
      " 34  quantity_group         59400 non-null  object \n",
      " 35  source                 59400 non-null  object \n",
      " 36  source_type            59400 non-null  object \n",
      " 37  source_class           59400 non-null  object \n",
      " 38  waterpoint_type        59400 non-null  object \n",
      " 39  waterpoint_type_group  59400 non-null  object \n",
      " 40  status_group           59400 non-null  object \n",
      "dtypes: float64(3), int64(7), object(31)\n",
      "memory usage: 19.0+ MB\n"
     ]
    }
   ],
   "source": [
    "# Explore data set.\n",
    "\n",
    "train_data.info()"
   ]
  },
  {
   "cell_type": "code",
   "execution_count": 252,
   "metadata": {},
   "outputs": [
    {
     "data": {
      "text/plain": [
       "<seaborn.axisgrid.FacetGrid at 0x1a46aa5890>"
      ]
     },
     "execution_count": 252,
     "metadata": {},
     "output_type": "execute_result"
    },
    {
     "data": {
      "image/png": "[encoded data removed]",
      "text/plain": [
       "<Figure size 360x360 with 1 Axes>"
      ]
     },
     "metadata": {},
     "output_type": "display_data"
    }
   ],
   "source": [
    "sns.catplot(x=\"status_group\", kind=\"count\",palette=\"pastel\", edgecolor=\".6\",data=train_data)"
   ]
  },
  {
   "cell_type": "code",
   "execution_count": 253,
   "metadata": {},
   "outputs": [
    {
     "data": {
      "text/html": [
       "<div>\n",
       "<style scoped>\n",
       "    .dataframe tbody tr th:only-of-type {\n",
       "        vertical-align: middle;\n",
       "    }\n",
       "\n",
       "    .dataframe tbody tr th {\n",
       "        vertical-align: top;\n",
       "    }\n",
       "\n",
       "    .dataframe thead th {\n",
       "        text-align: right;\n",
       "    }\n",
       "</style>\n",
       "<table border=\"1\" class=\"dataframe\">\n",
       "  <thead>\n",
       "    <tr style=\"text-align: right;\">\n",
       "      <th></th>\n",
       "      <th>id</th>\n",
       "      <th>amount_tsh</th>\n",
       "      <th>date_recorded</th>\n",
       "      <th>funder</th>\n",
       "      <th>gps_height</th>\n",
       "      <th>installer</th>\n",
       "      <th>longitude</th>\n",
       "      <th>latitude</th>\n",
       "      <th>wpt_name</th>\n",
       "      <th>num_private</th>\n",
       "      <th>...</th>\n",
       "      <th>water_quality</th>\n",
       "      <th>quality_group</th>\n",
       "      <th>quantity</th>\n",
       "      <th>quantity_group</th>\n",
       "      <th>source</th>\n",
       "      <th>source_type</th>\n",
       "      <th>source_class</th>\n",
       "      <th>waterpoint_type</th>\n",
       "      <th>waterpoint_type_group</th>\n",
       "      <th>status_group</th>\n",
       "    </tr>\n",
       "  </thead>\n",
       "  <tbody>\n",
       "    <tr>\n",
       "      <th>0</th>\n",
       "      <td>69572</td>\n",
       "      <td>6000.0</td>\n",
       "      <td>2011-03-14</td>\n",
       "      <td>Roman</td>\n",
       "      <td>1390</td>\n",
       "      <td>Roman</td>\n",
       "      <td>34.938093</td>\n",
       "      <td>-9.856322</td>\n",
       "      <td>none</td>\n",
       "      <td>0</td>\n",
       "      <td>...</td>\n",
       "      <td>soft</td>\n",
       "      <td>good</td>\n",
       "      <td>enough</td>\n",
       "      <td>enough</td>\n",
       "      <td>spring</td>\n",
       "      <td>spring</td>\n",
       "      <td>groundwater</td>\n",
       "      <td>communal standpipe</td>\n",
       "      <td>communal standpipe</td>\n",
       "      <td>functional</td>\n",
       "    </tr>\n",
       "    <tr>\n",
       "      <th>1</th>\n",
       "      <td>8776</td>\n",
       "      <td>0.0</td>\n",
       "      <td>2013-03-06</td>\n",
       "      <td>Grumeti</td>\n",
       "      <td>1399</td>\n",
       "      <td>GRUMETI</td>\n",
       "      <td>34.698766</td>\n",
       "      <td>-2.147466</td>\n",
       "      <td>Zahanati</td>\n",
       "      <td>0</td>\n",
       "      <td>...</td>\n",
       "      <td>soft</td>\n",
       "      <td>good</td>\n",
       "      <td>insufficient</td>\n",
       "      <td>insufficient</td>\n",
       "      <td>rainwater harvesting</td>\n",
       "      <td>rainwater harvesting</td>\n",
       "      <td>surface</td>\n",
       "      <td>communal standpipe</td>\n",
       "      <td>communal standpipe</td>\n",
       "      <td>functional</td>\n",
       "    </tr>\n",
       "    <tr>\n",
       "      <th>2</th>\n",
       "      <td>34310</td>\n",
       "      <td>25.0</td>\n",
       "      <td>2013-02-25</td>\n",
       "      <td>Lottery Club</td>\n",
       "      <td>686</td>\n",
       "      <td>World vision</td>\n",
       "      <td>37.460664</td>\n",
       "      <td>-3.821329</td>\n",
       "      <td>Kwa Mahundi</td>\n",
       "      <td>0</td>\n",
       "      <td>...</td>\n",
       "      <td>soft</td>\n",
       "      <td>good</td>\n",
       "      <td>enough</td>\n",
       "      <td>enough</td>\n",
       "      <td>dam</td>\n",
       "      <td>dam</td>\n",
       "      <td>surface</td>\n",
       "      <td>communal standpipe multiple</td>\n",
       "      <td>communal standpipe</td>\n",
       "      <td>functional</td>\n",
       "    </tr>\n",
       "    <tr>\n",
       "      <th>3</th>\n",
       "      <td>67743</td>\n",
       "      <td>0.0</td>\n",
       "      <td>2013-01-28</td>\n",
       "      <td>Unicef</td>\n",
       "      <td>263</td>\n",
       "      <td>UNICEF</td>\n",
       "      <td>38.486161</td>\n",
       "      <td>-11.155298</td>\n",
       "      <td>Zahanati Ya Nanyumbu</td>\n",
       "      <td>0</td>\n",
       "      <td>...</td>\n",
       "      <td>soft</td>\n",
       "      <td>good</td>\n",
       "      <td>dry</td>\n",
       "      <td>dry</td>\n",
       "      <td>machine dbh</td>\n",
       "      <td>borehole</td>\n",
       "      <td>groundwater</td>\n",
       "      <td>communal standpipe multiple</td>\n",
       "      <td>communal standpipe</td>\n",
       "      <td>non functional</td>\n",
       "    </tr>\n",
       "    <tr>\n",
       "      <th>4</th>\n",
       "      <td>19728</td>\n",
       "      <td>0.0</td>\n",
       "      <td>2011-07-13</td>\n",
       "      <td>Action In A</td>\n",
       "      <td>0</td>\n",
       "      <td>Artisan</td>\n",
       "      <td>31.130847</td>\n",
       "      <td>-1.825359</td>\n",
       "      <td>Shuleni</td>\n",
       "      <td>0</td>\n",
       "      <td>...</td>\n",
       "      <td>soft</td>\n",
       "      <td>good</td>\n",
       "      <td>seasonal</td>\n",
       "      <td>seasonal</td>\n",
       "      <td>rainwater harvesting</td>\n",
       "      <td>rainwater harvesting</td>\n",
       "      <td>surface</td>\n",
       "      <td>communal standpipe</td>\n",
       "      <td>communal standpipe</td>\n",
       "      <td>functional</td>\n",
       "    </tr>\n",
       "  </tbody>\n",
       "</table>\n",
       "<p>5 rows × 41 columns</p>\n",
       "</div>"
      ],
      "text/plain": [
       "      id  amount_tsh date_recorded        funder  gps_height     installer  \\\n",
       "0  69572      6000.0    2011-03-14         Roman        1390         Roman   \n",
       "1   8776         0.0    2013-03-06       Grumeti        1399       GRUMETI   \n",
       "2  34310        25.0    2013-02-25  Lottery Club         686  World vision   \n",
       "3  67743         0.0    2013-01-28        Unicef         263        UNICEF   \n",
       "4  19728         0.0    2011-07-13   Action In A           0       Artisan   \n",
       "\n",
       "   longitude   latitude              wpt_name  num_private  ... water_quality  \\\n",
       "0  34.938093  -9.856322                  none            0  ...          soft   \n",
       "1  34.698766  -2.147466              Zahanati            0  ...          soft   \n",
       "2  37.460664  -3.821329           Kwa Mahundi            0  ...          soft   \n",
       "3  38.486161 -11.155298  Zahanati Ya Nanyumbu            0  ...          soft   \n",
       "4  31.130847  -1.825359               Shuleni            0  ...          soft   \n",
       "\n",
       "  quality_group      quantity  quantity_group                source  \\\n",
       "0          good        enough          enough                spring   \n",
       "1          good  insufficient    insufficient  rainwater harvesting   \n",
       "2          good        enough          enough                   dam   \n",
       "3          good           dry             dry           machine dbh   \n",
       "4          good      seasonal        seasonal  rainwater harvesting   \n",
       "\n",
       "            source_type source_class              waterpoint_type  \\\n",
       "0                spring  groundwater           communal standpipe   \n",
       "1  rainwater harvesting      surface           communal standpipe   \n",
       "2                   dam      surface  communal standpipe multiple   \n",
       "3              borehole  groundwater  communal standpipe multiple   \n",
       "4  rainwater harvesting      surface           communal standpipe   \n",
       "\n",
       "  waterpoint_type_group    status_group  \n",
       "0    communal standpipe      functional  \n",
       "1    communal standpipe      functional  \n",
       "2    communal standpipe      functional  \n",
       "3    communal standpipe  non functional  \n",
       "4    communal standpipe      functional  \n",
       "\n",
       "[5 rows x 41 columns]"
      ]
     },
     "execution_count": 253,
     "metadata": {},
     "output_type": "execute_result"
    }
   ],
   "source": [
    "train_data.head(5)"
   ]
  },
  {
   "cell_type": "code",
   "execution_count": 254,
   "metadata": {},
   "outputs": [
    {
     "data": {
      "text/plain": [
       "id                           0\n",
       "amount_tsh                   0\n",
       "date_recorded                0\n",
       "funder                    3635\n",
       "gps_height                   0\n",
       "installer                 3655\n",
       "longitude                    0\n",
       "latitude                     0\n",
       "wpt_name                     0\n",
       "num_private                  0\n",
       "basin                        0\n",
       "subvillage                 371\n",
       "region                       0\n",
       "region_code                  0\n",
       "district_code                0\n",
       "lga                          0\n",
       "ward                         0\n",
       "population                   0\n",
       "public_meeting            3334\n",
       "recorded_by                  0\n",
       "scheme_management         3877\n",
       "scheme_name              28166\n",
       "permit                    3056\n",
       "construction_year            0\n",
       "extraction_type              0\n",
       "extraction_type_group        0\n",
       "extraction_type_class        0\n",
       "management                   0\n",
       "management_group             0\n",
       "payment                      0\n",
       "payment_type                 0\n",
       "water_quality                0\n",
       "quality_group                0\n",
       "quantity                     0\n",
       "quantity_group               0\n",
       "source                       0\n",
       "source_type                  0\n",
       "source_class                 0\n",
       "waterpoint_type              0\n",
       "waterpoint_type_group        0\n",
       "status_group                 0\n",
       "dtype: int64"
      ]
     },
     "execution_count": 254,
     "metadata": {},
     "output_type": "execute_result"
    }
   ],
   "source": [
    "# Check for nulls.\n",
    "\n",
    "train_data.apply(lambda x: sum(x.isnull()))"
   ]
  },
  {
   "cell_type": "code",
   "execution_count": 255,
   "metadata": {},
   "outputs": [
    {
     "data": {
      "text/plain": [
       "Government Of Tanzania            9084\n",
       "Danida                            3114\n",
       "Hesawa                            2202\n",
       "Rwssp                             1374\n",
       "World Bank                        1349\n",
       "                                  ... \n",
       "Rc Missi                             1\n",
       "Tgrs                                 1\n",
       "Dhv\\swis                             1\n",
       "Rotary Club Of Chico And Moshi       1\n",
       "Unice/ Cspd                          1\n",
       "Name: funder, Length: 1897, dtype: int64"
      ]
     },
     "execution_count": 255,
     "metadata": {},
     "output_type": "execute_result"
    }
   ],
   "source": [
    "# Deal with the columns containing null values one by one. Start with 'funder'.\n",
    "\n",
    "train_data.funder.value_counts()"
   ]
  },
  {
   "cell_type": "code",
   "execution_count": 256,
   "metadata": {},
   "outputs": [],
   "source": [
    "# Create a function to reduce the amount of dummy columns needed whilst maintaining the \n",
    "# information contained in the column.\n",
    "\n",
    "def funder_wrangler(row):  \n",
    "    '''Keep top 10 values and set the rest to 'other'''\n",
    "\n",
    "    if row['funder']=='Government Of Tanzania':\n",
    "        return 'gov'\n",
    "    elif row['funder']=='Danida':\n",
    "        return 'danida'\n",
    "    elif row['funder']=='Hesawa':\n",
    "        return 'hesawa'\n",
    "    elif row['funder']=='Rwssp':\n",
    "        return 'rwssp'\n",
    "    elif row['funder']=='World Bank':\n",
    "        return 'world_bank' \n",
    "    elif row['funder']=='Kkkt':\n",
    "        return 'Kkkt'\n",
    "    elif row['funder']=='World Vision ':\n",
    "        return 'World_Vision '\n",
    "    elif row['funder']=='Unicef':\n",
    "        return 'Unicef'\n",
    "    elif row['funder']=='Tasaf':\n",
    "        return 'Tasaf'\n",
    "    elif row['funder']=='District Council':\n",
    "        return 'Dis_Council'\n",
    "    else:\n",
    "        return 'other'\n",
    "    \n",
    "train_data['funder'] = train_data.apply(lambda row: funder_wrangler(row), axis=1)"
   ]
  },
  {
   "cell_type": "code",
   "execution_count": 257,
   "metadata": {},
   "outputs": [],
   "source": [
    "# Add column named 'status_group_vals' to allow the use of a pivot table to check differences\n",
    "# between the different funders.\n",
    "\n",
    "vals_to_replace = {'functional':2, 'functional needs repair':1,\n",
    "                   'non functional':0}\n",
    "\n",
    "train_data['status_group_vals']  = train_data.status_group.replace(vals_to_replace)"
   ]
  },
  {
   "cell_type": "code",
   "execution_count": 258,
   "metadata": {},
   "outputs": [
    {
     "data": {
      "text/html": [
       "<div>\n",
       "<style scoped>\n",
       "    .dataframe tbody tr th:only-of-type {\n",
       "        vertical-align: middle;\n",
       "    }\n",
       "\n",
       "    .dataframe tbody tr th {\n",
       "        vertical-align: top;\n",
       "    }\n",
       "\n",
       "    .dataframe thead th {\n",
       "        text-align: right;\n",
       "    }\n",
       "</style>\n",
       "<table border=\"1\" class=\"dataframe\">\n",
       "  <thead>\n",
       "    <tr style=\"text-align: right;\">\n",
       "      <th>status_group</th>\n",
       "      <th>functional</th>\n",
       "      <th>functional needs repair</th>\n",
       "      <th>non functional</th>\n",
       "    </tr>\n",
       "    <tr>\n",
       "      <th>funder</th>\n",
       "      <th></th>\n",
       "      <th></th>\n",
       "      <th></th>\n",
       "    </tr>\n",
       "  </thead>\n",
       "  <tbody>\n",
       "    <tr>\n",
       "      <th>Dis_Council</th>\n",
       "      <td>378</td>\n",
       "      <td>45</td>\n",
       "      <td>420</td>\n",
       "    </tr>\n",
       "    <tr>\n",
       "      <th>Kkkt</th>\n",
       "      <td>723</td>\n",
       "      <td>66</td>\n",
       "      <td>498</td>\n",
       "    </tr>\n",
       "    <tr>\n",
       "      <th>Tasaf</th>\n",
       "      <td>493</td>\n",
       "      <td>64</td>\n",
       "      <td>320</td>\n",
       "    </tr>\n",
       "    <tr>\n",
       "      <th>Unicef</th>\n",
       "      <td>600</td>\n",
       "      <td>99</td>\n",
       "      <td>358</td>\n",
       "    </tr>\n",
       "    <tr>\n",
       "      <th>danida</th>\n",
       "      <td>1713</td>\n",
       "      <td>159</td>\n",
       "      <td>1242</td>\n",
       "    </tr>\n",
       "    <tr>\n",
       "      <th>gov</th>\n",
       "      <td>3720</td>\n",
       "      <td>701</td>\n",
       "      <td>4663</td>\n",
       "    </tr>\n",
       "    <tr>\n",
       "      <th>hesawa</th>\n",
       "      <td>936</td>\n",
       "      <td>232</td>\n",
       "      <td>1034</td>\n",
       "    </tr>\n",
       "    <tr>\n",
       "      <th>other</th>\n",
       "      <td>22346</td>\n",
       "      <td>2745</td>\n",
       "      <td>13122</td>\n",
       "    </tr>\n",
       "    <tr>\n",
       "      <th>rwssp</th>\n",
       "      <td>805</td>\n",
       "      <td>109</td>\n",
       "      <td>460</td>\n",
       "    </tr>\n",
       "    <tr>\n",
       "      <th>world_bank</th>\n",
       "      <td>545</td>\n",
       "      <td>97</td>\n",
       "      <td>707</td>\n",
       "    </tr>\n",
       "  </tbody>\n",
       "</table>\n",
       "</div>"
      ],
      "text/plain": [
       "status_group  functional  functional needs repair  non functional\n",
       "funder                                                           \n",
       "Dis_Council          378                       45             420\n",
       "Kkkt                 723                       66             498\n",
       "Tasaf                493                       64             320\n",
       "Unicef               600                       99             358\n",
       "danida              1713                      159            1242\n",
       "gov                 3720                      701            4663\n",
       "hesawa               936                      232            1034\n",
       "other              22346                     2745           13122\n",
       "rwssp                805                      109             460\n",
       "world_bank           545                       97             707"
      ]
     },
     "execution_count": 258,
     "metadata": {},
     "output_type": "execute_result"
    }
   ],
   "source": [
    "per = train_data.groupby(['funder','status_group'])['status_group_vals']\\\n",
    "                                                .count() \\\n",
    "                                                .unstack() \\\n",
    "                                                .reset_index() \\\n",
    "                                                 .fillna(0) \\\n",
    "                                            .set_index('funder')\n",
    "per.head(10)\n"
   ]
  },
  {
   "cell_type": "code",
   "execution_count": 259,
   "metadata": {},
   "outputs": [
    {
     "data": {
      "text/html": [
       "<div>\n",
       "<style scoped>\n",
       "    .dataframe tbody tr th:only-of-type {\n",
       "        vertical-align: middle;\n",
       "    }\n",
       "\n",
       "    .dataframe tbody tr th {\n",
       "        vertical-align: top;\n",
       "    }\n",
       "\n",
       "    .dataframe thead th {\n",
       "        text-align: right;\n",
       "    }\n",
       "</style>\n",
       "<table border=\"1\" class=\"dataframe\">\n",
       "  <thead>\n",
       "    <tr style=\"text-align: right;\">\n",
       "      <th>status_group</th>\n",
       "      <th>functional</th>\n",
       "      <th>functional needs repair</th>\n",
       "      <th>non functional</th>\n",
       "      <th>total</th>\n",
       "    </tr>\n",
       "    <tr>\n",
       "      <th>funder</th>\n",
       "      <th></th>\n",
       "      <th></th>\n",
       "      <th></th>\n",
       "      <th></th>\n",
       "    </tr>\n",
       "  </thead>\n",
       "  <tbody>\n",
       "    <tr>\n",
       "      <th>Dis_Council</th>\n",
       "      <td>378</td>\n",
       "      <td>45</td>\n",
       "      <td>420</td>\n",
       "      <td>843</td>\n",
       "    </tr>\n",
       "    <tr>\n",
       "      <th>Kkkt</th>\n",
       "      <td>723</td>\n",
       "      <td>66</td>\n",
       "      <td>498</td>\n",
       "      <td>1287</td>\n",
       "    </tr>\n",
       "    <tr>\n",
       "      <th>Tasaf</th>\n",
       "      <td>493</td>\n",
       "      <td>64</td>\n",
       "      <td>320</td>\n",
       "      <td>877</td>\n",
       "    </tr>\n",
       "    <tr>\n",
       "      <th>Unicef</th>\n",
       "      <td>600</td>\n",
       "      <td>99</td>\n",
       "      <td>358</td>\n",
       "      <td>1057</td>\n",
       "    </tr>\n",
       "    <tr>\n",
       "      <th>danida</th>\n",
       "      <td>1713</td>\n",
       "      <td>159</td>\n",
       "      <td>1242</td>\n",
       "      <td>3114</td>\n",
       "    </tr>\n",
       "    <tr>\n",
       "      <th>gov</th>\n",
       "      <td>3720</td>\n",
       "      <td>701</td>\n",
       "      <td>4663</td>\n",
       "      <td>9084</td>\n",
       "    </tr>\n",
       "    <tr>\n",
       "      <th>hesawa</th>\n",
       "      <td>936</td>\n",
       "      <td>232</td>\n",
       "      <td>1034</td>\n",
       "      <td>2202</td>\n",
       "    </tr>\n",
       "    <tr>\n",
       "      <th>other</th>\n",
       "      <td>22346</td>\n",
       "      <td>2745</td>\n",
       "      <td>13122</td>\n",
       "      <td>38213</td>\n",
       "    </tr>\n",
       "    <tr>\n",
       "      <th>rwssp</th>\n",
       "      <td>805</td>\n",
       "      <td>109</td>\n",
       "      <td>460</td>\n",
       "      <td>1374</td>\n",
       "    </tr>\n",
       "    <tr>\n",
       "      <th>world_bank</th>\n",
       "      <td>545</td>\n",
       "      <td>97</td>\n",
       "      <td>707</td>\n",
       "      <td>1349</td>\n",
       "    </tr>\n",
       "  </tbody>\n",
       "</table>\n",
       "</div>"
      ],
      "text/plain": [
       "status_group  functional  functional needs repair  non functional  total\n",
       "funder                                                                  \n",
       "Dis_Council          378                       45             420    843\n",
       "Kkkt                 723                       66             498   1287\n",
       "Tasaf                493                       64             320    877\n",
       "Unicef               600                       99             358   1057\n",
       "danida              1713                      159            1242   3114\n",
       "gov                 3720                      701            4663   9084\n",
       "hesawa               936                      232            1034   2202\n",
       "other              22346                     2745           13122  38213\n",
       "rwssp                805                      109             460   1374\n",
       "world_bank           545                       97             707   1349"
      ]
     },
     "execution_count": 259,
     "metadata": {},
     "output_type": "execute_result"
    }
   ],
   "source": [
    "per['total'] = per.sum(axis=1)\n",
    "\n",
    "per\n",
    "\n",
    "\n",
    "\n",
    "\n",
    "\n",
    "\n",
    "\n"
   ]
  },
  {
   "cell_type": "code",
   "execution_count": 260,
   "metadata": {},
   "outputs": [
    {
     "data": {
      "text/html": [
       "<div>\n",
       "<style scoped>\n",
       "    .dataframe tbody tr th:only-of-type {\n",
       "        vertical-align: middle;\n",
       "    }\n",
       "\n",
       "    .dataframe tbody tr th {\n",
       "        vertical-align: top;\n",
       "    }\n",
       "\n",
       "    .dataframe thead th {\n",
       "        text-align: right;\n",
       "    }\n",
       "</style>\n",
       "<table border=\"1\" class=\"dataframe\">\n",
       "  <thead>\n",
       "    <tr style=\"text-align: right;\">\n",
       "      <th>status_group</th>\n",
       "      <th>functional</th>\n",
       "      <th>functional needs repair</th>\n",
       "      <th>non functional</th>\n",
       "    </tr>\n",
       "    <tr>\n",
       "      <th>funder</th>\n",
       "      <th></th>\n",
       "      <th></th>\n",
       "      <th></th>\n",
       "    </tr>\n",
       "  </thead>\n",
       "  <tbody>\n",
       "    <tr>\n",
       "      <th>Dis_Council</th>\n",
       "      <td>44.839858</td>\n",
       "      <td>5.338078</td>\n",
       "      <td>49.822064</td>\n",
       "    </tr>\n",
       "    <tr>\n",
       "      <th>Kkkt</th>\n",
       "      <td>56.177156</td>\n",
       "      <td>5.128205</td>\n",
       "      <td>38.694639</td>\n",
       "    </tr>\n",
       "    <tr>\n",
       "      <th>Tasaf</th>\n",
       "      <td>56.214367</td>\n",
       "      <td>7.297605</td>\n",
       "      <td>36.488027</td>\n",
       "    </tr>\n",
       "    <tr>\n",
       "      <th>Unicef</th>\n",
       "      <td>56.764428</td>\n",
       "      <td>9.366131</td>\n",
       "      <td>33.869442</td>\n",
       "    </tr>\n",
       "    <tr>\n",
       "      <th>danida</th>\n",
       "      <td>55.009634</td>\n",
       "      <td>5.105973</td>\n",
       "      <td>39.884393</td>\n",
       "    </tr>\n",
       "    <tr>\n",
       "      <th>gov</th>\n",
       "      <td>40.951123</td>\n",
       "      <td>7.716865</td>\n",
       "      <td>51.332012</td>\n",
       "    </tr>\n",
       "    <tr>\n",
       "      <th>hesawa</th>\n",
       "      <td>42.506812</td>\n",
       "      <td>10.535876</td>\n",
       "      <td>46.957312</td>\n",
       "    </tr>\n",
       "    <tr>\n",
       "      <th>other</th>\n",
       "      <td>58.477481</td>\n",
       "      <td>7.183419</td>\n",
       "      <td>34.339099</td>\n",
       "    </tr>\n",
       "    <tr>\n",
       "      <th>rwssp</th>\n",
       "      <td>58.588064</td>\n",
       "      <td>7.933042</td>\n",
       "      <td>33.478894</td>\n",
       "    </tr>\n",
       "    <tr>\n",
       "      <th>world_bank</th>\n",
       "      <td>40.400297</td>\n",
       "      <td>7.190511</td>\n",
       "      <td>52.409192</td>\n",
       "    </tr>\n",
       "  </tbody>\n",
       "</table>\n",
       "</div>"
      ],
      "text/plain": [
       "status_group  functional  functional needs repair  non functional\n",
       "funder                                                           \n",
       "Dis_Council    44.839858                 5.338078       49.822064\n",
       "Kkkt           56.177156                 5.128205       38.694639\n",
       "Tasaf          56.214367                 7.297605       36.488027\n",
       "Unicef         56.764428                 9.366131       33.869442\n",
       "danida         55.009634                 5.105973       39.884393\n",
       "gov            40.951123                 7.716865       51.332012\n",
       "hesawa         42.506812                10.535876       46.957312\n",
       "other          58.477481                 7.183419       34.339099\n",
       "rwssp          58.588064                 7.933042       33.478894\n",
       "world_bank     40.400297                 7.190511       52.409192"
      ]
     },
     "execution_count": 260,
     "metadata": {},
     "output_type": "execute_result"
    }
   ],
   "source": [
    "def percentage_share(df):\n",
    "    for i in df.columns:\n",
    "        df[i] = df.apply(lambda row: (row[i]/row['total']*100), axis=1) \n",
    "    df.drop('total',inplace=True,axis=1)\n",
    "    return df\n",
    "\n",
    "per_df = percentage_share(per) \n",
    "\n",
    "per_df"
   ]
  },
  {
   "cell_type": "code",
   "execution_count": 261,
   "metadata": {
    "scrolled": true
   },
   "outputs": [
    {
     "data": {
      "image/png": "[encoded data removed]",
      "text/plain": [
       "<Figure size 720x360 with 1 Axes>"
      ]
     },
     "metadata": {},
     "output_type": "display_data"
    }
   ],
   "source": [
    "funder = [0,1,2,3,4,5,6,7,8,9]\n",
    "functional = per_df['functional']\n",
    "nr_functional = per_df['functional needs repair']\n",
    "n_functional = per_df['non functional']\n",
    "header = per_df.columns.values #an array of columns headers\n",
    "\n",
    "fig = plt.figure()\n",
    "ax = plt.subplot()\n",
    "\n",
    "#Grouped bar chart\n",
    "ind = np.arange(len(funder)) #no of x ticks;\n",
    "width = 0.3 #width of the bar\n",
    "\n",
    "\n",
    "#ax.bar(position of the bar wrt the x-ticks, data, width of bar, label)\n",
    "ax.bar(ind , functional, width,label='functional')\n",
    "ax.bar(ind- width , nr_functional, width,label='functional needs repair')\n",
    "ax.bar(ind + width , n_functional, width,label='non functional')\n",
    "ax.legend(loc=9,ncol=3)\n",
    "\n",
    "ax.set_xticks([0,1,2,3,4,5,6,7,8,9])\n",
    "ax.set_ylim(0,70)\n",
    "#create a list of  variable names to use as labels for ticks in hor axis\n",
    "xlab=[item.get_text() for item in ax.get_xticklabels()] # list with empty strings. list length determined my the ticks seen in the plots\n",
    "# replace empty strings at even list indexes by variable names in the same order as they are present in the dataframe column names\n",
    "xlab[0]='Dis_Council'\n",
    "xlab[1]='Kkkt'\n",
    "xlab[2]='Tasaf'\n",
    "xlab[3]='Unicef'\n",
    "xlab[4]='danida'\n",
    "xlab[5]='gov'\n",
    "xlab[6] ='hesawa'\n",
    "xlab[7]='other'\n",
    "xlab[8]='rwssp'\n",
    "xlab[9] ='world_bank'\n",
    "\n",
    "\n",
    "#set the vertical axis tick labels using the list created above\n",
    "ax.set_xticklabels(xlab)\n",
    "\n",
    "#for i,v in enumerate(functional):\n",
    "    #.text(i-.25,v+10,functional[i],fomtsize=8)\n",
    "\n",
    "\n",
    "for tick in ax.get_xticklabels():\n",
    "    tick.set_rotation(90)\n",
    "\n",
    "#Set the figure size so that all four panel graphs are clearly visible\n",
    "fig.set_size_inches(10,5)   \n",
    "#Set a title for the figure\n",
    "fig.suptitle(' Percentage of wells by functionaity types for the top 10 funders  '\\\n",
    "             ,y=1,fontsize=15,fontweight='bold')\n",
    "plt.show()"
   ]
  },
  {
   "cell_type": "code",
   "execution_count": 262,
   "metadata": {},
   "outputs": [
    {
     "data": {
      "text/plain": [
       "DWE                             17402\n",
       "Government                       1825\n",
       "RWE                              1206\n",
       "Commu                            1060\n",
       "DANIDA                           1050\n",
       "                                ...  \n",
       "TINA/Africare                       1\n",
       "Tanz/Egypt technical coopera        1\n",
       "AGRICAN                             1\n",
       "George mtoto company                1\n",
       "Birage                              1\n",
       "Name: installer, Length: 2145, dtype: int64"
      ]
     },
     "execution_count": 262,
     "metadata": {},
     "output_type": "execute_result"
    }
   ],
   "source": [
    "# There are some clear differences here that will hopefully improve the model. The next feature\n",
    "# to inspect is 'installer'.\n",
    "\n",
    "train_data.installer.value_counts()"
   ]
  },
  {
   "cell_type": "code",
   "execution_count": 263,
   "metadata": {},
   "outputs": [],
   "source": [
    "# Create a function to reduce the amount of dummy columns needed whilst maintaining the \n",
    "# information contained in the column.\n",
    "\n",
    "def installer_wrangler(row):\n",
    "    '''Keep top 7 values and set the rest to 'other'''\n",
    "    if row['installer']=='DWE':\n",
    "        return 'dwe'\n",
    "    elif row['installer']=='Government':\n",
    "        return 'gov'\n",
    "    elif row['installer']=='RWE':\n",
    "        return 'rwe'\n",
    "    elif row['installer']=='Commu':\n",
    "        return 'commu'\n",
    "    elif row['installer']=='DANIDA':\n",
    "        return 'danida'\n",
    "    elif row['installer']=='KKKT ':\n",
    "        return 'KKKT '\n",
    "    elif row['installer']=='Hesawa':\n",
    "        return 'Hesawa'\n",
    "    \n",
    "    else:\n",
    "        return 'other'  \n",
    "\n",
    "train_data['installer'] = train_data.apply(lambda row: installer_wrangler(row), axis=1)"
   ]
  },
  {
   "cell_type": "code",
   "execution_count": 264,
   "metadata": {},
   "outputs": [
    {
     "data": {
      "text/html": [
       "<div>\n",
       "<style scoped>\n",
       "    .dataframe tbody tr th:only-of-type {\n",
       "        vertical-align: middle;\n",
       "    }\n",
       "\n",
       "    .dataframe tbody tr th {\n",
       "        vertical-align: top;\n",
       "    }\n",
       "\n",
       "    .dataframe thead th {\n",
       "        text-align: right;\n",
       "    }\n",
       "</style>\n",
       "<table border=\"1\" class=\"dataframe\">\n",
       "  <thead>\n",
       "    <tr style=\"text-align: right;\">\n",
       "      <th>status_group</th>\n",
       "      <th>functional</th>\n",
       "      <th>functional needs repair</th>\n",
       "      <th>non functional</th>\n",
       "    </tr>\n",
       "    <tr>\n",
       "      <th>installer</th>\n",
       "      <th></th>\n",
       "      <th></th>\n",
       "      <th></th>\n",
       "    </tr>\n",
       "  </thead>\n",
       "  <tbody>\n",
       "    <tr>\n",
       "      <th>Hesawa</th>\n",
       "      <td>475</td>\n",
       "      <td>17</td>\n",
       "      <td>348</td>\n",
       "    </tr>\n",
       "    <tr>\n",
       "      <th>commu</th>\n",
       "      <td>724</td>\n",
       "      <td>32</td>\n",
       "      <td>304</td>\n",
       "    </tr>\n",
       "    <tr>\n",
       "      <th>danida</th>\n",
       "      <td>542</td>\n",
       "      <td>83</td>\n",
       "      <td>425</td>\n",
       "    </tr>\n",
       "    <tr>\n",
       "      <th>dwe</th>\n",
       "      <td>9433</td>\n",
       "      <td>1622</td>\n",
       "      <td>6347</td>\n",
       "    </tr>\n",
       "    <tr>\n",
       "      <th>gov</th>\n",
       "      <td>535</td>\n",
       "      <td>256</td>\n",
       "      <td>1034</td>\n",
       "    </tr>\n",
       "    <tr>\n",
       "      <th>other</th>\n",
       "      <td>20246</td>\n",
       "      <td>2170</td>\n",
       "      <td>13601</td>\n",
       "    </tr>\n",
       "    <tr>\n",
       "      <th>rwe</th>\n",
       "      <td>304</td>\n",
       "      <td>137</td>\n",
       "      <td>765</td>\n",
       "    </tr>\n",
       "  </tbody>\n",
       "</table>\n",
       "</div>"
      ],
      "text/plain": [
       "status_group  functional  functional needs repair  non functional\n",
       "installer                                                        \n",
       "Hesawa               475                       17             348\n",
       "commu                724                       32             304\n",
       "danida               542                       83             425\n",
       "dwe                 9433                     1622            6347\n",
       "gov                  535                      256            1034\n",
       "other              20246                     2170           13601\n",
       "rwe                  304                      137             765"
      ]
     },
     "execution_count": 264,
     "metadata": {},
     "output_type": "execute_result"
    }
   ],
   "source": [
    "per_inst = train_data.groupby(['installer','status_group'])['status_group_vals']\\\n",
    "                                                .count() \\\n",
    "                                                .unstack() \\\n",
    "                                                .reset_index() \\\n",
    "                                                 .fillna(0) \\\n",
    "                                            .set_index('installer')\n",
    "per_inst.head(7)"
   ]
  },
  {
   "cell_type": "code",
   "execution_count": 265,
   "metadata": {},
   "outputs": [
    {
     "data": {
      "text/html": [
       "<div>\n",
       "<style scoped>\n",
       "    .dataframe tbody tr th:only-of-type {\n",
       "        vertical-align: middle;\n",
       "    }\n",
       "\n",
       "    .dataframe tbody tr th {\n",
       "        vertical-align: top;\n",
       "    }\n",
       "\n",
       "    .dataframe thead th {\n",
       "        text-align: right;\n",
       "    }\n",
       "</style>\n",
       "<table border=\"1\" class=\"dataframe\">\n",
       "  <thead>\n",
       "    <tr style=\"text-align: right;\">\n",
       "      <th>status_group</th>\n",
       "      <th>functional</th>\n",
       "      <th>functional needs repair</th>\n",
       "      <th>non functional</th>\n",
       "      <th>total</th>\n",
       "    </tr>\n",
       "    <tr>\n",
       "      <th>installer</th>\n",
       "      <th></th>\n",
       "      <th></th>\n",
       "      <th></th>\n",
       "      <th></th>\n",
       "    </tr>\n",
       "  </thead>\n",
       "  <tbody>\n",
       "    <tr>\n",
       "      <th>Hesawa</th>\n",
       "      <td>475</td>\n",
       "      <td>17</td>\n",
       "      <td>348</td>\n",
       "      <td>840</td>\n",
       "    </tr>\n",
       "    <tr>\n",
       "      <th>commu</th>\n",
       "      <td>724</td>\n",
       "      <td>32</td>\n",
       "      <td>304</td>\n",
       "      <td>1060</td>\n",
       "    </tr>\n",
       "    <tr>\n",
       "      <th>danida</th>\n",
       "      <td>542</td>\n",
       "      <td>83</td>\n",
       "      <td>425</td>\n",
       "      <td>1050</td>\n",
       "    </tr>\n",
       "    <tr>\n",
       "      <th>dwe</th>\n",
       "      <td>9433</td>\n",
       "      <td>1622</td>\n",
       "      <td>6347</td>\n",
       "      <td>17402</td>\n",
       "    </tr>\n",
       "    <tr>\n",
       "      <th>gov</th>\n",
       "      <td>535</td>\n",
       "      <td>256</td>\n",
       "      <td>1034</td>\n",
       "      <td>1825</td>\n",
       "    </tr>\n",
       "    <tr>\n",
       "      <th>other</th>\n",
       "      <td>20246</td>\n",
       "      <td>2170</td>\n",
       "      <td>13601</td>\n",
       "      <td>36017</td>\n",
       "    </tr>\n",
       "    <tr>\n",
       "      <th>rwe</th>\n",
       "      <td>304</td>\n",
       "      <td>137</td>\n",
       "      <td>765</td>\n",
       "      <td>1206</td>\n",
       "    </tr>\n",
       "  </tbody>\n",
       "</table>\n",
       "</div>"
      ],
      "text/plain": [
       "status_group  functional  functional needs repair  non functional  total\n",
       "installer                                                               \n",
       "Hesawa               475                       17             348    840\n",
       "commu                724                       32             304   1060\n",
       "danida               542                       83             425   1050\n",
       "dwe                 9433                     1622            6347  17402\n",
       "gov                  535                      256            1034   1825\n",
       "other              20246                     2170           13601  36017\n",
       "rwe                  304                      137             765   1206"
      ]
     },
     "execution_count": 265,
     "metadata": {},
     "output_type": "execute_result"
    }
   ],
   "source": [
    "per_inst['total'] = per_inst.sum(axis=1)\n",
    "\n",
    "per_inst"
   ]
  },
  {
   "cell_type": "code",
   "execution_count": 266,
   "metadata": {},
   "outputs": [
    {
     "data": {
      "text/html": [
       "<div>\n",
       "<style scoped>\n",
       "    .dataframe tbody tr th:only-of-type {\n",
       "        vertical-align: middle;\n",
       "    }\n",
       "\n",
       "    .dataframe tbody tr th {\n",
       "        vertical-align: top;\n",
       "    }\n",
       "\n",
       "    .dataframe thead th {\n",
       "        text-align: right;\n",
       "    }\n",
       "</style>\n",
       "<table border=\"1\" class=\"dataframe\">\n",
       "  <thead>\n",
       "    <tr style=\"text-align: right;\">\n",
       "      <th>status_group</th>\n",
       "      <th>functional</th>\n",
       "      <th>functional needs repair</th>\n",
       "      <th>non functional</th>\n",
       "    </tr>\n",
       "    <tr>\n",
       "      <th>installer</th>\n",
       "      <th></th>\n",
       "      <th></th>\n",
       "      <th></th>\n",
       "    </tr>\n",
       "  </thead>\n",
       "  <tbody>\n",
       "    <tr>\n",
       "      <th>Hesawa</th>\n",
       "      <td>56.547619</td>\n",
       "      <td>2.023810</td>\n",
       "      <td>41.428571</td>\n",
       "    </tr>\n",
       "    <tr>\n",
       "      <th>commu</th>\n",
       "      <td>68.301887</td>\n",
       "      <td>3.018868</td>\n",
       "      <td>28.679245</td>\n",
       "    </tr>\n",
       "    <tr>\n",
       "      <th>danida</th>\n",
       "      <td>51.619048</td>\n",
       "      <td>7.904762</td>\n",
       "      <td>40.476190</td>\n",
       "    </tr>\n",
       "    <tr>\n",
       "      <th>dwe</th>\n",
       "      <td>54.206413</td>\n",
       "      <td>9.320768</td>\n",
       "      <td>36.472819</td>\n",
       "    </tr>\n",
       "    <tr>\n",
       "      <th>gov</th>\n",
       "      <td>29.315068</td>\n",
       "      <td>14.027397</td>\n",
       "      <td>56.657534</td>\n",
       "    </tr>\n",
       "    <tr>\n",
       "      <th>other</th>\n",
       "      <td>56.212344</td>\n",
       "      <td>6.024933</td>\n",
       "      <td>37.762723</td>\n",
       "    </tr>\n",
       "    <tr>\n",
       "      <th>rwe</th>\n",
       "      <td>25.207297</td>\n",
       "      <td>11.359867</td>\n",
       "      <td>63.432836</td>\n",
       "    </tr>\n",
       "  </tbody>\n",
       "</table>\n",
       "</div>"
      ],
      "text/plain": [
       "status_group  functional  functional needs repair  non functional\n",
       "installer                                                        \n",
       "Hesawa         56.547619                 2.023810       41.428571\n",
       "commu          68.301887                 3.018868       28.679245\n",
       "danida         51.619048                 7.904762       40.476190\n",
       "dwe            54.206413                 9.320768       36.472819\n",
       "gov            29.315068                14.027397       56.657534\n",
       "other          56.212344                 6.024933       37.762723\n",
       "rwe            25.207297                11.359867       63.432836"
      ]
     },
     "execution_count": 266,
     "metadata": {},
     "output_type": "execute_result"
    }
   ],
   "source": [
    "perinst_df = percentage_share(per_inst) \n",
    "\n",
    "perinst_df"
   ]
  },
  {
   "cell_type": "code",
   "execution_count": 267,
   "metadata": {},
   "outputs": [
    {
     "data": {
      "image/png": "[encoded data removed]",
      "text/plain": [
       "<Figure size 720x360 with 1 Axes>"
      ]
     },
     "metadata": {},
     "output_type": "display_data"
    }
   ],
   "source": [
    "installer = [0,1,2,3,4,5,6]\n",
    "functional = perinst_df['functional']\n",
    "nr_functional = perinst_df['functional needs repair']\n",
    "n_functional = perinst_df['non functional']\n",
    "header = perinst_df.columns.values #an array of columns headers\n",
    "\n",
    "fig = plt.figure()\n",
    "ax = plt.subplot()\n",
    "\n",
    "#Grouped bar chart\n",
    "ind = np.arange(len(installer)) #no of x ticks;\n",
    "width = 0.3 #width of the bar\n",
    "\n",
    "\n",
    "#ax.bar(position of the bar wrt the x-ticks, data, width of bar, label)\n",
    "ax.bar(ind , functional, width,label='functional')\n",
    "ax.bar(ind- width , nr_functional, width,label='functional needs repair')\n",
    "ax.bar(ind + width , n_functional, width,label='non functional')\n",
    "ax.legend(loc=9,ncol=3)\n",
    "\n",
    "ax.set_xticks([0,1,2,3,4,5,6])\n",
    "ax.set_ylim(0,80)\n",
    "#create a list of  variable names to use as labels for ticks in hor axis\n",
    "xlab=[item.get_text() for item in ax.get_xticklabels()] # list with empty strings. list length determined my the ticks seen in the plots\n",
    "# replace empty strings at even list indexes by variable names in the same order as they are present in the dataframe column names\n",
    "xlab[0]='Hesawa'\n",
    "xlab[1]='commu'\n",
    "xlab[2]='danida'\n",
    "xlab[3]='dwe'\n",
    "xlab[4]='gov'\n",
    "xlab[5]='other'\n",
    "xlab[6] ='rwe'\n",
    "\n",
    "\n",
    "\n",
    "#set the vertical axis tick labels using the list created above\n",
    "ax.set_xticklabels(xlab)\n",
    "\n",
    "for tick in ax.get_xticklabels():\n",
    "    tick.set_rotation(90)\n",
    "\n",
    "#Set the figure size so that all four panel graphs are clearly visible\n",
    "fig.set_size_inches(10,5)   \n",
    "#Set a title for the figure\n",
    "fig.suptitle(' Percentage of wells by functionaity types for the top 7 installers  '\\\n",
    "             ,y=1,fontsize=15,fontweight='bold')\n",
    "plt.show()"
   ]
  },
  {
   "cell_type": "code",
   "execution_count": 268,
   "metadata": {},
   "outputs": [
    {
     "name": "stdout",
     "output_type": "stream",
     "text": [
      "Madukani       508\n",
      "Shuleni        506\n",
      "Majengo        502\n",
      "Kati           373\n",
      "Mtakuja        262\n",
      "              ... \n",
      "Kwasekibaja      1\n",
      "Nyagudi          1\n",
      "Itembe           1\n",
      "Daghaseta        1\n",
      "Mwamazengo       1\n",
      "Name: subvillage, Length: 19287, dtype: int64\n"
     ]
    }
   ],
   "source": [
    "# As was the case with 'funder' there are some clear differences here that will hopefully\n",
    "# improve the model. The next feature to inspect is 'subvillage'.\n",
    "\n",
    "print(train_data.subvillage.value_counts())"
   ]
  },
  {
   "cell_type": "code",
   "execution_count": 269,
   "metadata": {},
   "outputs": [
    {
     "name": "stdout",
     "output_type": "stream",
     "text": [
      "Number of villages:  19287\n"
     ]
    }
   ],
   "source": [
    "print('Number of villages: ', len(train_data.subvillage.value_counts()))"
   ]
  },
  {
   "cell_type": "code",
   "execution_count": 270,
   "metadata": {},
   "outputs": [],
   "source": [
    "# 19287 unique values! The largest values don't dominate as was the case with installer and\n",
    "# funder. It's probably not worth creating dummy variables for the top 5. I'll drop this one but\n",
    "# feel free to experiment here.\n",
    "\n",
    "train_data.drop('subvillage',inplace = True, axis=1)"
   ]
  },
  {
   "cell_type": "code",
   "execution_count": 271,
   "metadata": {},
   "outputs": [
    {
     "data": {
      "text/plain": [
       "True     51011\n",
       "False     5055\n",
       "Name: public_meeting, dtype: int64"
      ]
     },
     "execution_count": 271,
     "metadata": {},
     "output_type": "execute_result"
    }
   ],
   "source": [
    "# Let's investigate the next column containg null data: 'public_meeting'.\n",
    "\n",
    "train_data.public_meeting.value_counts()"
   ]
  },
  {
   "cell_type": "code",
   "execution_count": 272,
   "metadata": {},
   "outputs": [],
   "source": [
    "# We only have two values here: true and false. This one can stay but we'll have to replace \n",
    "# the unknown data with a string value.\n",
    "\n",
    "train_data.public_meeting = train_data.public_meeting.fillna('Unknown')"
   ]
  },
  {
   "cell_type": "code",
   "execution_count": 273,
   "metadata": {},
   "outputs": [
    {
     "data": {
      "text/plain": [
       "0        True\n",
       "1     Unknown\n",
       "2        True\n",
       "3        True\n",
       "4        True\n",
       "5        True\n",
       "6        True\n",
       "7        True\n",
       "8        True\n",
       "9        True\n",
       "10       True\n",
       "11       True\n",
       "12       True\n",
       "13       True\n",
       "14       True\n",
       "15       True\n",
       "16       True\n",
       "17       True\n",
       "18    Unknown\n",
       "19       True\n",
       "Name: public_meeting, dtype: object"
      ]
     },
     "execution_count": 273,
     "metadata": {},
     "output_type": "execute_result"
    }
   ],
   "source": [
    "train_data.public_meeting.head(20)"
   ]
  },
  {
   "cell_type": "code",
   "execution_count": 274,
   "metadata": {},
   "outputs": [
    {
     "data": {
      "text/plain": [
       "VWC                 36793\n",
       "WUG                  5206\n",
       "Water authority      3153\n",
       "WUA                  2883\n",
       "Water Board          2748\n",
       "Parastatal           1680\n",
       "Private operator     1063\n",
       "Company              1061\n",
       "Other                 766\n",
       "SWC                    97\n",
       "Trust                  72\n",
       "None                    1\n",
       "Name: scheme_management, dtype: int64"
      ]
     },
     "execution_count": 274,
     "metadata": {},
     "output_type": "execute_result"
    }
   ],
   "source": [
    "\n",
    "train_data.scheme_management.value_counts()\n"
   ]
  },
  {
   "cell_type": "code",
   "execution_count": 275,
   "metadata": {},
   "outputs": [],
   "source": [
    "# Create a function to reduce the amount of dummy columns needed whilst maintaining the \n",
    "# information contained in the column.\n",
    "\n",
    "def scheme_wrangler(row):\n",
    "    '''Keep top 8 values and set the rest to 'other'. '''\n",
    "    if row['scheme_management']=='VWC':\n",
    "        return 'vwc'\n",
    "    elif row['scheme_management']=='WUG':\n",
    "        return 'wug'\n",
    "    elif row['scheme_management']=='Water authority':\n",
    "        return 'wtr_auth'\n",
    "    elif row['scheme_management']=='WUA':\n",
    "        return 'wua'\n",
    "    elif row['scheme_management']=='Water Board':\n",
    "        return 'wtr_brd'\n",
    "    elif row['scheme_management']=='Parastatal':\n",
    "        return 'Parastatal'\n",
    "    elif row['scheme_management']=='Private operator':\n",
    "        return 'pri_opr'\n",
    "    elif row['scheme_management']=='Company':\n",
    "        return 'comp'\n",
    "    else:\n",
    "        return 'other'\n",
    "\n",
    "train_data['scheme_management'] = train_data.apply(lambda row: scheme_wrangler(row), axis=1)"
   ]
  },
  {
   "cell_type": "code",
   "execution_count": 276,
   "metadata": {},
   "outputs": [
    {
     "data": {
      "text/html": [
       "<div>\n",
       "<style scoped>\n",
       "    .dataframe tbody tr th:only-of-type {\n",
       "        vertical-align: middle;\n",
       "    }\n",
       "\n",
       "    .dataframe tbody tr th {\n",
       "        vertical-align: top;\n",
       "    }\n",
       "\n",
       "    .dataframe thead th {\n",
       "        text-align: right;\n",
       "    }\n",
       "</style>\n",
       "<table border=\"1\" class=\"dataframe\">\n",
       "  <thead>\n",
       "    <tr style=\"text-align: right;\">\n",
       "      <th>status_group</th>\n",
       "      <th>functional</th>\n",
       "      <th>functional needs repair</th>\n",
       "      <th>non functional</th>\n",
       "    </tr>\n",
       "    <tr>\n",
       "      <th>scheme_management</th>\n",
       "      <th></th>\n",
       "      <th></th>\n",
       "      <th></th>\n",
       "    </tr>\n",
       "  </thead>\n",
       "  <tbody>\n",
       "    <tr>\n",
       "      <th>Parastatal</th>\n",
       "      <td>966</td>\n",
       "      <td>202</td>\n",
       "      <td>512</td>\n",
       "    </tr>\n",
       "    <tr>\n",
       "      <th>comp</th>\n",
       "      <td>534</td>\n",
       "      <td>37</td>\n",
       "      <td>490</td>\n",
       "    </tr>\n",
       "    <tr>\n",
       "      <th>other</th>\n",
       "      <td>2398</td>\n",
       "      <td>251</td>\n",
       "      <td>2164</td>\n",
       "    </tr>\n",
       "    <tr>\n",
       "      <th>pri_opr</th>\n",
       "      <td>729</td>\n",
       "      <td>23</td>\n",
       "      <td>311</td>\n",
       "    </tr>\n",
       "    <tr>\n",
       "      <th>vwc</th>\n",
       "      <td>18960</td>\n",
       "      <td>2334</td>\n",
       "      <td>15499</td>\n",
       "    </tr>\n",
       "    <tr>\n",
       "      <th>wtr_auth</th>\n",
       "      <td>1618</td>\n",
       "      <td>448</td>\n",
       "      <td>1087</td>\n",
       "    </tr>\n",
       "    <tr>\n",
       "      <th>wtr_brd</th>\n",
       "      <td>2053</td>\n",
       "      <td>111</td>\n",
       "      <td>584</td>\n",
       "    </tr>\n",
       "    <tr>\n",
       "      <th>wua</th>\n",
       "      <td>1995</td>\n",
       "      <td>239</td>\n",
       "      <td>649</td>\n",
       "    </tr>\n",
       "  </tbody>\n",
       "</table>\n",
       "</div>"
      ],
      "text/plain": [
       "status_group       functional  functional needs repair  non functional\n",
       "scheme_management                                                     \n",
       "Parastatal                966                      202             512\n",
       "comp                      534                       37             490\n",
       "other                    2398                      251            2164\n",
       "pri_opr                   729                       23             311\n",
       "vwc                     18960                     2334           15499\n",
       "wtr_auth                 1618                      448            1087\n",
       "wtr_brd                  2053                      111             584\n",
       "wua                      1995                      239             649"
      ]
     },
     "execution_count": 276,
     "metadata": {},
     "output_type": "execute_result"
    }
   ],
   "source": [
    "per_sch_mgmt = train_data.groupby(['scheme_management','status_group'])['status_group_vals']\\\n",
    "                                                .count() \\\n",
    "                                                .unstack() \\\n",
    "                                                .reset_index() \\\n",
    "                                                 .fillna(0) \\\n",
    "                                            .set_index('scheme_management')\n",
    "per_sch_mgmt.head(8)"
   ]
  },
  {
   "cell_type": "code",
   "execution_count": 277,
   "metadata": {},
   "outputs": [
    {
     "data": {
      "text/html": [
       "<div>\n",
       "<style scoped>\n",
       "    .dataframe tbody tr th:only-of-type {\n",
       "        vertical-align: middle;\n",
       "    }\n",
       "\n",
       "    .dataframe tbody tr th {\n",
       "        vertical-align: top;\n",
       "    }\n",
       "\n",
       "    .dataframe thead th {\n",
       "        text-align: right;\n",
       "    }\n",
       "</style>\n",
       "<table border=\"1\" class=\"dataframe\">\n",
       "  <thead>\n",
       "    <tr style=\"text-align: right;\">\n",
       "      <th>status_group</th>\n",
       "      <th>functional</th>\n",
       "      <th>functional needs repair</th>\n",
       "      <th>non functional</th>\n",
       "      <th>total</th>\n",
       "    </tr>\n",
       "    <tr>\n",
       "      <th>scheme_management</th>\n",
       "      <th></th>\n",
       "      <th></th>\n",
       "      <th></th>\n",
       "      <th></th>\n",
       "    </tr>\n",
       "  </thead>\n",
       "  <tbody>\n",
       "    <tr>\n",
       "      <th>Parastatal</th>\n",
       "      <td>966</td>\n",
       "      <td>202</td>\n",
       "      <td>512</td>\n",
       "      <td>1680</td>\n",
       "    </tr>\n",
       "    <tr>\n",
       "      <th>comp</th>\n",
       "      <td>534</td>\n",
       "      <td>37</td>\n",
       "      <td>490</td>\n",
       "      <td>1061</td>\n",
       "    </tr>\n",
       "    <tr>\n",
       "      <th>other</th>\n",
       "      <td>2398</td>\n",
       "      <td>251</td>\n",
       "      <td>2164</td>\n",
       "      <td>4813</td>\n",
       "    </tr>\n",
       "    <tr>\n",
       "      <th>pri_opr</th>\n",
       "      <td>729</td>\n",
       "      <td>23</td>\n",
       "      <td>311</td>\n",
       "      <td>1063</td>\n",
       "    </tr>\n",
       "    <tr>\n",
       "      <th>vwc</th>\n",
       "      <td>18960</td>\n",
       "      <td>2334</td>\n",
       "      <td>15499</td>\n",
       "      <td>36793</td>\n",
       "    </tr>\n",
       "    <tr>\n",
       "      <th>wtr_auth</th>\n",
       "      <td>1618</td>\n",
       "      <td>448</td>\n",
       "      <td>1087</td>\n",
       "      <td>3153</td>\n",
       "    </tr>\n",
       "    <tr>\n",
       "      <th>wtr_brd</th>\n",
       "      <td>2053</td>\n",
       "      <td>111</td>\n",
       "      <td>584</td>\n",
       "      <td>2748</td>\n",
       "    </tr>\n",
       "    <tr>\n",
       "      <th>wua</th>\n",
       "      <td>1995</td>\n",
       "      <td>239</td>\n",
       "      <td>649</td>\n",
       "      <td>2883</td>\n",
       "    </tr>\n",
       "    <tr>\n",
       "      <th>wug</th>\n",
       "      <td>3006</td>\n",
       "      <td>672</td>\n",
       "      <td>1528</td>\n",
       "      <td>5206</td>\n",
       "    </tr>\n",
       "  </tbody>\n",
       "</table>\n",
       "</div>"
      ],
      "text/plain": [
       "status_group       functional  functional needs repair  non functional  total\n",
       "scheme_management                                                            \n",
       "Parastatal                966                      202             512   1680\n",
       "comp                      534                       37             490   1061\n",
       "other                    2398                      251            2164   4813\n",
       "pri_opr                   729                       23             311   1063\n",
       "vwc                     18960                     2334           15499  36793\n",
       "wtr_auth                 1618                      448            1087   3153\n",
       "wtr_brd                  2053                      111             584   2748\n",
       "wua                      1995                      239             649   2883\n",
       "wug                      3006                      672            1528   5206"
      ]
     },
     "execution_count": 277,
     "metadata": {},
     "output_type": "execute_result"
    }
   ],
   "source": [
    "per_sch_mgmt['total'] = per_sch_mgmt.sum(axis=1)\n",
    "\n",
    "per_sch_mgmt"
   ]
  },
  {
   "cell_type": "code",
   "execution_count": 278,
   "metadata": {},
   "outputs": [
    {
     "data": {
      "text/html": [
       "<div>\n",
       "<style scoped>\n",
       "    .dataframe tbody tr th:only-of-type {\n",
       "        vertical-align: middle;\n",
       "    }\n",
       "\n",
       "    .dataframe tbody tr th {\n",
       "        vertical-align: top;\n",
       "    }\n",
       "\n",
       "    .dataframe thead th {\n",
       "        text-align: right;\n",
       "    }\n",
       "</style>\n",
       "<table border=\"1\" class=\"dataframe\">\n",
       "  <thead>\n",
       "    <tr style=\"text-align: right;\">\n",
       "      <th>status_group</th>\n",
       "      <th>functional</th>\n",
       "      <th>functional needs repair</th>\n",
       "      <th>non functional</th>\n",
       "    </tr>\n",
       "    <tr>\n",
       "      <th>scheme_management</th>\n",
       "      <th></th>\n",
       "      <th></th>\n",
       "      <th></th>\n",
       "    </tr>\n",
       "  </thead>\n",
       "  <tbody>\n",
       "    <tr>\n",
       "      <th>Parastatal</th>\n",
       "      <td>57.500000</td>\n",
       "      <td>12.023810</td>\n",
       "      <td>30.476190</td>\n",
       "    </tr>\n",
       "    <tr>\n",
       "      <th>comp</th>\n",
       "      <td>50.329877</td>\n",
       "      <td>3.487276</td>\n",
       "      <td>46.182846</td>\n",
       "    </tr>\n",
       "    <tr>\n",
       "      <th>other</th>\n",
       "      <td>49.823395</td>\n",
       "      <td>5.215043</td>\n",
       "      <td>44.961562</td>\n",
       "    </tr>\n",
       "    <tr>\n",
       "      <th>pri_opr</th>\n",
       "      <td>68.579492</td>\n",
       "      <td>2.163688</td>\n",
       "      <td>29.256820</td>\n",
       "    </tr>\n",
       "    <tr>\n",
       "      <th>vwc</th>\n",
       "      <td>51.531541</td>\n",
       "      <td>6.343598</td>\n",
       "      <td>42.124861</td>\n",
       "    </tr>\n",
       "    <tr>\n",
       "      <th>wtr_auth</th>\n",
       "      <td>51.316207</td>\n",
       "      <td>14.208690</td>\n",
       "      <td>34.475103</td>\n",
       "    </tr>\n",
       "    <tr>\n",
       "      <th>wtr_brd</th>\n",
       "      <td>74.708879</td>\n",
       "      <td>4.039301</td>\n",
       "      <td>21.251820</td>\n",
       "    </tr>\n",
       "    <tr>\n",
       "      <th>wua</th>\n",
       "      <td>69.198751</td>\n",
       "      <td>8.289976</td>\n",
       "      <td>22.511273</td>\n",
       "    </tr>\n",
       "    <tr>\n",
       "      <th>wug</th>\n",
       "      <td>57.741068</td>\n",
       "      <td>12.908183</td>\n",
       "      <td>29.350749</td>\n",
       "    </tr>\n",
       "  </tbody>\n",
       "</table>\n",
       "</div>"
      ],
      "text/plain": [
       "status_group       functional  functional needs repair  non functional\n",
       "scheme_management                                                     \n",
       "Parastatal          57.500000                12.023810       30.476190\n",
       "comp                50.329877                 3.487276       46.182846\n",
       "other               49.823395                 5.215043       44.961562\n",
       "pri_opr             68.579492                 2.163688       29.256820\n",
       "vwc                 51.531541                 6.343598       42.124861\n",
       "wtr_auth            51.316207                14.208690       34.475103\n",
       "wtr_brd             74.708879                 4.039301       21.251820\n",
       "wua                 69.198751                 8.289976       22.511273\n",
       "wug                 57.741068                12.908183       29.350749"
      ]
     },
     "execution_count": 278,
     "metadata": {},
     "output_type": "execute_result"
    }
   ],
   "source": [
    "#calculating the percentage\n",
    "per_sch_mgmt_df = percentage_share(per_sch_mgmt) \n",
    "\n",
    "per_sch_mgmt_df"
   ]
  },
  {
   "cell_type": "code",
   "execution_count": 279,
   "metadata": {},
   "outputs": [
    {
     "data": {
      "image/png": "[encoded data removed]",
      "text/plain": [
       "<Figure size 720x360 with 1 Axes>"
      ]
     },
     "metadata": {},
     "output_type": "display_data"
    }
   ],
   "source": [
    "scheme_management = [0,1,2,3,4,5,6,7,8]\n",
    "functional = per_sch_mgmt_df['functional']\n",
    "nr_functional = per_sch_mgmt_df['functional needs repair']\n",
    "n_functional = per_sch_mgmt_df['non functional']\n",
    "header = per_sch_mgmt_df.columns.values #an array of columns headers\n",
    "\n",
    "fig = plt.figure()\n",
    "ax = plt.subplot()\n",
    "\n",
    "#Grouped bar chart\n",
    "ind = np.arange(len(scheme_management)) #no of x ticks;\n",
    "width = 0.3 #width of the bar\n",
    "\n",
    "\n",
    "#ax.bar(position of the bar wrt the x-ticks, data, width of bar, label)\n",
    "ax.bar(ind , functional, width,label='functional')\n",
    "ax.bar(ind- width , nr_functional, width,label='functional needs repair')\n",
    "ax.bar(ind + width , n_functional, width,label='non functional')\n",
    "ax.legend(loc=9,ncol=3)\n",
    "\n",
    "ax.set_xticks([0,1,2,3,4,5,6,7,8])\n",
    "ax.set_ylim(0,80)\n",
    "#create a list of  variable names to use as labels for ticks in hor axis\n",
    "xlab=[item.get_text() for item in ax.get_xticklabels()] # list with empty strings. list length determined my the ticks seen in the plots\n",
    "# replace empty strings at even list indexes by variable names in the same order as they are present in the dataframe column names\n",
    "xlab[0]='Parastatal'\n",
    "xlab[1]='comp'\n",
    "xlab[2]='other'\n",
    "xlab[3]='pri_opr'\n",
    "xlab[4]='vwc'\n",
    "xlab[5]='wtr_auth'\n",
    "xlab[6] ='wtr_brd'\n",
    "xlab[7] ='wua'\n",
    "xlab[8] ='wug'\n",
    "\n",
    "\n",
    "\n",
    "#set the vertical axis tick labels using the list created above\n",
    "ax.set_xticklabels(xlab)\n",
    "\n",
    "#for i,v in enumerate(functional):\n",
    "    #.text(i-.25,v+10,functional[i],fomtsize=8)\n",
    "\n",
    "\n",
    "for tick in ax.get_xticklabels():\n",
    "    tick.set_rotation(90)\n",
    "\n",
    "#Set the figure size so that all four panel graphs are clearly visible\n",
    "fig.set_size_inches(10,5)   \n",
    "#Set a title for the figure\n",
    "fig.suptitle(' Percentage of wells by functionaity types for the top 9 Schmeme Manager  '\\\n",
    "             ,y=1,fontsize=15,fontweight='bold')\n",
    "plt.show()"
   ]
  },
  {
   "cell_type": "code",
   "execution_count": 280,
   "metadata": {},
   "outputs": [
    {
     "data": {
      "text/plain": [
       "K                         682\n",
       "None                      644\n",
       "Borehole                  546\n",
       "Chalinze wate             405\n",
       "M                         400\n",
       "                         ... \n",
       "Michee Borehole Scheme      1\n",
       "Mirumba                     1\n",
       "Hivuga Water Supply         1\n",
       "Kayugi spring source        1\n",
       "Mugoma spring source        1\n",
       "Name: scheme_name, Length: 2696, dtype: int64"
      ]
     },
     "execution_count": 280,
     "metadata": {},
     "output_type": "execute_result"
    }
   ],
   "source": [
    "train_data.scheme_name.value_counts()"
   ]
  },
  {
   "cell_type": "code",
   "execution_count": 281,
   "metadata": {},
   "outputs": [
    {
     "data": {
      "text/plain": [
       "2697"
      ]
     },
     "execution_count": 281,
     "metadata": {},
     "output_type": "execute_result"
    }
   ],
   "source": [
    "len(train_data.scheme_name.unique())"
   ]
  },
  {
   "cell_type": "code",
   "execution_count": 282,
   "metadata": {},
   "outputs": [],
   "source": [
    "# Lots of factors and the top 5 or so only represent a fraction of the total values. Probably \n",
    "# safe to drop this column.\n",
    "\n",
    "train_data.drop('scheme_name',inplace = True , axis=1)"
   ]
  },
  {
   "cell_type": "code",
   "execution_count": 283,
   "metadata": {},
   "outputs": [
    {
     "data": {
      "text/plain": [
       "True     38852\n",
       "False    17492\n",
       "Name: permit, dtype: int64"
      ]
     },
     "execution_count": 283,
     "metadata": {},
     "output_type": "execute_result"
    }
   ],
   "source": [
    "# The final column containing nulls is 'permit'.\n",
    "\n",
    "train_data.permit.value_counts()"
   ]
  },
  {
   "cell_type": "code",
   "execution_count": 284,
   "metadata": {},
   "outputs": [],
   "source": [
    "# We only have two values here: true and false. This one can stay but we'll have to replace \n",
    "# the unknown data with a string value.\n",
    "\n",
    "train_data.permit = train_data.permit.fillna('Unknown')"
   ]
  },
  {
   "cell_type": "code",
   "execution_count": 285,
   "metadata": {},
   "outputs": [
    {
     "data": {
      "text/plain": [
       "<seaborn.axisgrid.FacetGrid at 0x1a1c078550>"
      ]
     },
     "execution_count": 285,
     "metadata": {},
     "output_type": "execute_result"
    },
    {
     "data": {
      "image/png": "[encoded data removed]",
      "text/plain": [
       "<Figure size 360x360 with 1 Axes>"
      ]
     },
     "metadata": {},
     "output_type": "display_data"
    }
   ],
   "source": [
    "sns.catplot(x=\"permit\", kind=\"count\",palette=\"pastel\", edgecolor=\".6\",data=train_data)"
   ]
  },
  {
   "cell_type": "code",
   "execution_count": 286,
   "metadata": {},
   "outputs": [
    {
     "data": {
      "text/plain": [
       "date_recorded              356\n",
       "funder                      10\n",
       "installer                    7\n",
       "wpt_name                 37400\n",
       "basin                        9\n",
       "region                      21\n",
       "lga                        125\n",
       "ward                      2092\n",
       "public_meeting               3\n",
       "recorded_by                  1\n",
       "scheme_management            9\n",
       "permit                       3\n",
       "extraction_type             18\n",
       "extraction_type_group       13\n",
       "extraction_type_class        7\n",
       "management                  12\n",
       "management_group             5\n",
       "payment                      7\n",
       "payment_type                 7\n",
       "water_quality                8\n",
       "quality_group                6\n",
       "quantity                     5\n",
       "quantity_group               5\n",
       "source                      10\n",
       "source_type                  7\n",
       "source_class                 3\n",
       "waterpoint_type              7\n",
       "waterpoint_type_group        6\n",
       "status_group                 3\n",
       "dtype: int64"
      ]
     },
     "execution_count": 286,
     "metadata": {},
     "output_type": "execute_result"
    }
   ],
   "source": [
    "# Excellent! Now there are no nulls in the data set. We can move on to look at columns with \n",
    "# string values and modify or remove them as we see fit.\n",
    "\n",
    "str_cols = train_data.select_dtypes(include = ['object'])\n",
    "str_cols.apply(lambda x: len(x.unique()))"
   ]
  },
  {
   "cell_type": "code",
   "execution_count": 287,
   "metadata": {},
   "outputs": [
    {
     "data": {
      "text/plain": [
       "id                       0\n",
       "amount_tsh               0\n",
       "date_recorded            0\n",
       "funder                   0\n",
       "gps_height               0\n",
       "installer                0\n",
       "longitude                0\n",
       "latitude                 0\n",
       "wpt_name                 0\n",
       "num_private              0\n",
       "basin                    0\n",
       "region                   0\n",
       "region_code              0\n",
       "district_code            0\n",
       "lga                      0\n",
       "ward                     0\n",
       "population               0\n",
       "public_meeting           0\n",
       "recorded_by              0\n",
       "scheme_management        0\n",
       "permit                   0\n",
       "construction_year        0\n",
       "extraction_type          0\n",
       "extraction_type_group    0\n",
       "extraction_type_class    0\n",
       "management               0\n",
       "management_group         0\n",
       "payment                  0\n",
       "payment_type             0\n",
       "water_quality            0\n",
       "quality_group            0\n",
       "quantity                 0\n",
       "quantity_group           0\n",
       "source                   0\n",
       "source_type              0\n",
       "source_class             0\n",
       "waterpoint_type          0\n",
       "waterpoint_type_group    0\n",
       "status_group             0\n",
       "status_group_vals        0\n",
       "dtype: int64"
      ]
     },
     "execution_count": 287,
     "metadata": {},
     "output_type": "execute_result"
    }
   ],
   "source": [
    "\n",
    "train_data.apply(lambda x: sum(x.isnull()))"
   ]
  },
  {
   "cell_type": "code",
   "execution_count": 288,
   "metadata": {},
   "outputs": [
    {
     "data": {
      "text/plain": [
       "count          59400\n",
       "unique           356\n",
       "top       2011-03-15\n",
       "freq             572\n",
       "Name: date_recorded, dtype: object"
      ]
     },
     "execution_count": 288,
     "metadata": {},
     "output_type": "execute_result"
    }
   ],
   "source": [
    "# 'Date recorded'\n",
    "\n",
    "train_data.date_recorded.describe()"
   ]
  },
  {
   "cell_type": "code",
   "execution_count": 289,
   "metadata": {},
   "outputs": [],
   "source": [
    "import datetime"
   ]
  },
  {
   "cell_type": "code",
   "execution_count": 290,
   "metadata": {},
   "outputs": [],
   "source": [
    "train_data['year'] = pd.DatetimeIndex(train_data['date_recorded']).year"
   ]
  },
  {
   "cell_type": "code",
   "execution_count": 291,
   "metadata": {},
   "outputs": [],
   "source": [
    "op_years = list(train_data.year-train_data.construction_year)\n",
    "operational_years = []\n",
    "for i in op_years:\n",
    "    if (i > 500) or (i < 0):\n",
    "        operational_years.append(0)\n",
    "    else:\n",
    "        operational_years.append(i)\n",
    "train_data['operational_years'] = operational_years"
   ]
  },
  {
   "cell_type": "code",
   "execution_count": 292,
   "metadata": {},
   "outputs": [
    {
     "data": {
      "text/plain": [
       "0        12\n",
       "1         3\n",
       "2         4\n",
       "3        27\n",
       "4         0\n",
       "         ..\n",
       "59395    14\n",
       "59396    15\n",
       "59397     0\n",
       "59398     0\n",
       "59399     9\n",
       "Name: operational_years, Length: 59400, dtype: int64"
      ]
     },
     "execution_count": 292,
     "metadata": {},
     "output_type": "execute_result"
    }
   ],
   "source": [
    "train_data.operational_years"
   ]
  },
  {
   "cell_type": "code",
   "execution_count": 293,
   "metadata": {},
   "outputs": [
    {
     "data": {
      "text/html": [
       "<div>\n",
       "<style scoped>\n",
       "    .dataframe tbody tr th:only-of-type {\n",
       "        vertical-align: middle;\n",
       "    }\n",
       "\n",
       "    .dataframe tbody tr th {\n",
       "        vertical-align: top;\n",
       "    }\n",
       "\n",
       "    .dataframe thead th {\n",
       "        text-align: right;\n",
       "    }\n",
       "</style>\n",
       "<table border=\"1\" class=\"dataframe\">\n",
       "  <thead>\n",
       "    <tr style=\"text-align: right;\">\n",
       "      <th></th>\n",
       "      <th></th>\n",
       "      <th>status_group_vals</th>\n",
       "    </tr>\n",
       "    <tr>\n",
       "      <th>operational_years</th>\n",
       "      <th>status_group</th>\n",
       "      <th></th>\n",
       "    </tr>\n",
       "  </thead>\n",
       "  <tbody>\n",
       "    <tr>\n",
       "      <th rowspan=\"3\" valign=\"top\">0</th>\n",
       "      <th>functional</th>\n",
       "      <td>10972</td>\n",
       "    </tr>\n",
       "    <tr>\n",
       "      <th>functional needs repair</th>\n",
       "      <td>1800</td>\n",
       "    </tr>\n",
       "    <tr>\n",
       "      <th>non functional</th>\n",
       "      <td>8534</td>\n",
       "    </tr>\n",
       "    <tr>\n",
       "      <th rowspan=\"2\" valign=\"top\">1</th>\n",
       "      <th>functional</th>\n",
       "      <td>1754</td>\n",
       "    </tr>\n",
       "    <tr>\n",
       "      <th>functional needs repair</th>\n",
       "      <td>66</td>\n",
       "    </tr>\n",
       "    <tr>\n",
       "      <th>...</th>\n",
       "      <th>...</th>\n",
       "      <td>...</td>\n",
       "    </tr>\n",
       "    <tr>\n",
       "      <th rowspan=\"2\" valign=\"top\">52</th>\n",
       "      <th>functional needs repair</th>\n",
       "      <td>3</td>\n",
       "    </tr>\n",
       "    <tr>\n",
       "      <th>non functional</th>\n",
       "      <td>7</td>\n",
       "    </tr>\n",
       "    <tr>\n",
       "      <th rowspan=\"3\" valign=\"top\">53</th>\n",
       "      <th>functional</th>\n",
       "      <td>23</td>\n",
       "    </tr>\n",
       "    <tr>\n",
       "      <th>functional needs repair</th>\n",
       "      <td>6</td>\n",
       "    </tr>\n",
       "    <tr>\n",
       "      <th>non functional</th>\n",
       "      <td>62</td>\n",
       "    </tr>\n",
       "  </tbody>\n",
       "</table>\n",
       "<p>160 rows × 1 columns</p>\n",
       "</div>"
      ],
      "text/plain": [
       "                                           status_group_vals\n",
       "operational_years status_group                              \n",
       "0                 functional                           10972\n",
       "                  functional needs repair               1800\n",
       "                  non functional                        8534\n",
       "1                 functional                            1754\n",
       "                  functional needs repair                 66\n",
       "...                                                      ...\n",
       "52                functional needs repair                  3\n",
       "                  non functional                           7\n",
       "53                functional                              23\n",
       "                  functional needs repair                  6\n",
       "                  non functional                          62\n",
       "\n",
       "[160 rows x 1 columns]"
      ]
     },
     "execution_count": 293,
     "metadata": {},
     "output_type": "execute_result"
    }
   ],
   "source": [
    "piv_table = pd.pivot_table(train_data, index=['operational_years', 'status_group'],\n",
    "                           values=['status_group_vals'], aggfunc='count')\n",
    "piv_table"
   ]
  },
  {
   "cell_type": "code",
   "execution_count": 294,
   "metadata": {},
   "outputs": [
    {
     "data": {
      "image/png": "[encoded data removed]",
      "text/plain": [
       "<Figure size 720x360 with 1 Axes>"
      ]
     },
     "metadata": {},
     "output_type": "display_data"
    }
   ],
   "source": [
    "yr = []\n",
    "functional = []\n",
    "nr_functional = []\n",
    "n_functional = []\n",
    "\n",
    "for i in range(1,25):\n",
    "    yr.append(i)\n",
    "    functional.append(piv_table.loc[i].loc['functional'][0])\n",
    "    nr_functional.append(piv_table.loc[i].loc['functional needs repair'][0])\n",
    "    n_functional.append(piv_table.loc[i].loc['non functional'][0])\n",
    "    \n",
    "    \n",
    "    \n",
    "header = per_sch_mgmt_df.columns.values #an array of columns headers\n",
    "\n",
    "fig = plt.figure()\n",
    "ax = plt.subplot()\n",
    "\n",
    "#Grouped bar chart\n",
    "ind = np.arange(len(yr)) #no of x ticks;\n",
    "width = 0.3 #width of the bar\n",
    "\n",
    "\n",
    "#ax.bar(position of the bar wrt the x-ticks, data, width of bar, label)\n",
    "ax.bar(ind , functional, width,label='functional')\n",
    "ax.bar(ind- width , nr_functional, width,label='functional needs repair')\n",
    "ax.bar(ind + width , n_functional, width,label='non functional')\n",
    "ax.legend(loc=9,ncol=3)\n",
    "\n",
    "\n",
    "\n",
    "for tick in ax.get_xticklabels():\n",
    "    tick.set_rotation(90)\n",
    "\n",
    "#Set the figure size so that all four panel graphs are clearly visible\n",
    "fig.set_size_inches(10,5)   \n",
    "#Set a title for the figure\n",
    "fig.suptitle(' Percentage of wells by functionaity types for 25 operational years   '\\\n",
    "             ,y=1,fontsize=15,fontweight='bold')\n",
    "plt.show()\n",
    "   "
   ]
  },
  {
   "cell_type": "code",
   "execution_count": 295,
   "metadata": {},
   "outputs": [],
   "source": [
    "train_data.drop('date_recorded',inplace = True , axis=1)"
   ]
  },
  {
   "cell_type": "code",
   "execution_count": 296,
   "metadata": {},
   "outputs": [],
   "source": [
    "train_data.drop('year',inplace = True , axis=1)"
   ]
  },
  {
   "cell_type": "code",
   "execution_count": 297,
   "metadata": {},
   "outputs": [
    {
     "data": {
      "text/plain": [
       "none                         3563\n",
       "Shuleni                      1748\n",
       "Zahanati                      830\n",
       "Msikitini                     535\n",
       "Kanisani                      323\n",
       "                             ... \n",
       "Kwa Keneth Mlimbila             1\n",
       "Mchinga Ii Primary School       1\n",
       "Ipoja                           1\n",
       "Arkaria Primary School          1\n",
       "Kwa Fiderick Ipanta             1\n",
       "Name: wpt_name, Length: 37400, dtype: int64"
      ]
     },
     "execution_count": 297,
     "metadata": {},
     "output_type": "execute_result"
    }
   ],
   "source": [
    "# There's a wide range of data here hopefully it will help improve the predictive power of our\n",
    "# models. Next up for inspection is 'wpt_name' (Name of the waterpoint if there is one).\n",
    "\n",
    "train_data.wpt_name.value_counts()"
   ]
  },
  {
   "cell_type": "code",
   "execution_count": 298,
   "metadata": {},
   "outputs": [],
   "source": [
    "# Due to the huge number of factors and the lack of a clear dominating value I'll drop this.\n",
    "# I may come back and include the top 5 later. Next up is 'basin'.\n",
    "\n",
    "train_data.drop('wpt_name',inplace = True , axis=1)"
   ]
  },
  {
   "cell_type": "code",
   "execution_count": 299,
   "metadata": {},
   "outputs": [
    {
     "data": {
      "text/plain": [
       "Lake Victoria              10248\n",
       "Pangani                     8940\n",
       "Rufiji                      7976\n",
       "Internal                    7785\n",
       "Lake Tanganyika             6432\n",
       "Wami / Ruvu                 5987\n",
       "Lake Nyasa                  5085\n",
       "Ruvuma / Southern Coast     4493\n",
       "Lake Rukwa                  2454\n",
       "Name: basin, dtype: int64"
      ]
     },
     "execution_count": 299,
     "metadata": {},
     "output_type": "execute_result"
    }
   ],
   "source": [
    "train_data.basin.value_counts()"
   ]
  },
  {
   "cell_type": "code",
   "execution_count": 300,
   "metadata": {},
   "outputs": [
    {
     "data": {
      "text/html": [
       "<div>\n",
       "<style scoped>\n",
       "    .dataframe tbody tr th:only-of-type {\n",
       "        vertical-align: middle;\n",
       "    }\n",
       "\n",
       "    .dataframe tbody tr th {\n",
       "        vertical-align: top;\n",
       "    }\n",
       "\n",
       "    .dataframe thead th {\n",
       "        text-align: right;\n",
       "    }\n",
       "</style>\n",
       "<table border=\"1\" class=\"dataframe\">\n",
       "  <thead>\n",
       "    <tr style=\"text-align: right;\">\n",
       "      <th></th>\n",
       "      <th></th>\n",
       "      <th>status_group_vals</th>\n",
       "    </tr>\n",
       "    <tr>\n",
       "      <th>basin</th>\n",
       "      <th>status_group</th>\n",
       "      <th></th>\n",
       "    </tr>\n",
       "  </thead>\n",
       "  <tbody>\n",
       "    <tr>\n",
       "      <th rowspan=\"3\" valign=\"top\">Internal</th>\n",
       "      <th>functional</th>\n",
       "      <td>4482</td>\n",
       "    </tr>\n",
       "    <tr>\n",
       "      <th>functional needs repair</th>\n",
       "      <td>557</td>\n",
       "    </tr>\n",
       "    <tr>\n",
       "      <th>non functional</th>\n",
       "      <td>2746</td>\n",
       "    </tr>\n",
       "    <tr>\n",
       "      <th rowspan=\"3\" valign=\"top\">Lake Nyasa</th>\n",
       "      <th>functional</th>\n",
       "      <td>3324</td>\n",
       "    </tr>\n",
       "    <tr>\n",
       "      <th>functional needs repair</th>\n",
       "      <td>250</td>\n",
       "    </tr>\n",
       "    <tr>\n",
       "      <th>non functional</th>\n",
       "      <td>1511</td>\n",
       "    </tr>\n",
       "    <tr>\n",
       "      <th rowspan=\"3\" valign=\"top\">Lake Rukwa</th>\n",
       "      <th>functional</th>\n",
       "      <td>1000</td>\n",
       "    </tr>\n",
       "    <tr>\n",
       "      <th>functional needs repair</th>\n",
       "      <td>270</td>\n",
       "    </tr>\n",
       "    <tr>\n",
       "      <th>non functional</th>\n",
       "      <td>1184</td>\n",
       "    </tr>\n",
       "    <tr>\n",
       "      <th rowspan=\"3\" valign=\"top\">Lake Tanganyika</th>\n",
       "      <th>functional</th>\n",
       "      <td>3107</td>\n",
       "    </tr>\n",
       "    <tr>\n",
       "      <th>functional needs repair</th>\n",
       "      <td>742</td>\n",
       "    </tr>\n",
       "    <tr>\n",
       "      <th>non functional</th>\n",
       "      <td>2583</td>\n",
       "    </tr>\n",
       "    <tr>\n",
       "      <th rowspan=\"3\" valign=\"top\">Lake Victoria</th>\n",
       "      <th>functional</th>\n",
       "      <td>5100</td>\n",
       "    </tr>\n",
       "    <tr>\n",
       "      <th>functional needs repair</th>\n",
       "      <td>989</td>\n",
       "    </tr>\n",
       "    <tr>\n",
       "      <th>non functional</th>\n",
       "      <td>4159</td>\n",
       "    </tr>\n",
       "    <tr>\n",
       "      <th rowspan=\"3\" valign=\"top\">Pangani</th>\n",
       "      <th>functional</th>\n",
       "      <td>5372</td>\n",
       "    </tr>\n",
       "    <tr>\n",
       "      <th>functional needs repair</th>\n",
       "      <td>477</td>\n",
       "    </tr>\n",
       "    <tr>\n",
       "      <th>non functional</th>\n",
       "      <td>3091</td>\n",
       "    </tr>\n",
       "    <tr>\n",
       "      <th rowspan=\"3\" valign=\"top\">Rufiji</th>\n",
       "      <th>functional</th>\n",
       "      <td>5068</td>\n",
       "    </tr>\n",
       "    <tr>\n",
       "      <th>functional needs repair</th>\n",
       "      <td>437</td>\n",
       "    </tr>\n",
       "    <tr>\n",
       "      <th>non functional</th>\n",
       "      <td>2471</td>\n",
       "    </tr>\n",
       "    <tr>\n",
       "      <th rowspan=\"3\" valign=\"top\">Ruvuma / Southern Coast</th>\n",
       "      <th>functional</th>\n",
       "      <td>1670</td>\n",
       "    </tr>\n",
       "    <tr>\n",
       "      <th>functional needs repair</th>\n",
       "      <td>326</td>\n",
       "    </tr>\n",
       "    <tr>\n",
       "      <th>non functional</th>\n",
       "      <td>2497</td>\n",
       "    </tr>\n",
       "    <tr>\n",
       "      <th rowspan=\"3\" valign=\"top\">Wami / Ruvu</th>\n",
       "      <th>functional</th>\n",
       "      <td>3136</td>\n",
       "    </tr>\n",
       "    <tr>\n",
       "      <th>functional needs repair</th>\n",
       "      <td>269</td>\n",
       "    </tr>\n",
       "    <tr>\n",
       "      <th>non functional</th>\n",
       "      <td>2582</td>\n",
       "    </tr>\n",
       "  </tbody>\n",
       "</table>\n",
       "</div>"
      ],
      "text/plain": [
       "                                                 status_group_vals\n",
       "basin                   status_group                              \n",
       "Internal                functional                            4482\n",
       "                        functional needs repair                557\n",
       "                        non functional                        2746\n",
       "Lake Nyasa              functional                            3324\n",
       "                        functional needs repair                250\n",
       "                        non functional                        1511\n",
       "Lake Rukwa              functional                            1000\n",
       "                        functional needs repair                270\n",
       "                        non functional                        1184\n",
       "Lake Tanganyika         functional                            3107\n",
       "                        functional needs repair                742\n",
       "                        non functional                        2583\n",
       "Lake Victoria           functional                            5100\n",
       "                        functional needs repair                989\n",
       "                        non functional                        4159\n",
       "Pangani                 functional                            5372\n",
       "                        functional needs repair                477\n",
       "                        non functional                        3091\n",
       "Rufiji                  functional                            5068\n",
       "                        functional needs repair                437\n",
       "                        non functional                        2471\n",
       "Ruvuma / Southern Coast functional                            1670\n",
       "                        functional needs repair                326\n",
       "                        non functional                        2497\n",
       "Wami / Ruvu             functional                            3136\n",
       "                        functional needs repair                269\n",
       "                        non functional                        2582"
      ]
     },
     "execution_count": 300,
     "metadata": {},
     "output_type": "execute_result"
    }
   ],
   "source": [
    "piv_table = pd.pivot_table(train_data, index=['basin', 'status_group'],\n",
    "                           values=['status_group_vals'], aggfunc='count')\n",
    "piv_table"
   ]
  },
  {
   "cell_type": "code",
   "execution_count": 301,
   "metadata": {},
   "outputs": [],
   "source": [
    "# Most basins have have more functional than non-functional pumps. Lake Rukwa\n",
    "# and Ruvuma don't. All the values are over 2000 so this looks like a good feature to keep.\n",
    "# Region will be considered next."
   ]
  },
  {
   "cell_type": "code",
   "execution_count": 302,
   "metadata": {},
   "outputs": [
    {
     "data": {
      "text/plain": [
       "Iringa           5294\n",
       "Shinyanga        4982\n",
       "Mbeya            4639\n",
       "Kilimanjaro      4379\n",
       "Morogoro         4006\n",
       "Arusha           3350\n",
       "Kagera           3316\n",
       "Mwanza           3102\n",
       "Kigoma           2816\n",
       "Ruvuma           2640\n",
       "Pwani            2635\n",
       "Tanga            2547\n",
       "Dodoma           2201\n",
       "Singida          2093\n",
       "Mara             1969\n",
       "Tabora           1959\n",
       "Rukwa            1808\n",
       "Mtwara           1730\n",
       "Manyara          1583\n",
       "Lindi            1546\n",
       "Dar es Salaam     805\n",
       "Name: region, dtype: int64"
      ]
     },
     "execution_count": 302,
     "metadata": {},
     "output_type": "execute_result"
    }
   ],
   "source": [
    "\n",
    "train_data.region.value_counts()"
   ]
  },
  {
   "cell_type": "code",
   "execution_count": 303,
   "metadata": {},
   "outputs": [],
   "source": [
    "# Both basin, lga, ward and region contain geographical information so there is a risk of them being\n",
    "# highly correlated with each other. I'll drop then for now.\n",
    "# They could be be worth including though, so I may come back to them.\n",
    "train_data.drop(['region', 'lga', 'ward'],inplace = True, axis=1)"
   ]
  },
  {
   "cell_type": "code",
   "execution_count": 304,
   "metadata": {},
   "outputs": [
    {
     "data": {
      "text/plain": [
       "count        1.0\n",
       "mean     59400.0\n",
       "std          NaN\n",
       "min      59400.0\n",
       "25%      59400.0\n",
       "50%      59400.0\n",
       "75%      59400.0\n",
       "max      59400.0\n",
       "Name: recorded_by, dtype: float64"
      ]
     },
     "execution_count": 304,
     "metadata": {},
     "output_type": "execute_result"
    }
   ],
   "source": [
    "train_data.recorded_by.value_counts().describe()"
   ]
  },
  {
   "cell_type": "code",
   "execution_count": 305,
   "metadata": {},
   "outputs": [],
   "source": [
    "# All data points have the same value so this offers no information that would help build our\n",
    "# model.\n",
    "train_data.drop('recorded_by',inplace = True, axis=1)"
   ]
  },
  {
   "cell_type": "code",
   "execution_count": 306,
   "metadata": {},
   "outputs": [],
   "source": [
    "# extraction_type, extraction_type_group and extraction_type_class appear to contain very similar\n",
    "# data. I'll drop the first two and keep the last one.\n",
    "\n",
    "train_data.drop(['extraction_type', 'extraction_type_group'],inplace = True, axis=1)"
   ]
  },
  {
   "cell_type": "code",
   "execution_count": 307,
   "metadata": {},
   "outputs": [
    {
     "data": {
      "text/plain": [
       "vwc                 40507\n",
       "wug                  6515\n",
       "water board          2933\n",
       "wua                  2535\n",
       "private operator     1971\n",
       "parastatal           1768\n",
       "water authority       904\n",
       "other                 844\n",
       "company               685\n",
       "unknown               561\n",
       "other - school         99\n",
       "trust                  78\n",
       "Name: management, dtype: int64"
      ]
     },
     "execution_count": 307,
     "metadata": {},
     "output_type": "execute_result"
    }
   ],
   "source": [
    "train_data.management.value_counts()"
   ]
  },
  {
   "cell_type": "code",
   "execution_count": 308,
   "metadata": {},
   "outputs": [],
   "source": [
    "# This appears to be almost identical to 'scheme_management'. I'll drop it.\n",
    "\n",
    "train_data.drop('management',inplace = True, axis=1)"
   ]
  },
  {
   "cell_type": "code",
   "execution_count": 309,
   "metadata": {},
   "outputs": [
    {
     "data": {
      "text/plain": [
       "user-group    52490\n",
       "commercial     3638\n",
       "parastatal     1768\n",
       "other           943\n",
       "unknown         561\n",
       "Name: management_group, dtype: int64"
      ]
     },
     "execution_count": 309,
     "metadata": {},
     "output_type": "execute_result"
    }
   ],
   "source": [
    "train_data.management_group.value_counts()"
   ]
  },
  {
   "cell_type": "code",
   "execution_count": 310,
   "metadata": {},
   "outputs": [
    {
     "data": {
      "text/plain": [
       "array(['vwc', 'other', 'pri_opr', 'wug', 'wtr_brd', 'wua', 'wtr_auth',\n",
       "       'comp', 'Parastatal'], dtype=object)"
      ]
     },
     "execution_count": 310,
     "metadata": {},
     "output_type": "execute_result"
    }
   ],
   "source": [
    "train_data.scheme_management.unique()"
   ]
  },
  {
   "cell_type": "code",
   "execution_count": 311,
   "metadata": {},
   "outputs": [],
   "source": [
    "# Appears to offer no new info and is likely to overlap with 'scheme_management'.\n",
    "\n",
    "train_data.drop('management_group',inplace = True, axis=1)"
   ]
  },
  {
   "cell_type": "code",
   "execution_count": 312,
   "metadata": {},
   "outputs": [
    {
     "data": {
      "text/plain": [
       "never pay                25348\n",
       "pay per bucket            8985\n",
       "pay monthly               8300\n",
       "unknown                   8157\n",
       "pay when scheme fails     3914\n",
       "pay annually              3642\n",
       "other                     1054\n",
       "Name: payment, dtype: int64"
      ]
     },
     "execution_count": 312,
     "metadata": {},
     "output_type": "execute_result"
    }
   ],
   "source": [
    "train_data.payment.value_counts()"
   ]
  },
  {
   "cell_type": "code",
   "execution_count": 313,
   "metadata": {},
   "outputs": [
    {
     "data": {
      "text/plain": [
       "never pay     25348\n",
       "per bucket     8985\n",
       "monthly        8300\n",
       "unknown        8157\n",
       "on failure     3914\n",
       "annually       3642\n",
       "other          1054\n",
       "Name: payment_type, dtype: int64"
      ]
     },
     "execution_count": 313,
     "metadata": {},
     "output_type": "execute_result"
    }
   ],
   "source": [
    "train_data.payment_type.value_counts()"
   ]
  },
  {
   "cell_type": "code",
   "execution_count": 314,
   "metadata": {},
   "outputs": [],
   "source": [
    "# Payment and payment_type contain identical data. Remove one and keep the other.\n",
    "\n",
    "train_data.drop('payment',inplace = True, axis=1)"
   ]
  },
  {
   "cell_type": "code",
   "execution_count": 315,
   "metadata": {},
   "outputs": [
    {
     "data": {
      "text/plain": [
       "soft                  50818\n",
       "salty                  4856\n",
       "unknown                1876\n",
       "milky                   804\n",
       "coloured                490\n",
       "salty abandoned         339\n",
       "fluoride                200\n",
       "fluoride abandoned       17\n",
       "Name: water_quality, dtype: int64"
      ]
     },
     "execution_count": 315,
     "metadata": {},
     "output_type": "execute_result"
    }
   ],
   "source": [
    "\n",
    "train_data.water_quality.value_counts()"
   ]
  },
  {
   "cell_type": "code",
   "execution_count": 316,
   "metadata": {},
   "outputs": [
    {
     "data": {
      "text/plain": [
       "good        50818\n",
       "salty        5195\n",
       "unknown      1876\n",
       "milky         804\n",
       "colored       490\n",
       "fluoride      217\n",
       "Name: quality_group, dtype: int64"
      ]
     },
     "execution_count": 316,
     "metadata": {},
     "output_type": "execute_result"
    }
   ],
   "source": [
    "train_data.quality_group.value_counts()"
   ]
  },
  {
   "cell_type": "code",
   "execution_count": 317,
   "metadata": {},
   "outputs": [
    {
     "data": {
      "text/plain": [
       "<seaborn.axisgrid.FacetGrid at 0x1a1b05d690>"
      ]
     },
     "execution_count": 317,
     "metadata": {},
     "output_type": "execute_result"
    },
    {
     "data": {
      "image/png": "[encoded data removed]",
      "text/plain": [
       "<Figure size 360x360 with 1 Axes>"
      ]
     },
     "metadata": {},
     "output_type": "display_data"
    }
   ],
   "source": [
    "sns.catplot(y=\"quality_group\", kind=\"count\",palette=\"pastel\", edgecolor=\".6\",data=train_data)"
   ]
  },
  {
   "cell_type": "code",
   "execution_count": 318,
   "metadata": {},
   "outputs": [
    {
     "data": {
      "text/html": [
       "<div>\n",
       "<style scoped>\n",
       "    .dataframe tbody tr th:only-of-type {\n",
       "        vertical-align: middle;\n",
       "    }\n",
       "\n",
       "    .dataframe tbody tr th {\n",
       "        vertical-align: top;\n",
       "    }\n",
       "\n",
       "    .dataframe thead th {\n",
       "        text-align: right;\n",
       "    }\n",
       "</style>\n",
       "<table border=\"1\" class=\"dataframe\">\n",
       "  <thead>\n",
       "    <tr style=\"text-align: right;\">\n",
       "      <th></th>\n",
       "      <th></th>\n",
       "      <th>status_group_vals</th>\n",
       "    </tr>\n",
       "    <tr>\n",
       "      <th>quality_group</th>\n",
       "      <th>status_group</th>\n",
       "      <th></th>\n",
       "    </tr>\n",
       "  </thead>\n",
       "  <tbody>\n",
       "    <tr>\n",
       "      <th rowspan=\"3\" valign=\"top\">colored</th>\n",
       "      <th>functional</th>\n",
       "      <td>246</td>\n",
       "    </tr>\n",
       "    <tr>\n",
       "      <th>functional needs repair</th>\n",
       "      <td>54</td>\n",
       "    </tr>\n",
       "    <tr>\n",
       "      <th>non functional</th>\n",
       "      <td>190</td>\n",
       "    </tr>\n",
       "    <tr>\n",
       "      <th rowspan=\"3\" valign=\"top\">fluoride</th>\n",
       "      <th>functional</th>\n",
       "      <td>157</td>\n",
       "    </tr>\n",
       "    <tr>\n",
       "      <th>functional needs repair</th>\n",
       "      <td>13</td>\n",
       "    </tr>\n",
       "    <tr>\n",
       "      <th>non functional</th>\n",
       "      <td>47</td>\n",
       "    </tr>\n",
       "    <tr>\n",
       "      <th rowspan=\"3\" valign=\"top\">good</th>\n",
       "      <th>functional</th>\n",
       "      <td>28760</td>\n",
       "    </tr>\n",
       "    <tr>\n",
       "      <th>functional needs repair</th>\n",
       "      <td>3904</td>\n",
       "    </tr>\n",
       "    <tr>\n",
       "      <th>non functional</th>\n",
       "      <td>18154</td>\n",
       "    </tr>\n",
       "    <tr>\n",
       "      <th rowspan=\"3\" valign=\"top\">milky</th>\n",
       "      <th>functional</th>\n",
       "      <td>438</td>\n",
       "    </tr>\n",
       "    <tr>\n",
       "      <th>functional needs repair</th>\n",
       "      <td>14</td>\n",
       "    </tr>\n",
       "    <tr>\n",
       "      <th>non functional</th>\n",
       "      <td>352</td>\n",
       "    </tr>\n",
       "    <tr>\n",
       "      <th rowspan=\"3\" valign=\"top\">salty</th>\n",
       "      <th>functional</th>\n",
       "      <td>2394</td>\n",
       "    </tr>\n",
       "    <tr>\n",
       "      <th>functional needs repair</th>\n",
       "      <td>297</td>\n",
       "    </tr>\n",
       "    <tr>\n",
       "      <th>non functional</th>\n",
       "      <td>2504</td>\n",
       "    </tr>\n",
       "    <tr>\n",
       "      <th rowspan=\"3\" valign=\"top\">unknown</th>\n",
       "      <th>functional</th>\n",
       "      <td>264</td>\n",
       "    </tr>\n",
       "    <tr>\n",
       "      <th>functional needs repair</th>\n",
       "      <td>35</td>\n",
       "    </tr>\n",
       "    <tr>\n",
       "      <th>non functional</th>\n",
       "      <td>1577</td>\n",
       "    </tr>\n",
       "  </tbody>\n",
       "</table>\n",
       "</div>"
      ],
      "text/plain": [
       "                                       status_group_vals\n",
       "quality_group status_group                              \n",
       "colored       functional                             246\n",
       "              functional needs repair                 54\n",
       "              non functional                         190\n",
       "fluoride      functional                             157\n",
       "              functional needs repair                 13\n",
       "              non functional                          47\n",
       "good          functional                           28760\n",
       "              functional needs repair               3904\n",
       "              non functional                       18154\n",
       "milky         functional                             438\n",
       "              functional needs repair                 14\n",
       "              non functional                         352\n",
       "salty         functional                            2394\n",
       "              functional needs repair                297\n",
       "              non functional                        2504\n",
       "unknown       functional                             264\n",
       "              functional needs repair                 35\n",
       "              non functional                        1577"
      ]
     },
     "execution_count": 318,
     "metadata": {},
     "output_type": "execute_result"
    }
   ],
   "source": [
    "piv_table = pd.pivot_table(train_data, index=['quality_group', 'status_group'],\n",
    "                           values=['status_group_vals'], aggfunc='count')\n",
    "\n",
    "piv_table"
   ]
  },
  {
   "cell_type": "code",
   "execution_count": 319,
   "metadata": {},
   "outputs": [
    {
     "data": {
      "image/png": "[encoded data removed]",
      "text/plain": [
       "<Figure size 720x360 with 1 Axes>"
      ]
     },
     "metadata": {},
     "output_type": "display_data"
    }
   ],
   "source": [
    "quality_group = [0,1,2,3,4,5]\n",
    "functional = [246,157,28760,438,2394,264]\n",
    "nr_functional = [54,13,3904,14,297,35]\n",
    "n_functional = [190,47,18154,352,2504,1577]\n",
    "\n",
    "\n",
    "\n",
    "fig = plt.figure()\n",
    "ax = plt.subplot()\n",
    "\n",
    "#Grouped bar chart\n",
    "ind = np.arange(len(quality_group)) #no of x ticks;\n",
    "width = 0.3 #width of the bar\n",
    "\n",
    "\n",
    "#ax.bar(position of the bar wrt the x-ticks, data, width of bar, label)\n",
    "ax.bar(ind , functional, width,label='functional')\n",
    "ax.bar(ind- width , nr_functional, width,label='functional needs repair')\n",
    "ax.bar(ind + width , n_functional, width,label='non functional')\n",
    "ax.legend(loc=9,ncol=3)\n",
    "\n",
    "#create a list of  variable names to use as labels for ticks in hor axis\n",
    "xlab=[item.get_text() for item in ax.get_xticklabels()] # list with empty strings. list length determined my the ticks seen in the plots\n",
    "# replace empty strings at even list indexes by variable names in the same order as they are present in the dataframe column names\n",
    "xlab[1]='colored'\n",
    "xlab[2]='fluoride'\n",
    "xlab[3]='good'\n",
    "xlab[4]='milky'\n",
    "xlab[5]='salty'\n",
    "xlab[6]='unknown'\n",
    "ax.set_xticklabels(xlab)\n",
    "\n",
    "\n",
    "for tick in ax.get_xticklabels():\n",
    "    tick.set_rotation(90)\n",
    "\n",
    "#Set the figure size so that all four panel graphs are clearly visible\n",
    "fig.set_size_inches(10,5)   \n",
    "#Set a title for the figure\n",
    "\n",
    "plt.show()"
   ]
  },
  {
   "cell_type": "code",
   "execution_count": 320,
   "metadata": {},
   "outputs": [],
   "source": [
    "# Water_quality and quality_group contain identical data. Remove one and keep the other.\n",
    "\n",
    "train_data.drop('water_quality',inplace = True, axis = 1)"
   ]
  },
  {
   "cell_type": "code",
   "execution_count": 321,
   "metadata": {},
   "outputs": [
    {
     "data": {
      "text/plain": [
       "enough          33186\n",
       "insufficient    15129\n",
       "dry              6246\n",
       "seasonal         4050\n",
       "unknown           789\n",
       "Name: quantity, dtype: int64"
      ]
     },
     "execution_count": 321,
     "metadata": {},
     "output_type": "execute_result"
    }
   ],
   "source": [
    "train_data.quantity.value_counts()"
   ]
  },
  {
   "cell_type": "code",
   "execution_count": 322,
   "metadata": {},
   "outputs": [
    {
     "data": {
      "text/html": [
       "<div>\n",
       "<style scoped>\n",
       "    .dataframe tbody tr th:only-of-type {\n",
       "        vertical-align: middle;\n",
       "    }\n",
       "\n",
       "    .dataframe tbody tr th {\n",
       "        vertical-align: top;\n",
       "    }\n",
       "\n",
       "    .dataframe thead th {\n",
       "        text-align: right;\n",
       "    }\n",
       "</style>\n",
       "<table border=\"1\" class=\"dataframe\">\n",
       "  <thead>\n",
       "    <tr style=\"text-align: right;\">\n",
       "      <th></th>\n",
       "      <th></th>\n",
       "      <th>status_group_vals</th>\n",
       "    </tr>\n",
       "    <tr>\n",
       "      <th>quantity</th>\n",
       "      <th>status_group</th>\n",
       "      <th></th>\n",
       "    </tr>\n",
       "  </thead>\n",
       "  <tbody>\n",
       "    <tr>\n",
       "      <th rowspan=\"3\" valign=\"top\">dry</th>\n",
       "      <th>functional</th>\n",
       "      <td>157</td>\n",
       "    </tr>\n",
       "    <tr>\n",
       "      <th>functional needs repair</th>\n",
       "      <td>37</td>\n",
       "    </tr>\n",
       "    <tr>\n",
       "      <th>non functional</th>\n",
       "      <td>6052</td>\n",
       "    </tr>\n",
       "    <tr>\n",
       "      <th rowspan=\"3\" valign=\"top\">enough</th>\n",
       "      <th>functional</th>\n",
       "      <td>21648</td>\n",
       "    </tr>\n",
       "    <tr>\n",
       "      <th>functional needs repair</th>\n",
       "      <td>2400</td>\n",
       "    </tr>\n",
       "    <tr>\n",
       "      <th>non functional</th>\n",
       "      <td>9138</td>\n",
       "    </tr>\n",
       "    <tr>\n",
       "      <th rowspan=\"3\" valign=\"top\">insufficient</th>\n",
       "      <th>functional</th>\n",
       "      <td>7916</td>\n",
       "    </tr>\n",
       "    <tr>\n",
       "      <th>functional needs repair</th>\n",
       "      <td>1450</td>\n",
       "    </tr>\n",
       "    <tr>\n",
       "      <th>non functional</th>\n",
       "      <td>5763</td>\n",
       "    </tr>\n",
       "    <tr>\n",
       "      <th rowspan=\"3\" valign=\"top\">seasonal</th>\n",
       "      <th>functional</th>\n",
       "      <td>2325</td>\n",
       "    </tr>\n",
       "    <tr>\n",
       "      <th>functional needs repair</th>\n",
       "      <td>416</td>\n",
       "    </tr>\n",
       "    <tr>\n",
       "      <th>non functional</th>\n",
       "      <td>1309</td>\n",
       "    </tr>\n",
       "    <tr>\n",
       "      <th rowspan=\"3\" valign=\"top\">unknown</th>\n",
       "      <th>functional</th>\n",
       "      <td>213</td>\n",
       "    </tr>\n",
       "    <tr>\n",
       "      <th>functional needs repair</th>\n",
       "      <td>14</td>\n",
       "    </tr>\n",
       "    <tr>\n",
       "      <th>non functional</th>\n",
       "      <td>562</td>\n",
       "    </tr>\n",
       "  </tbody>\n",
       "</table>\n",
       "</div>"
      ],
      "text/plain": [
       "                                      status_group_vals\n",
       "quantity     status_group                              \n",
       "dry          functional                             157\n",
       "             functional needs repair                 37\n",
       "             non functional                        6052\n",
       "enough       functional                           21648\n",
       "             functional needs repair               2400\n",
       "             non functional                        9138\n",
       "insufficient functional                            7916\n",
       "             functional needs repair               1450\n",
       "             non functional                        5763\n",
       "seasonal     functional                            2325\n",
       "             functional needs repair                416\n",
       "             non functional                        1309\n",
       "unknown      functional                             213\n",
       "             functional needs repair                 14\n",
       "             non functional                         562"
      ]
     },
     "execution_count": 322,
     "metadata": {},
     "output_type": "execute_result"
    }
   ],
   "source": [
    "piv_table = pd.pivot_table(train_data, index=['quantity', 'status_group'],\n",
    "                           values=['status_group_vals'], aggfunc='count')\n",
    "\n",
    "piv_table"
   ]
  },
  {
   "cell_type": "code",
   "execution_count": 323,
   "metadata": {},
   "outputs": [
    {
     "data": {
      "image/png": "[encoded data removed]",
      "text/plain": [
       "<Figure size 720x360 with 1 Axes>"
      ]
     },
     "metadata": {},
     "output_type": "display_data"
    }
   ],
   "source": [
    "quantity = [0,1,2,3,4]\n",
    "functional = [157,21648,7916,2325,213]\n",
    "nr_functional = [37,2400,1450,416,14]\n",
    "n_functional = [6052,9138,5763,1309,562]\n",
    "\n",
    "\n",
    "\n",
    "fig = plt.figure()\n",
    "ax = plt.subplot()\n",
    "\n",
    "#Grouped bar chart\n",
    "ind = np.arange(len(quantity)) #no of x ticks;\n",
    "width = 0.3 #width of the bar\n",
    "\n",
    "\n",
    "#ax.bar(position of the bar wrt the x-ticks, data, width of bar, label)\n",
    "ax.bar(ind , functional, width,label='functional')\n",
    "ax.bar(ind- width , nr_functional, width,label='functional needs repair')\n",
    "ax.bar(ind + width , n_functional, width,label='non functional')\n",
    "ax.legend(loc=9,ncol=3)\n",
    "\n",
    "#create a list of  variable names to use as labels for ticks in hor axis\n",
    "xlab=[item.get_text() for item in ax.get_xticklabels()] # list with empty strings. list length determined my the ticks seen in the plots\n",
    "# replace empty strings at even list indexes by variable names in the same order as they are present in the dataframe column names\n",
    "xlab[1]='dry'\n",
    "xlab[2]='enough'\n",
    "xlab[3]='insufficient'\n",
    "xlab[4]='seasonal'\n",
    "xlab[5]='unknown'\n",
    "ax.set_xticklabels(xlab)\n",
    "\n",
    "\n",
    "for tick in ax.get_xticklabels():\n",
    "    tick.set_rotation(90)\n",
    "\n",
    "#Set the figure size so that all four panel graphs are clearly visible\n",
    "fig.set_size_inches(10,5)   \n",
    "#Set a title for the figure\n",
    "\n",
    "plt.show()"
   ]
  },
  {
   "cell_type": "code",
   "execution_count": 324,
   "metadata": {},
   "outputs": [
    {
     "data": {
      "text/plain": [
       "enough          33186\n",
       "insufficient    15129\n",
       "dry              6246\n",
       "seasonal         4050\n",
       "unknown           789\n",
       "Name: quantity_group, dtype: int64"
      ]
     },
     "execution_count": 324,
     "metadata": {},
     "output_type": "execute_result"
    }
   ],
   "source": [
    "train_data.quantity_group.value_counts()"
   ]
  },
  {
   "cell_type": "code",
   "execution_count": 325,
   "metadata": {},
   "outputs": [],
   "source": [
    "# Quantity and quantity_group contain identical data. Remove one and keep the other.\n",
    "\n",
    "train_data.drop('quantity_group',inplace = True,axis = 1)"
   ]
  },
  {
   "cell_type": "code",
   "execution_count": 326,
   "metadata": {},
   "outputs": [
    {
     "data": {
      "text/plain": [
       "spring                  17021\n",
       "shallow well            16824\n",
       "machine dbh             11075\n",
       "river                    9612\n",
       "rainwater harvesting     2295\n",
       "hand dtw                  874\n",
       "lake                      765\n",
       "dam                       656\n",
       "other                     212\n",
       "unknown                    66\n",
       "Name: source, dtype: int64"
      ]
     },
     "execution_count": 326,
     "metadata": {},
     "output_type": "execute_result"
    }
   ],
   "source": [
    "train_data.source.value_counts()"
   ]
  },
  {
   "cell_type": "code",
   "execution_count": 327,
   "metadata": {},
   "outputs": [
    {
     "data": {
      "text/plain": [
       "groundwater    45794\n",
       "surface        13328\n",
       "unknown          278\n",
       "Name: source_class, dtype: int64"
      ]
     },
     "execution_count": 327,
     "metadata": {},
     "output_type": "execute_result"
    }
   ],
   "source": [
    "train_data.source_class.value_counts()"
   ]
  },
  {
   "cell_type": "code",
   "execution_count": 328,
   "metadata": {},
   "outputs": [
    {
     "data": {
      "text/plain": [
       "spring                  17021\n",
       "shallow well            16824\n",
       "borehole                11949\n",
       "river/lake              10377\n",
       "rainwater harvesting     2295\n",
       "dam                       656\n",
       "other                     278\n",
       "Name: source_type, dtype: int64"
      ]
     },
     "execution_count": 328,
     "metadata": {},
     "output_type": "execute_result"
    }
   ],
   "source": [
    "train_data.source_type.value_counts()"
   ]
  },
  {
   "cell_type": "code",
   "execution_count": 329,
   "metadata": {},
   "outputs": [
    {
     "data": {
      "text/html": [
       "<div>\n",
       "<style scoped>\n",
       "    .dataframe tbody tr th:only-of-type {\n",
       "        vertical-align: middle;\n",
       "    }\n",
       "\n",
       "    .dataframe tbody tr th {\n",
       "        vertical-align: top;\n",
       "    }\n",
       "\n",
       "    .dataframe thead th {\n",
       "        text-align: right;\n",
       "    }\n",
       "</style>\n",
       "<table border=\"1\" class=\"dataframe\">\n",
       "  <thead>\n",
       "    <tr style=\"text-align: right;\">\n",
       "      <th></th>\n",
       "      <th></th>\n",
       "      <th>status_group_vals</th>\n",
       "    </tr>\n",
       "    <tr>\n",
       "      <th>source_type</th>\n",
       "      <th>status_group</th>\n",
       "      <th></th>\n",
       "    </tr>\n",
       "  </thead>\n",
       "  <tbody>\n",
       "    <tr>\n",
       "      <th rowspan=\"3\" valign=\"top\">borehole</th>\n",
       "      <th>functional</th>\n",
       "      <td>5919</td>\n",
       "    </tr>\n",
       "    <tr>\n",
       "      <th>functional needs repair</th>\n",
       "      <td>508</td>\n",
       "    </tr>\n",
       "    <tr>\n",
       "      <th>non functional</th>\n",
       "      <td>5522</td>\n",
       "    </tr>\n",
       "    <tr>\n",
       "      <th rowspan=\"3\" valign=\"top\">dam</th>\n",
       "      <th>functional</th>\n",
       "      <td>253</td>\n",
       "    </tr>\n",
       "    <tr>\n",
       "      <th>functional needs repair</th>\n",
       "      <td>24</td>\n",
       "    </tr>\n",
       "    <tr>\n",
       "      <th>non functional</th>\n",
       "      <td>379</td>\n",
       "    </tr>\n",
       "    <tr>\n",
       "      <th rowspan=\"3\" valign=\"top\">other</th>\n",
       "      <th>functional</th>\n",
       "      <td>158</td>\n",
       "    </tr>\n",
       "    <tr>\n",
       "      <th>functional needs repair</th>\n",
       "      <td>5</td>\n",
       "    </tr>\n",
       "    <tr>\n",
       "      <th>non functional</th>\n",
       "      <td>115</td>\n",
       "    </tr>\n",
       "    <tr>\n",
       "      <th rowspan=\"3\" valign=\"top\">rainwater harvesting</th>\n",
       "      <th>functional</th>\n",
       "      <td>1386</td>\n",
       "    </tr>\n",
       "    <tr>\n",
       "      <th>functional needs repair</th>\n",
       "      <td>314</td>\n",
       "    </tr>\n",
       "    <tr>\n",
       "      <th>non functional</th>\n",
       "      <td>595</td>\n",
       "    </tr>\n",
       "    <tr>\n",
       "      <th rowspan=\"3\" valign=\"top\">river/lake</th>\n",
       "      <th>functional</th>\n",
       "      <td>5627</td>\n",
       "    </tr>\n",
       "    <tr>\n",
       "      <th>functional needs repair</th>\n",
       "      <td>1233</td>\n",
       "    </tr>\n",
       "    <tr>\n",
       "      <th>non functional</th>\n",
       "      <td>3517</td>\n",
       "    </tr>\n",
       "    <tr>\n",
       "      <th rowspan=\"3\" valign=\"top\">shallow well</th>\n",
       "      <th>functional</th>\n",
       "      <td>8324</td>\n",
       "    </tr>\n",
       "    <tr>\n",
       "      <th>functional needs repair</th>\n",
       "      <td>957</td>\n",
       "    </tr>\n",
       "    <tr>\n",
       "      <th>non functional</th>\n",
       "      <td>7543</td>\n",
       "    </tr>\n",
       "    <tr>\n",
       "      <th rowspan=\"3\" valign=\"top\">spring</th>\n",
       "      <th>functional</th>\n",
       "      <td>10592</td>\n",
       "    </tr>\n",
       "    <tr>\n",
       "      <th>functional needs repair</th>\n",
       "      <td>1276</td>\n",
       "    </tr>\n",
       "    <tr>\n",
       "      <th>non functional</th>\n",
       "      <td>5153</td>\n",
       "    </tr>\n",
       "  </tbody>\n",
       "</table>\n",
       "</div>"
      ],
      "text/plain": [
       "                                              status_group_vals\n",
       "source_type          status_group                              \n",
       "borehole             functional                            5919\n",
       "                     functional needs repair                508\n",
       "                     non functional                        5522\n",
       "dam                  functional                             253\n",
       "                     functional needs repair                 24\n",
       "                     non functional                         379\n",
       "other                functional                             158\n",
       "                     functional needs repair                  5\n",
       "                     non functional                         115\n",
       "rainwater harvesting functional                            1386\n",
       "                     functional needs repair                314\n",
       "                     non functional                         595\n",
       "river/lake           functional                            5627\n",
       "                     functional needs repair               1233\n",
       "                     non functional                        3517\n",
       "shallow well         functional                            8324\n",
       "                     functional needs repair                957\n",
       "                     non functional                        7543\n",
       "spring               functional                           10592\n",
       "                     functional needs repair               1276\n",
       "                     non functional                        5153"
      ]
     },
     "execution_count": 329,
     "metadata": {},
     "output_type": "execute_result"
    }
   ],
   "source": [
    "piv_table = pd.pivot_table(train_data, index=['source_type', 'status_group'],\n",
    "                           values=['status_group_vals'], aggfunc='count')\n",
    "\n",
    "piv_table"
   ]
  },
  {
   "cell_type": "code",
   "execution_count": 330,
   "metadata": {},
   "outputs": [
    {
     "data": {
      "image/png": "[encoded data removed]",
      "text/plain": [
       "<Figure size 720x360 with 1 Axes>"
      ]
     },
     "metadata": {},
     "output_type": "display_data"
    }
   ],
   "source": [
    "source_type = [0,1,2,3,4,5,6]\n",
    "functional = [5919,253,158,1386,5627,8324,10592]\n",
    "nr_functional = [508,24,5,314,1233,957,1276]\n",
    "n_functional = [5522,379,115,595,3517,7543,5153]\n",
    "\n",
    "\n",
    "\n",
    "fig = plt.figure()\n",
    "ax = plt.subplot()\n",
    "\n",
    "#Grouped bar chart\n",
    "ind = np.arange(len(source_type)) #no of x ticks;\n",
    "width = 0.3 #width of the bar\n",
    "\n",
    "\n",
    "#ax.bar(position of the bar wrt the x-ticks, data, width of bar, label)\n",
    "ax.bar(ind , functional, width,label='functional')\n",
    "ax.bar(ind- width , nr_functional, width,label='functional needs repair')\n",
    "ax.bar(ind + width , n_functional, width,label='non functional')\n",
    "ax.legend(loc=9,ncol=3)\n",
    "\n",
    "#create a list of  variable names to use as labels for ticks in hor axis\n",
    "xlab=[item.get_text() for item in ax.get_xticklabels()] # list with empty strings. list length determined my the ticks seen in the plots\n",
    "# replace empty strings at even list indexes by variable names in the same order as they are present in the dataframe column names\n",
    "xlab[1]='borehole'\n",
    "xlab[2]='dam'\n",
    "xlab[3]='other'\n",
    "xlab[4]='rainwater harvesting'\n",
    "xlab[5]='river/lake'\n",
    "xlab[6]='shallow well'\n",
    "xlab[7]='spring'\n",
    "ax.set_xticklabels(xlab)\n",
    "\n",
    "\n",
    "#for tick in ax.get_xticklabels():\n",
    "    #tick.set_rotation(90)\n",
    "\n",
    "#Set the figure size so that all four panel graphs are clearly visible\n",
    "fig.set_size_inches(10,5)   \n",
    "#Set a title for the figure\n",
    "\n",
    "plt.show()"
   ]
  },
  {
   "cell_type": "code",
   "execution_count": 331,
   "metadata": {},
   "outputs": [],
   "source": [
    "# Source and source_type contain very similar information. Remove one and keep the other.\n",
    "\n",
    "train_data.drop('source',inplace = True,axis =  1)"
   ]
  },
  {
   "cell_type": "code",
   "execution_count": 332,
   "metadata": {},
   "outputs": [],
   "source": [
    "# gps_height, longitude, latitude, region_code and district_code are all geographic info which\n",
    "# is unlikely to add any predictive power to the model given that there are other variables\n",
    "# containing geographic data. 'num_private' hasn't been given a discription on Driven Data,\n",
    "# it appears to be superflous. We expect id to not contain any useful information so that gets\n",
    "# dropped too.\n",
    "\n",
    "train_data.drop(['gps_height','longitude','latitude','region_code', 'district_code',\n",
    "             'num_private', 'id'], inplace = True,axis=1)"
   ]
  },
  {
   "cell_type": "code",
   "execution_count": 333,
   "metadata": {},
   "outputs": [
    {
     "data": {
      "text/html": [
       "<div>\n",
       "<style scoped>\n",
       "    .dataframe tbody tr th:only-of-type {\n",
       "        vertical-align: middle;\n",
       "    }\n",
       "\n",
       "    .dataframe tbody tr th {\n",
       "        vertical-align: top;\n",
       "    }\n",
       "\n",
       "    .dataframe thead th {\n",
       "        text-align: right;\n",
       "    }\n",
       "</style>\n",
       "<table border=\"1\" class=\"dataframe\">\n",
       "  <thead>\n",
       "    <tr style=\"text-align: right;\">\n",
       "      <th></th>\n",
       "      <th>amount_tsh</th>\n",
       "      <th>population</th>\n",
       "      <th>construction_year</th>\n",
       "      <th>status_group_vals</th>\n",
       "      <th>operational_years</th>\n",
       "    </tr>\n",
       "  </thead>\n",
       "  <tbody>\n",
       "    <tr>\n",
       "      <th>count</th>\n",
       "      <td>59400.000000</td>\n",
       "      <td>59400.000000</td>\n",
       "      <td>59400.000000</td>\n",
       "      <td>59400.000000</td>\n",
       "      <td>59400.000000</td>\n",
       "    </tr>\n",
       "    <tr>\n",
       "      <th>mean</th>\n",
       "      <td>317.650385</td>\n",
       "      <td>179.909983</td>\n",
       "      <td>1300.652475</td>\n",
       "      <td>1.158838</td>\n",
       "      <td>10.002778</td>\n",
       "    </tr>\n",
       "    <tr>\n",
       "      <th>std</th>\n",
       "      <td>2997.574558</td>\n",
       "      <td>471.482176</td>\n",
       "      <td>951.620547</td>\n",
       "      <td>0.949794</td>\n",
       "      <td>12.457472</td>\n",
       "    </tr>\n",
       "    <tr>\n",
       "      <th>min</th>\n",
       "      <td>0.000000</td>\n",
       "      <td>0.000000</td>\n",
       "      <td>0.000000</td>\n",
       "      <td>0.000000</td>\n",
       "      <td>0.000000</td>\n",
       "    </tr>\n",
       "    <tr>\n",
       "      <th>25%</th>\n",
       "      <td>0.000000</td>\n",
       "      <td>0.000000</td>\n",
       "      <td>0.000000</td>\n",
       "      <td>0.000000</td>\n",
       "      <td>0.000000</td>\n",
       "    </tr>\n",
       "    <tr>\n",
       "      <th>50%</th>\n",
       "      <td>0.000000</td>\n",
       "      <td>25.000000</td>\n",
       "      <td>1986.000000</td>\n",
       "      <td>2.000000</td>\n",
       "      <td>4.000000</td>\n",
       "    </tr>\n",
       "    <tr>\n",
       "      <th>75%</th>\n",
       "      <td>20.000000</td>\n",
       "      <td>215.000000</td>\n",
       "      <td>2004.000000</td>\n",
       "      <td>2.000000</td>\n",
       "      <td>16.000000</td>\n",
       "    </tr>\n",
       "    <tr>\n",
       "      <th>max</th>\n",
       "      <td>350000.000000</td>\n",
       "      <td>30500.000000</td>\n",
       "      <td>2013.000000</td>\n",
       "      <td>2.000000</td>\n",
       "      <td>53.000000</td>\n",
       "    </tr>\n",
       "  </tbody>\n",
       "</table>\n",
       "</div>"
      ],
      "text/plain": [
       "          amount_tsh    population  construction_year  status_group_vals  \\\n",
       "count   59400.000000  59400.000000       59400.000000       59400.000000   \n",
       "mean      317.650385    179.909983        1300.652475           1.158838   \n",
       "std      2997.574558    471.482176         951.620547           0.949794   \n",
       "min         0.000000      0.000000           0.000000           0.000000   \n",
       "25%         0.000000      0.000000           0.000000           0.000000   \n",
       "50%         0.000000     25.000000        1986.000000           2.000000   \n",
       "75%        20.000000    215.000000        2004.000000           2.000000   \n",
       "max    350000.000000  30500.000000        2013.000000           2.000000   \n",
       "\n",
       "       operational_years  \n",
       "count       59400.000000  \n",
       "mean           10.002778  \n",
       "std            12.457472  \n",
       "min             0.000000  \n",
       "25%             0.000000  \n",
       "50%             4.000000  \n",
       "75%            16.000000  \n",
       "max            53.000000  "
      ]
     },
     "execution_count": 333,
     "metadata": {},
     "output_type": "execute_result"
    }
   ],
   "source": [
    "train_data.describe()\n"
   ]
  },
  {
   "cell_type": "code",
   "execution_count": 334,
   "metadata": {},
   "outputs": [
    {
     "data": {
      "text/plain": [
       "amount_tsh                 98\n",
       "funder                     10\n",
       "installer                   7\n",
       "basin                       9\n",
       "population               1049\n",
       "public_meeting              3\n",
       "scheme_management           9\n",
       "permit                      3\n",
       "construction_year          55\n",
       "extraction_type_class       7\n",
       "payment_type                7\n",
       "quality_group               6\n",
       "quantity                    5\n",
       "source_type                 7\n",
       "source_class                3\n",
       "waterpoint_type             7\n",
       "waterpoint_type_group       6\n",
       "status_group                3\n",
       "status_group_vals           3\n",
       "operational_years          54\n",
       "dtype: int64"
      ]
     },
     "execution_count": 334,
     "metadata": {},
     "output_type": "execute_result"
    }
   ],
   "source": [
    "train_data.apply(lambda x: len(x.unique()))"
   ]
  },
  {
   "cell_type": "code",
   "execution_count": 335,
   "metadata": {},
   "outputs": [
    {
     "data": {
      "text/plain": [
       "0       20709\n",
       "2010     2645\n",
       "2008     2613\n",
       "2009     2533\n",
       "2000     2091\n",
       "2007     1587\n",
       "2006     1471\n",
       "2003     1286\n",
       "2011     1256\n",
       "2004     1123\n",
       "2012     1084\n",
       "2002     1075\n",
       "1978     1037\n",
       "1995     1014\n",
       "2005     1011\n",
       "1999      979\n",
       "1998      966\n",
       "1990      954\n",
       "1985      945\n",
       "1980      811\n",
       "1996      811\n",
       "1984      779\n",
       "1982      744\n",
       "1994      738\n",
       "1972      708\n",
       "1974      676\n",
       "1997      644\n",
       "1992      640\n",
       "1993      608\n",
       "2001      540\n",
       "1988      521\n",
       "1983      488\n",
       "1975      437\n",
       "1986      434\n",
       "1976      414\n",
       "1970      411\n",
       "1991      324\n",
       "1989      316\n",
       "1987      302\n",
       "1981      238\n",
       "1977      202\n",
       "1979      192\n",
       "1973      184\n",
       "2013      176\n",
       "1971      145\n",
       "1960      102\n",
       "1967       88\n",
       "1963       85\n",
       "1968       77\n",
       "1969       59\n",
       "1964       40\n",
       "1962       30\n",
       "1961       21\n",
       "1965       19\n",
       "1966       17\n",
       "Name: construction_year, dtype: int64"
      ]
     },
     "execution_count": 335,
     "metadata": {},
     "output_type": "execute_result"
    }
   ],
   "source": [
    "train_data.construction_year.value_counts()"
   ]
  },
  {
   "cell_type": "code",
   "execution_count": 336,
   "metadata": {},
   "outputs": [],
   "source": [
    "# Turn construction_year into a categorical column containing the following values: '60s', '70s',\n",
    "# '80s', '90s, '00s', '10s', 'unknown'.\n",
    "\n",
    "def construction_wrangler(row):\n",
    "    if row['construction_year'] >= 1960 and row['construction_year'] < 1970:\n",
    "        return '60s'\n",
    "    elif row['construction_year'] >= 1970 and row['construction_year'] < 1980:\n",
    "        return '70s'\n",
    "    elif row['construction_year'] >= 1980 and row['construction_year'] < 1990:\n",
    "        return '80s'\n",
    "    elif row['construction_year'] >= 1990 and row['construction_year'] < 2000:\n",
    "        return '90s'\n",
    "    elif row['construction_year'] >= 2000 and row['construction_year'] < 2010:\n",
    "        return '00s'\n",
    "    elif row['construction_year'] >= 2010:\n",
    "        return '10s'\n",
    "    else:\n",
    "        return 'unknown'\n",
    "    \n",
    "train_data['construction_year'] = train_data.apply(lambda row: construction_wrangler(row), axis=1)"
   ]
  },
  {
   "cell_type": "code",
   "execution_count": 337,
   "metadata": {},
   "outputs": [
    {
     "data": {
      "text/html": [
       "<div>\n",
       "<style scoped>\n",
       "    .dataframe tbody tr th:only-of-type {\n",
       "        vertical-align: middle;\n",
       "    }\n",
       "\n",
       "    .dataframe tbody tr th {\n",
       "        vertical-align: top;\n",
       "    }\n",
       "\n",
       "    .dataframe thead th {\n",
       "        text-align: right;\n",
       "    }\n",
       "</style>\n",
       "<table border=\"1\" class=\"dataframe\">\n",
       "  <thead>\n",
       "    <tr style=\"text-align: right;\">\n",
       "      <th>status_group</th>\n",
       "      <th>functional</th>\n",
       "      <th>functional needs repair</th>\n",
       "      <th>non functional</th>\n",
       "    </tr>\n",
       "    <tr>\n",
       "      <th>construction_year</th>\n",
       "      <th></th>\n",
       "      <th></th>\n",
       "      <th></th>\n",
       "    </tr>\n",
       "  </thead>\n",
       "  <tbody>\n",
       "    <tr>\n",
       "      <th>00s</th>\n",
       "      <td>9989</td>\n",
       "      <td>977</td>\n",
       "      <td>4364</td>\n",
       "    </tr>\n",
       "    <tr>\n",
       "      <th>10s</th>\n",
       "      <td>3794</td>\n",
       "      <td>220</td>\n",
       "      <td>1147</td>\n",
       "    </tr>\n",
       "    <tr>\n",
       "      <th>60s</th>\n",
       "      <td>156</td>\n",
       "      <td>42</td>\n",
       "      <td>340</td>\n",
       "    </tr>\n",
       "    <tr>\n",
       "      <th>70s</th>\n",
       "      <td>1406</td>\n",
       "      <td>348</td>\n",
       "      <td>2652</td>\n",
       "    </tr>\n",
       "    <tr>\n",
       "      <th>80s</th>\n",
       "      <td>2220</td>\n",
       "      <td>423</td>\n",
       "      <td>2935</td>\n",
       "    </tr>\n",
       "    <tr>\n",
       "      <th>90s</th>\n",
       "      <td>4139</td>\n",
       "      <td>518</td>\n",
       "      <td>3021</td>\n",
       "    </tr>\n",
       "    <tr>\n",
       "      <th>unknown</th>\n",
       "      <td>10555</td>\n",
       "      <td>1789</td>\n",
       "      <td>8365</td>\n",
       "    </tr>\n",
       "  </tbody>\n",
       "</table>\n",
       "</div>"
      ],
      "text/plain": [
       "status_group       functional  functional needs repair  non functional\n",
       "construction_year                                                     \n",
       "00s                      9989                      977            4364\n",
       "10s                      3794                      220            1147\n",
       "60s                       156                       42             340\n",
       "70s                      1406                      348            2652\n",
       "80s                      2220                      423            2935\n",
       "90s                      4139                      518            3021\n",
       "unknown                 10555                     1789            8365"
      ]
     },
     "execution_count": 337,
     "metadata": {},
     "output_type": "execute_result"
    }
   ],
   "source": [
    "per_con_yr = train_data.groupby(['construction_year','status_group'])['status_group_vals']\\\n",
    "                                                .count() \\\n",
    "                                                .unstack() \\\n",
    "                                                .reset_index() \\\n",
    "                                                 .fillna(0) \\\n",
    "                                            .set_index('construction_year')\n",
    "per_con_yr.head(8)"
   ]
  },
  {
   "cell_type": "code",
   "execution_count": 338,
   "metadata": {},
   "outputs": [
    {
     "data": {
      "text/html": [
       "<div>\n",
       "<style scoped>\n",
       "    .dataframe tbody tr th:only-of-type {\n",
       "        vertical-align: middle;\n",
       "    }\n",
       "\n",
       "    .dataframe tbody tr th {\n",
       "        vertical-align: top;\n",
       "    }\n",
       "\n",
       "    .dataframe thead th {\n",
       "        text-align: right;\n",
       "    }\n",
       "</style>\n",
       "<table border=\"1\" class=\"dataframe\">\n",
       "  <thead>\n",
       "    <tr style=\"text-align: right;\">\n",
       "      <th>status_group</th>\n",
       "      <th>functional</th>\n",
       "      <th>functional needs repair</th>\n",
       "      <th>non functional</th>\n",
       "      <th>total</th>\n",
       "    </tr>\n",
       "    <tr>\n",
       "      <th>construction_year</th>\n",
       "      <th></th>\n",
       "      <th></th>\n",
       "      <th></th>\n",
       "      <th></th>\n",
       "    </tr>\n",
       "  </thead>\n",
       "  <tbody>\n",
       "    <tr>\n",
       "      <th>00s</th>\n",
       "      <td>9989</td>\n",
       "      <td>977</td>\n",
       "      <td>4364</td>\n",
       "      <td>15330</td>\n",
       "    </tr>\n",
       "    <tr>\n",
       "      <th>10s</th>\n",
       "      <td>3794</td>\n",
       "      <td>220</td>\n",
       "      <td>1147</td>\n",
       "      <td>5161</td>\n",
       "    </tr>\n",
       "    <tr>\n",
       "      <th>60s</th>\n",
       "      <td>156</td>\n",
       "      <td>42</td>\n",
       "      <td>340</td>\n",
       "      <td>538</td>\n",
       "    </tr>\n",
       "    <tr>\n",
       "      <th>70s</th>\n",
       "      <td>1406</td>\n",
       "      <td>348</td>\n",
       "      <td>2652</td>\n",
       "      <td>4406</td>\n",
       "    </tr>\n",
       "    <tr>\n",
       "      <th>80s</th>\n",
       "      <td>2220</td>\n",
       "      <td>423</td>\n",
       "      <td>2935</td>\n",
       "      <td>5578</td>\n",
       "    </tr>\n",
       "    <tr>\n",
       "      <th>90s</th>\n",
       "      <td>4139</td>\n",
       "      <td>518</td>\n",
       "      <td>3021</td>\n",
       "      <td>7678</td>\n",
       "    </tr>\n",
       "    <tr>\n",
       "      <th>unknown</th>\n",
       "      <td>10555</td>\n",
       "      <td>1789</td>\n",
       "      <td>8365</td>\n",
       "      <td>20709</td>\n",
       "    </tr>\n",
       "  </tbody>\n",
       "</table>\n",
       "</div>"
      ],
      "text/plain": [
       "status_group       functional  functional needs repair  non functional  total\n",
       "construction_year                                                            \n",
       "00s                      9989                      977            4364  15330\n",
       "10s                      3794                      220            1147   5161\n",
       "60s                       156                       42             340    538\n",
       "70s                      1406                      348            2652   4406\n",
       "80s                      2220                      423            2935   5578\n",
       "90s                      4139                      518            3021   7678\n",
       "unknown                 10555                     1789            8365  20709"
      ]
     },
     "execution_count": 338,
     "metadata": {},
     "output_type": "execute_result"
    }
   ],
   "source": [
    "per_con_yr['total'] = per_con_yr.sum(axis=1)\n",
    "\n",
    "per_con_yr"
   ]
  },
  {
   "cell_type": "code",
   "execution_count": 339,
   "metadata": {},
   "outputs": [
    {
     "data": {
      "text/html": [
       "<div>\n",
       "<style scoped>\n",
       "    .dataframe tbody tr th:only-of-type {\n",
       "        vertical-align: middle;\n",
       "    }\n",
       "\n",
       "    .dataframe tbody tr th {\n",
       "        vertical-align: top;\n",
       "    }\n",
       "\n",
       "    .dataframe thead th {\n",
       "        text-align: right;\n",
       "    }\n",
       "</style>\n",
       "<table border=\"1\" class=\"dataframe\">\n",
       "  <thead>\n",
       "    <tr style=\"text-align: right;\">\n",
       "      <th>status_group</th>\n",
       "      <th>functional</th>\n",
       "      <th>functional needs repair</th>\n",
       "      <th>non functional</th>\n",
       "    </tr>\n",
       "    <tr>\n",
       "      <th>construction_year</th>\n",
       "      <th></th>\n",
       "      <th></th>\n",
       "      <th></th>\n",
       "    </tr>\n",
       "  </thead>\n",
       "  <tbody>\n",
       "    <tr>\n",
       "      <th>00s</th>\n",
       "      <td>65.159817</td>\n",
       "      <td>6.373125</td>\n",
       "      <td>28.467058</td>\n",
       "    </tr>\n",
       "    <tr>\n",
       "      <th>10s</th>\n",
       "      <td>73.512885</td>\n",
       "      <td>4.262740</td>\n",
       "      <td>22.224375</td>\n",
       "    </tr>\n",
       "    <tr>\n",
       "      <th>60s</th>\n",
       "      <td>28.996283</td>\n",
       "      <td>7.806691</td>\n",
       "      <td>63.197026</td>\n",
       "    </tr>\n",
       "    <tr>\n",
       "      <th>70s</th>\n",
       "      <td>31.911030</td>\n",
       "      <td>7.898320</td>\n",
       "      <td>60.190649</td>\n",
       "    </tr>\n",
       "    <tr>\n",
       "      <th>80s</th>\n",
       "      <td>39.799211</td>\n",
       "      <td>7.583363</td>\n",
       "      <td>52.617426</td>\n",
       "    </tr>\n",
       "    <tr>\n",
       "      <th>90s</th>\n",
       "      <td>53.907268</td>\n",
       "      <td>6.746549</td>\n",
       "      <td>39.346184</td>\n",
       "    </tr>\n",
       "    <tr>\n",
       "      <th>unknown</th>\n",
       "      <td>50.968178</td>\n",
       "      <td>8.638756</td>\n",
       "      <td>40.393066</td>\n",
       "    </tr>\n",
       "  </tbody>\n",
       "</table>\n",
       "</div>"
      ],
      "text/plain": [
       "status_group       functional  functional needs repair  non functional\n",
       "construction_year                                                     \n",
       "00s                 65.159817                 6.373125       28.467058\n",
       "10s                 73.512885                 4.262740       22.224375\n",
       "60s                 28.996283                 7.806691       63.197026\n",
       "70s                 31.911030                 7.898320       60.190649\n",
       "80s                 39.799211                 7.583363       52.617426\n",
       "90s                 53.907268                 6.746549       39.346184\n",
       "unknown             50.968178                 8.638756       40.393066"
      ]
     },
     "execution_count": 339,
     "metadata": {},
     "output_type": "execute_result"
    }
   ],
   "source": [
    "per_con_yr_df = percentage_share(per_con_yr) \n",
    "\n",
    "per_con_yr_df"
   ]
  },
  {
   "cell_type": "code",
   "execution_count": 340,
   "metadata": {},
   "outputs": [
    {
     "data": {
      "image/png": "[encoded data removed]",
      "text/plain": [
       "<Figure size 720x360 with 1 Axes>"
      ]
     },
     "metadata": {},
     "output_type": "display_data"
    }
   ],
   "source": [
    "construction_year = [0,1,2,3,4,5,6]\n",
    "functional = per_con_yr_df['functional']\n",
    "nr_functional = per_con_yr_df['functional needs repair']\n",
    "n_functional = per_con_yr_df['non functional']\n",
    "header = per_con_yr_df.columns.values #an array of columns headers\n",
    "\n",
    "\n",
    "fig = plt.figure()\n",
    "ax = plt.subplot()\n",
    "\n",
    "#Grouped bar chart\n",
    "ind = np.arange(len(construction_year)) #no of x ticks;\n",
    "width = 0.3 #width of the bar\n",
    "\n",
    "\n",
    "#ax.bar(position of the bar wrt the x-ticks, data, width of bar, label)\n",
    "ax.bar(ind , functional, width,label='functional')\n",
    "ax.bar(ind- width , nr_functional, width,label='functional needs repair')\n",
    "ax.bar(ind + width , n_functional, width,label='non functional')\n",
    "ax.legend(loc=9,ncol=3)\n",
    "\n",
    "ax.set_xticks([0,1,2,3,4,5,6])\n",
    "ax.set_ylim(0,80)\n",
    "#create a list of  variable names to use as labels for ticks in hor axis\n",
    "xlab=[item.get_text() for item in ax.get_xticklabels()] # list with empty strings. list length determined my the ticks seen in the plots\n",
    "# replace empty strings at even list indexes by variable names in the same order as they are present in the dataframe column names\n",
    "xlab[0]='00s'\n",
    "xlab[1]='10s'\n",
    "xlab[2]='60s'\n",
    "xlab[3]='70s'\n",
    "xlab[4]='80s'\n",
    "xlab[5]='90s'\n",
    "xlab[6] ='unknown'\n",
    "\n",
    "\n",
    "\n",
    "\n",
    "#set the vertical axis tick labels using the list created above\n",
    "ax.set_xticklabels(xlab)\n",
    "\n",
    "\n",
    "\n",
    "\n",
    "for tick in ax.get_xticklabels():\n",
    "    tick.set_rotation(90)\n",
    "\n",
    "\n",
    "\n",
    "#Set the figure size so that all four panel graphs are clearly visible\n",
    "fig.set_size_inches(10,5)   \n",
    "\n",
    "\n",
    "plt.show()"
   ]
  },
  {
   "cell_type": "code",
   "execution_count": 341,
   "metadata": {},
   "outputs": [
    {
     "data": {
      "image/png": "[encoded data removed]",
      "text/plain": [
       "<Figure size 432x288 with 1 Axes>"
      ]
     },
     "metadata": {},
     "output_type": "display_data"
    }
   ],
   "source": [
    "sns.distplot(train_data.population, bins = 40)\n",
    "plt.show()"
   ]
  },
  {
   "cell_type": "code",
   "execution_count": 342,
   "metadata": {},
   "outputs": [
    {
     "data": {
      "text/plain": [
       "count    59400.000000\n",
       "mean       179.909983\n",
       "std        471.482176\n",
       "min          0.000000\n",
       "25%          0.000000\n",
       "50%         25.000000\n",
       "75%        215.000000\n",
       "max      30500.000000\n",
       "Name: population, dtype: float64"
      ]
     },
     "execution_count": 342,
     "metadata": {},
     "output_type": "execute_result"
    }
   ],
   "source": [
    "# This plot measures the amount of water available at the pump. It looks a lot like the \n",
    "# population graph which makes sense. \n",
    "\n",
    "train_data.population.describe()"
   ]
  },
  {
   "cell_type": "code",
   "execution_count": 343,
   "metadata": {},
   "outputs": [
    {
     "data": {
      "text/plain": [
       "count     59400.000000\n",
       "mean        317.650385\n",
       "std        2997.574558\n",
       "min           0.000000\n",
       "25%           0.000000\n",
       "50%           0.000000\n",
       "75%          20.000000\n",
       "max      350000.000000\n",
       "Name: amount_tsh, dtype: float64"
      ]
     },
     "execution_count": 343,
     "metadata": {},
     "output_type": "execute_result"
    }
   ],
   "source": [
    "train_data.amount_tsh.describe()"
   ]
  },
  {
   "cell_type": "code",
   "execution_count": 344,
   "metadata": {},
   "outputs": [
    {
     "name": "stdout",
     "output_type": "stream",
     "text": [
      "<class 'pandas.core.frame.DataFrame'>\n",
      "Int64Index: 59400 entries, 0 to 59399\n",
      "Data columns (total 20 columns):\n",
      " #   Column                 Non-Null Count  Dtype  \n",
      "---  ------                 --------------  -----  \n",
      " 0   amount_tsh             59400 non-null  float64\n",
      " 1   funder                 59400 non-null  object \n",
      " 2   installer              59400 non-null  object \n",
      " 3   basin                  59400 non-null  object \n",
      " 4   population             59400 non-null  int64  \n",
      " 5   public_meeting         59400 non-null  object \n",
      " 6   scheme_management      59400 non-null  object \n",
      " 7   permit                 59400 non-null  object \n",
      " 8   construction_year      59400 non-null  object \n",
      " 9   extraction_type_class  59400 non-null  object \n",
      " 10  payment_type           59400 non-null  object \n",
      " 11  quality_group          59400 non-null  object \n",
      " 12  quantity               59400 non-null  object \n",
      " 13  source_type            59400 non-null  object \n",
      " 14  source_class           59400 non-null  object \n",
      " 15  waterpoint_type        59400 non-null  object \n",
      " 16  waterpoint_type_group  59400 non-null  object \n",
      " 17  status_group           59400 non-null  object \n",
      " 18  status_group_vals      59400 non-null  int64  \n",
      " 19  operational_years      59400 non-null  int64  \n",
      "dtypes: float64(1), int64(3), object(16)\n",
      "memory usage: 12.0+ MB\n"
     ]
    }
   ],
   "source": [
    "train_data.info()"
   ]
  },
  {
   "cell_type": "code",
   "execution_count": 345,
   "metadata": {},
   "outputs": [
    {
     "data": {
      "text/plain": [
       "(59400, 20)"
      ]
     },
     "execution_count": 345,
     "metadata": {},
     "output_type": "execute_result"
    }
   ],
   "source": [
    "train_data.shape"
   ]
  },
  {
   "cell_type": "code",
   "execution_count": 346,
   "metadata": {},
   "outputs": [
    {
     "name": "stdout",
     "output_type": "stream",
     "text": [
      "<class 'pandas.core.frame.DataFrame'>\n",
      "Int64Index: 59400 entries, 0 to 59399\n",
      "Data columns (total 16 columns):\n",
      " #   Column                 Non-Null Count  Dtype \n",
      "---  ------                 --------------  ----- \n",
      " 0   funder                 59400 non-null  object\n",
      " 1   installer              59400 non-null  object\n",
      " 2   basin                  59400 non-null  object\n",
      " 3   public_meeting         59400 non-null  object\n",
      " 4   scheme_management      59400 non-null  object\n",
      " 5   permit                 59400 non-null  object\n",
      " 6   construction_year      59400 non-null  object\n",
      " 7   extraction_type_class  59400 non-null  object\n",
      " 8   payment_type           59400 non-null  object\n",
      " 9   quality_group          59400 non-null  object\n",
      " 10  quantity               59400 non-null  object\n",
      " 11  source_type            59400 non-null  object\n",
      " 12  source_class           59400 non-null  object\n",
      " 13  waterpoint_type        59400 non-null  object\n",
      " 14  waterpoint_type_group  59400 non-null  object\n",
      " 15  status_group           59400 non-null  object\n",
      "dtypes: object(16)\n",
      "memory usage: 10.2+ MB\n"
     ]
    }
   ],
   "source": [
    "cat_df = train_data.select_dtypes(include='object')\n",
    "\n",
    "\n",
    "\n",
    "cat_df.info()"
   ]
  },
  {
   "cell_type": "code",
   "execution_count": 347,
   "metadata": {},
   "outputs": [
    {
     "data": {
      "image/png": "[encoded data removed]",
      "text/plain": [
       "<Figure size 576x720 with 1 Axes>"
      ]
     },
     "metadata": {},
     "output_type": "display_data"
    }
   ],
   "source": [
    "mca = prince.MCA(\n",
    "        n_components=2,\n",
    "        n_iter=3,\n",
    "        copy=True,\n",
    "        check_input=True,\n",
    "        engine='auto',\n",
    "        random_state=42\n",
    "        )\n",
    "churn_mca = mca.fit(cat_df)\n",
    "\n",
    "ax = churn_mca.plot_coordinates(\n",
    "        X=cat_df,\n",
    "        ax=None,\n",
    "        figsize=(8, 10),\n",
    "        show_row_points=False,\n",
    "        row_points_size=0,\n",
    "        show_row_labels=False,\n",
    "        show_column_points=True,\n",
    "        column_points_size=10,\n",
    "        show_column_labels=False,\n",
    "        legend_n_cols=1\n",
    "               ).legend(loc='center left', bbox_to_anchor=(1, 0.5))"
   ]
  },
  {
   "cell_type": "code",
   "execution_count": 348,
   "metadata": {},
   "outputs": [],
   "source": [
    "churn2 = pd.get_dummies(cat_df, drop_first=False)"
   ]
  },
  {
   "cell_type": "code",
   "execution_count": 349,
   "metadata": {},
   "outputs": [
    {
     "name": "stdout",
     "output_type": "stream",
     "text": [
      "(59400, 99)\n"
     ]
    }
   ],
   "source": [
    "print(churn2.shape)"
   ]
  },
  {
   "cell_type": "code",
   "execution_count": 350,
   "metadata": {},
   "outputs": [
    {
     "name": "stdout",
     "output_type": "stream",
     "text": [
      "The data set contains: 59400 rows and 99 columns\n",
      "Features after get_dummies:\n",
      " ['funder_Dis_Council', 'funder_Kkkt', 'funder_Tasaf', 'funder_Unicef', 'funder_danida', 'funder_gov', 'funder_hesawa', 'funder_other', 'funder_rwssp', 'funder_world_bank', 'installer_Hesawa', 'installer_commu', 'installer_danida', 'installer_dwe', 'installer_gov', 'installer_other', 'installer_rwe', 'basin_Internal', 'basin_Lake Nyasa', 'basin_Lake Rukwa', 'basin_Lake Tanganyika', 'basin_Lake Victoria', 'basin_Pangani', 'basin_Rufiji', 'basin_Ruvuma / Southern Coast', 'basin_Wami / Ruvu', 'public_meeting_False', 'public_meeting_True', 'public_meeting_Unknown', 'scheme_management_Parastatal', 'scheme_management_comp', 'scheme_management_other', 'scheme_management_pri_opr', 'scheme_management_vwc', 'scheme_management_wtr_auth', 'scheme_management_wtr_brd', 'scheme_management_wua', 'scheme_management_wug', 'permit_False', 'permit_True', 'permit_Unknown', 'construction_year_00s', 'construction_year_10s', 'construction_year_60s', 'construction_year_70s', 'construction_year_80s', 'construction_year_90s', 'construction_year_unknown', 'extraction_type_class_gravity', 'extraction_type_class_handpump', 'extraction_type_class_motorpump', 'extraction_type_class_other', 'extraction_type_class_rope pump', 'extraction_type_class_submersible', 'extraction_type_class_wind-powered', 'payment_type_annually', 'payment_type_monthly', 'payment_type_never pay', 'payment_type_on failure', 'payment_type_other', 'payment_type_per bucket', 'payment_type_unknown', 'quality_group_colored', 'quality_group_fluoride', 'quality_group_good', 'quality_group_milky', 'quality_group_salty', 'quality_group_unknown', 'quantity_dry', 'quantity_enough', 'quantity_insufficient', 'quantity_seasonal', 'quantity_unknown', 'source_type_borehole', 'source_type_dam', 'source_type_other', 'source_type_rainwater harvesting', 'source_type_river/lake', 'source_type_shallow well', 'source_type_spring', 'source_class_groundwater', 'source_class_surface', 'source_class_unknown', 'waterpoint_type_cattle trough', 'waterpoint_type_communal standpipe', 'waterpoint_type_communal standpipe multiple', 'waterpoint_type_dam', 'waterpoint_type_hand pump', 'waterpoint_type_improved spring', 'waterpoint_type_other', 'waterpoint_type_group_cattle trough', 'waterpoint_type_group_communal standpipe', 'waterpoint_type_group_dam', 'waterpoint_type_group_hand pump', 'waterpoint_type_group_improved spring', 'waterpoint_type_group_other', 'status_group_functional', 'status_group_functional needs repair', 'status_group_non functional']\n"
     ]
    }
   ],
   "source": [
    "print(\"The data set contains: {} rows and {} columns\".format(churn2.shape[0], churn2.shape[1]))\n",
    "print(\"Features after get_dummies:\\n\", list(churn2.columns))"
   ]
  },
  {
   "cell_type": "code",
   "execution_count": 351,
   "metadata": {},
   "outputs": [],
   "source": [
    "y = churn2[['status_group_functional','status_group_functional needs repair', 'status_group_non functional']] # target variable\n",
    "X = churn2.drop(['status_group_functional','status_group_functional needs repair', 'status_group_non functional'],axis=1) # input categorical features\n"
   ]
  },
  {
   "cell_type": "code",
   "execution_count": 352,
   "metadata": {},
   "outputs": [
    {
     "name": "stdout",
     "output_type": "stream",
     "text": [
      " funder_Dis_Council: 46.735754\n",
      " funder_Kkkt: 8.958172\n",
      " funder_Tasaf: 1.443570\n",
      " funder_Unicef: 13.285733\n",
      " funder_danida: 22.032436\n",
      " funder_gov: 694.831216\n",
      " funder_hesawa: 130.558801\n",
      " funder_other: 288.658764\n",
      " funder_rwssp: 14.216822\n",
      " funder_world_bank: 116.721629\n",
      " installer_Hesawa: 34.531385\n",
      " installer_commu: 90.749346\n",
      " installer_danida: 3.135005\n",
      " installer_dwe: 118.209377\n",
      " installer_gov: 482.555852\n",
      " installer_other: 104.688615\n",
      " installer_rwe: 412.146674\n",
      " basin_Internal: 35.530079\n",
      " basin_Lake Nyasa: 253.612197\n",
      " basin_Lake Rukwa: 191.795267\n",
      " basin_Lake Tanganyika: 208.953087\n",
      " basin_Lake Victoria: 131.441654\n",
      " basin_Pangani: 135.416944\n",
      " basin_Rufiji: 275.321373\n",
      " basin_Ruvuma / Southern Coast: 586.991201\n",
      " basin_Wami / Ruvu: 101.972423\n",
      " public_meeting_False: 261.956384\n",
      " public_meeting_True: 44.171404\n",
      " public_meeting_Unknown: 77.871905\n",
      " scheme_management_Parastatal: 83.062192\n",
      " scheme_management_comp: 40.577562\n",
      " scheme_management_other: 99.258515\n",
      " scheme_management_pri_opr: 101.218791\n",
      " scheme_management_vwc: 226.590779\n",
      " scheme_management_wtr_auth: 227.007774\n",
      " scheme_management_wtr_brd: 460.901752\n",
      " scheme_management_wua: 311.849334\n",
      " scheme_management_wug: 350.742176\n",
      " permit_False: 48.124954\n",
      " permit_True: 21.535402\n",
      " permit_Unknown: 34.520204\n",
      " construction_year_00s: 744.848831\n",
      " construction_year_10s: 767.116997\n",
      " construction_year_60s: 149.610783\n",
      " construction_year_70s: 952.646615\n",
      " construction_year_80s: 509.414919\n",
      " construction_year_90s: 4.794637\n",
      " construction_year_unknown: 116.993879\n",
      " extraction_type_class_gravity: 944.183000\n",
      " extraction_type_class_handpump: 507.205685\n",
      " extraction_type_class_motorpump: 454.509639\n",
      " extraction_type_class_other: 4887.351064\n",
      " extraction_type_class_rope pump: 23.046671\n",
      " extraction_type_class_submersible: 106.720369\n",
      " extraction_type_class_wind-powered: 8.185213\n",
      " payment_type_annually: 690.811137\n",
      " payment_type_monthly: 912.896916\n",
      " payment_type_never pay: 969.864077\n",
      " payment_type_on failure: 101.724691\n",
      " payment_type_other: 40.775107\n",
      " payment_type_per bucket: 661.952180\n",
      " payment_type_unknown: 587.595296\n",
      " quality_group_colored: 11.030404\n",
      " quality_group_fluoride: 29.367244\n",
      " quality_group_good: 157.385495\n",
      " quality_group_milky: 39.795102\n",
      " quality_group_salty: 211.116173\n",
      " quality_group_unknown: 1651.442169\n",
      " quantity_dry: 9025.547856\n",
      " quantity_enough: 1753.276043\n",
      " quantity_insufficient: 123.120145\n",
      " quantity_seasonal: 96.710532\n",
      " quantity_unknown: 362.113320\n",
      " source_type_borehole: 388.352642\n",
      " source_type_dam: 105.611828\n",
      " source_type_other: 12.394751\n",
      " source_type_rainwater harvesting: 238.862746\n",
      " source_type_river/lake: 359.500214\n",
      " source_type_shallow well: 309.980683\n",
      " source_type_spring: 492.094549\n",
      " source_class_groundwater: 125.623827\n",
      " source_class_surface: 452.244709\n",
      " source_class_unknown: 12.394751\n",
      " waterpoint_type_cattle trough: 16.671130\n",
      " waterpoint_type_communal standpipe: 875.596693\n",
      " waterpoint_type_communal standpipe multiple: 772.248103\n",
      " waterpoint_type_dam: 2.841572\n",
      " waterpoint_type_hand pump: 395.091117\n",
      " waterpoint_type_improved spring: 148.651601\n",
      " waterpoint_type_other: 5239.216380\n",
      " waterpoint_type_group_cattle trough: 16.671130\n",
      " waterpoint_type_group_communal standpipe: 312.302418\n",
      " waterpoint_type_group_dam: 2.841572\n",
      " waterpoint_type_group_hand pump: 395.091117\n",
      " waterpoint_type_group_improved spring: 148.651601\n",
      " waterpoint_type_group_other: 5239.216380\n"
     ]
    }
   ],
   "source": [
    "# categorical feature selection\n",
    "sf = SelectKBest(chi2, k='all')\n",
    "sf_fit = sf.fit(X, y)\n",
    "# print feature scores\n",
    "for i in range(len(sf_fit.scores_)):\n",
    "    print(' %s: %f' % (X.columns[i], sf_fit.scores_[i]))"
   ]
  },
  {
   "cell_type": "code",
   "execution_count": 353,
   "metadata": {},
   "outputs": [
    {
     "data": {
      "image/png": "[encoded data removed]",
      "text/plain": [
       "<Figure size 432x288 with 1 Axes>"
      ]
     },
     "metadata": {},
     "output_type": "display_data"
    }
   ],
   "source": [
    "# plot the scores\n",
    "datset = pd.DataFrame()\n",
    "datset['feature'] = X.columns[ range(len(sf_fit.scores_))]\n",
    "datset['scores'] = sf_fit.scores_\n",
    "datset = datset.sort_values(by='scores', ascending=False)\n",
    "sns.barplot(datset['scores'][0:25], datset['feature'][0:25], color='blue')\n",
    "sns.set_style('whitegrid')\n",
    "plt.ylabel('Categorical Feature', fontsize=18)\n",
    "plt.xlabel('Score', fontsize=18)\n",
    "plt.show()"
   ]
  },
  {
   "cell_type": "code",
   "execution_count": 354,
   "metadata": {
    "scrolled": true
   },
   "outputs": [],
   "source": [
    "feature_list = [i for i in datset['feature'][0:25]]\n",
    "#num_cols = ['amount_tsh', 'days_since_recorded','population']\n",
    "\n",
    "#for j in num_cols:\n",
    "    #feature_list.append(j)\n",
    "\n",
    "#feature_list\n",
    "\n"
   ]
  },
  {
   "cell_type": "code",
   "execution_count": 355,
   "metadata": {},
   "outputs": [
    {
     "data": {
      "text/plain": [
       "68                                   quantity_dry\n",
       "95                    waterpoint_type_group_other\n",
       "89                          waterpoint_type_other\n",
       "51                    extraction_type_class_other\n",
       "69                                quantity_enough\n",
       "67                          quality_group_unknown\n",
       "57                         payment_type_never pay\n",
       "44                          construction_year_70s\n",
       "48                  extraction_type_class_gravity\n",
       "56                           payment_type_monthly\n",
       "84             waterpoint_type_communal standpipe\n",
       "85    waterpoint_type_communal standpipe multiple\n",
       "42                          construction_year_10s\n",
       "41                          construction_year_00s\n",
       "5                                      funder_gov\n",
       "55                          payment_type_annually\n",
       "60                        payment_type_per bucket\n",
       "61                           payment_type_unknown\n",
       "24                  basin_Ruvuma / Southern Coast\n",
       "45                          construction_year_80s\n",
       "49                 extraction_type_class_handpump\n",
       "79                             source_type_spring\n",
       "14                                  installer_gov\n",
       "35                      scheme_management_wtr_brd\n",
       "50                extraction_type_class_motorpump\n",
       "Name: feature, dtype: object"
      ]
     },
     "execution_count": 355,
     "metadata": {},
     "output_type": "execute_result"
    }
   ],
   "source": [
    "datset['feature'][0:25]"
   ]
  },
  {
   "cell_type": "code",
   "execution_count": 356,
   "metadata": {},
   "outputs": [
    {
     "data": {
      "text/plain": [
       "2    32259\n",
       "0    22824\n",
       "1     4317\n",
       "Name: status_group_vals, dtype: int64"
      ]
     },
     "execution_count": 356,
     "metadata": {},
     "output_type": "execute_result"
    }
   ],
   "source": [
    "\n",
    "train_data['status_group_vals'].value_counts()\n"
   ]
  },
  {
   "cell_type": "code",
   "execution_count": 357,
   "metadata": {},
   "outputs": [],
   "source": [
    "train_data.drop('status_group',inplace=True,axis=1)"
   ]
  },
  {
   "cell_type": "code",
   "execution_count": 358,
   "metadata": {},
   "outputs": [],
   "source": [
    "data_train, data_test = train_test_split(train_data, test_size=0.25,random_state=1443,stratify=train_data.status_group_vals)"
   ]
  },
  {
   "cell_type": "code",
   "execution_count": 359,
   "metadata": {},
   "outputs": [],
   "source": [
    "X_train1 = data_train\n",
    "y_train = data_train['status_group_vals']\n",
    "\n",
    "\n",
    "X_test1 = data_test\n",
    "y_test = data_test['status_group_vals']\n"
   ]
  },
  {
   "cell_type": "code",
   "execution_count": 360,
   "metadata": {},
   "outputs": [],
   "source": [
    "X_train = pd.get_dummies(X_train1)\n",
    "X_train.drop('status_group_vals',inplace=True,axis=1)\n",
    "X_test = pd.get_dummies(X_test1)\n",
    "X_test.drop('status_group_vals',inplace=True,axis=1)"
   ]
  },
  {
   "cell_type": "code",
   "execution_count": 114,
   "metadata": {},
   "outputs": [
    {
     "data": {
      "text/html": [
       "<div>\n",
       "<style scoped>\n",
       "    .dataframe tbody tr th:only-of-type {\n",
       "        vertical-align: middle;\n",
       "    }\n",
       "\n",
       "    .dataframe tbody tr th {\n",
       "        vertical-align: top;\n",
       "    }\n",
       "\n",
       "    .dataframe thead th {\n",
       "        text-align: right;\n",
       "    }\n",
       "</style>\n",
       "<table border=\"1\" class=\"dataframe\">\n",
       "  <thead>\n",
       "    <tr style=\"text-align: right;\">\n",
       "      <th></th>\n",
       "      <th>amount_tsh</th>\n",
       "      <th>population</th>\n",
       "      <th>operational_years</th>\n",
       "      <th>funder_Dis_Council</th>\n",
       "      <th>funder_Kkkt</th>\n",
       "      <th>funder_Tasaf</th>\n",
       "      <th>funder_Unicef</th>\n",
       "      <th>funder_danida</th>\n",
       "      <th>funder_gov</th>\n",
       "      <th>funder_hesawa</th>\n",
       "      <th>...</th>\n",
       "      <th>waterpoint_type_dam</th>\n",
       "      <th>waterpoint_type_hand pump</th>\n",
       "      <th>waterpoint_type_improved spring</th>\n",
       "      <th>waterpoint_type_other</th>\n",
       "      <th>waterpoint_type_group_cattle trough</th>\n",
       "      <th>waterpoint_type_group_communal standpipe</th>\n",
       "      <th>waterpoint_type_group_dam</th>\n",
       "      <th>waterpoint_type_group_hand pump</th>\n",
       "      <th>waterpoint_type_group_improved spring</th>\n",
       "      <th>waterpoint_type_group_other</th>\n",
       "    </tr>\n",
       "  </thead>\n",
       "  <tbody>\n",
       "    <tr>\n",
       "      <th>40630</th>\n",
       "      <td>0.0</td>\n",
       "      <td>96</td>\n",
       "      <td>50</td>\n",
       "      <td>0</td>\n",
       "      <td>0</td>\n",
       "      <td>0</td>\n",
       "      <td>0</td>\n",
       "      <td>0</td>\n",
       "      <td>1</td>\n",
       "      <td>0</td>\n",
       "      <td>...</td>\n",
       "      <td>0</td>\n",
       "      <td>0</td>\n",
       "      <td>0</td>\n",
       "      <td>0</td>\n",
       "      <td>0</td>\n",
       "      <td>1</td>\n",
       "      <td>0</td>\n",
       "      <td>0</td>\n",
       "      <td>0</td>\n",
       "      <td>0</td>\n",
       "    </tr>\n",
       "    <tr>\n",
       "      <th>36440</th>\n",
       "      <td>0.0</td>\n",
       "      <td>0</td>\n",
       "      <td>0</td>\n",
       "      <td>0</td>\n",
       "      <td>0</td>\n",
       "      <td>0</td>\n",
       "      <td>0</td>\n",
       "      <td>0</td>\n",
       "      <td>0</td>\n",
       "      <td>0</td>\n",
       "      <td>...</td>\n",
       "      <td>0</td>\n",
       "      <td>0</td>\n",
       "      <td>1</td>\n",
       "      <td>0</td>\n",
       "      <td>0</td>\n",
       "      <td>0</td>\n",
       "      <td>0</td>\n",
       "      <td>0</td>\n",
       "      <td>1</td>\n",
       "      <td>0</td>\n",
       "    </tr>\n",
       "    <tr>\n",
       "      <th>25799</th>\n",
       "      <td>0.0</td>\n",
       "      <td>0</td>\n",
       "      <td>0</td>\n",
       "      <td>0</td>\n",
       "      <td>0</td>\n",
       "      <td>0</td>\n",
       "      <td>0</td>\n",
       "      <td>0</td>\n",
       "      <td>0</td>\n",
       "      <td>0</td>\n",
       "      <td>...</td>\n",
       "      <td>0</td>\n",
       "      <td>1</td>\n",
       "      <td>0</td>\n",
       "      <td>0</td>\n",
       "      <td>0</td>\n",
       "      <td>0</td>\n",
       "      <td>0</td>\n",
       "      <td>1</td>\n",
       "      <td>0</td>\n",
       "      <td>0</td>\n",
       "    </tr>\n",
       "    <tr>\n",
       "      <th>24265</th>\n",
       "      <td>0.0</td>\n",
       "      <td>1</td>\n",
       "      <td>13</td>\n",
       "      <td>0</td>\n",
       "      <td>0</td>\n",
       "      <td>0</td>\n",
       "      <td>0</td>\n",
       "      <td>0</td>\n",
       "      <td>0</td>\n",
       "      <td>0</td>\n",
       "      <td>...</td>\n",
       "      <td>0</td>\n",
       "      <td>0</td>\n",
       "      <td>0</td>\n",
       "      <td>0</td>\n",
       "      <td>0</td>\n",
       "      <td>1</td>\n",
       "      <td>0</td>\n",
       "      <td>0</td>\n",
       "      <td>0</td>\n",
       "      <td>0</td>\n",
       "    </tr>\n",
       "    <tr>\n",
       "      <th>1462</th>\n",
       "      <td>0.0</td>\n",
       "      <td>0</td>\n",
       "      <td>0</td>\n",
       "      <td>0</td>\n",
       "      <td>0</td>\n",
       "      <td>0</td>\n",
       "      <td>0</td>\n",
       "      <td>0</td>\n",
       "      <td>0</td>\n",
       "      <td>0</td>\n",
       "      <td>...</td>\n",
       "      <td>0</td>\n",
       "      <td>0</td>\n",
       "      <td>0</td>\n",
       "      <td>1</td>\n",
       "      <td>0</td>\n",
       "      <td>0</td>\n",
       "      <td>0</td>\n",
       "      <td>0</td>\n",
       "      <td>0</td>\n",
       "      <td>1</td>\n",
       "    </tr>\n",
       "  </tbody>\n",
       "</table>\n",
       "<p>5 rows × 99 columns</p>\n",
       "</div>"
      ],
      "text/plain": [
       "       amount_tsh  population  operational_years  funder_Dis_Council  \\\n",
       "40630         0.0          96                 50                   0   \n",
       "36440         0.0           0                  0                   0   \n",
       "25799         0.0           0                  0                   0   \n",
       "24265         0.0           1                 13                   0   \n",
       "1462          0.0           0                  0                   0   \n",
       "\n",
       "       funder_Kkkt  funder_Tasaf  funder_Unicef  funder_danida  funder_gov  \\\n",
       "40630            0             0              0              0           1   \n",
       "36440            0             0              0              0           0   \n",
       "25799            0             0              0              0           0   \n",
       "24265            0             0              0              0           0   \n",
       "1462             0             0              0              0           0   \n",
       "\n",
       "       funder_hesawa  ...  waterpoint_type_dam  waterpoint_type_hand pump  \\\n",
       "40630              0  ...                    0                          0   \n",
       "36440              0  ...                    0                          0   \n",
       "25799              0  ...                    0                          1   \n",
       "24265              0  ...                    0                          0   \n",
       "1462               0  ...                    0                          0   \n",
       "\n",
       "       waterpoint_type_improved spring  waterpoint_type_other  \\\n",
       "40630                                0                      0   \n",
       "36440                                1                      0   \n",
       "25799                                0                      0   \n",
       "24265                                0                      0   \n",
       "1462                                 0                      1   \n",
       "\n",
       "       waterpoint_type_group_cattle trough  \\\n",
       "40630                                    0   \n",
       "36440                                    0   \n",
       "25799                                    0   \n",
       "24265                                    0   \n",
       "1462                                     0   \n",
       "\n",
       "       waterpoint_type_group_communal standpipe  waterpoint_type_group_dam  \\\n",
       "40630                                         1                          0   \n",
       "36440                                         0                          0   \n",
       "25799                                         0                          0   \n",
       "24265                                         1                          0   \n",
       "1462                                          0                          0   \n",
       "\n",
       "       waterpoint_type_group_hand pump  waterpoint_type_group_improved spring  \\\n",
       "40630                                0                                      0   \n",
       "36440                                0                                      1   \n",
       "25799                                1                                      0   \n",
       "24265                                0                                      0   \n",
       "1462                                 0                                      0   \n",
       "\n",
       "       waterpoint_type_group_other  \n",
       "40630                            0  \n",
       "36440                            0  \n",
       "25799                            0  \n",
       "24265                            0  \n",
       "1462                             1  \n",
       "\n",
       "[5 rows x 99 columns]"
      ]
     },
     "execution_count": 114,
     "metadata": {},
     "output_type": "execute_result"
    }
   ],
   "source": [
    "X_train.head(5)"
   ]
  },
  {
   "cell_type": "markdown",
   "metadata": {},
   "source": [
    "gaussian model"
   ]
  },
  {
   "cell_type": "code",
   "execution_count": 115,
   "metadata": {},
   "outputs": [],
   "source": [
    "gnb = GaussianNB()"
   ]
  },
  {
   "cell_type": "code",
   "execution_count": 116,
   "metadata": {},
   "outputs": [
    {
     "data": {
      "text/plain": [
       "GaussianNB()"
      ]
     },
     "execution_count": 116,
     "metadata": {},
     "output_type": "execute_result"
    }
   ],
   "source": [
    "gnb.fit(X_train, y_train)"
   ]
  },
  {
   "cell_type": "code",
   "execution_count": 117,
   "metadata": {},
   "outputs": [],
   "source": [
    "y_pred = gnb.predict(X_test)"
   ]
  },
  {
   "cell_type": "code",
   "execution_count": 118,
   "metadata": {},
   "outputs": [
    {
     "name": "stdout",
     "output_type": "stream",
     "text": [
      "Accuracy: 0.6270707070707071\n"
     ]
    }
   ],
   "source": [
    "print(\"Accuracy:\",metrics.accuracy_score(y_test, y_pred))"
   ]
  },
  {
   "cell_type": "markdown",
   "metadata": {},
   "source": [
    "Multinomial "
   ]
  },
  {
   "cell_type": "code",
   "execution_count": 119,
   "metadata": {},
   "outputs": [],
   "source": [
    "clf = MultinomialNB()"
   ]
  },
  {
   "cell_type": "code",
   "execution_count": 120,
   "metadata": {},
   "outputs": [
    {
     "data": {
      "text/plain": [
       "MultinomialNB()"
      ]
     },
     "execution_count": 120,
     "metadata": {},
     "output_type": "execute_result"
    }
   ],
   "source": [
    "clf.fit(X_train, y_train)"
   ]
  },
  {
   "cell_type": "code",
   "execution_count": 121,
   "metadata": {},
   "outputs": [],
   "source": [
    "y_pred = clf.predict(X_test)"
   ]
  },
  {
   "cell_type": "code",
   "execution_count": 122,
   "metadata": {},
   "outputs": [
    {
     "name": "stdout",
     "output_type": "stream",
     "text": [
      "Accuracy: 0.4606734006734007\n"
     ]
    }
   ],
   "source": [
    "print(\"Accuracy:\",metrics.accuracy_score(y_test, y_pred))"
   ]
  },
  {
   "cell_type": "markdown",
   "metadata": {},
   "source": [
    "Random Forest"
   ]
  },
  {
   "cell_type": "code",
   "execution_count": 123,
   "metadata": {},
   "outputs": [],
   "source": [
    "from sklearn.ensemble import RandomForestClassifier"
   ]
  },
  {
   "cell_type": "code",
   "execution_count": 124,
   "metadata": {},
   "outputs": [],
   "source": [
    "model = RandomForestClassifier(n_estimators=200,max_depth=50, random_state=14400)"
   ]
  },
  {
   "cell_type": "code",
   "execution_count": 125,
   "metadata": {},
   "outputs": [
    {
     "data": {
      "text/plain": [
       "RandomForestClassifier(max_depth=50, n_estimators=200, random_state=14400)"
      ]
     },
     "execution_count": 125,
     "metadata": {},
     "output_type": "execute_result"
    }
   ],
   "source": [
    "model.fit(X_train, y_train)"
   ]
  },
  {
   "cell_type": "code",
   "execution_count": 126,
   "metadata": {},
   "outputs": [],
   "source": [
    "y_pred = model.predict(X_test)"
   ]
  },
  {
   "cell_type": "code",
   "execution_count": 127,
   "metadata": {},
   "outputs": [
    {
     "name": "stdout",
     "output_type": "stream",
     "text": [
      "Accuracy: 0.7835016835016835\n"
     ]
    }
   ],
   "source": [
    "print(\"Accuracy:\",metrics.accuracy_score(y_test, y_pred))"
   ]
  },
  {
   "cell_type": "code",
   "execution_count": 367,
   "metadata": {},
   "outputs": [],
   "source": [
    "from sklearn.metrics import accuracy_score, classification_report, confusion_matrix,precision_score,recall_score\n",
    "\n",
    "def calculate_metrics(y_test, y_pred, y_prob=None, sample_weights=None):\n",
    "    \"\"\"Cacluate model performance metrics\"\"\"\n",
    "\n",
    "    # Dictionary of metrics to calculate\n",
    "    metrics = {}\n",
    "    metrics['confusion_matrix']  = confusion_matrix(y_test, y_pred, sample_weight=sample_weights)\n",
    "    metrics['accuracy']          = accuracy_score(y_test, y_pred, sample_weight=sample_weights)\n",
    "    metrics['precision']         = precision_score(y_test, y_pred, sample_weight=sample_weights,average='weighted')\n",
    "    metrics['recall']            = recall_score(y_test, y_pred, sample_weight=sample_weights,average='weighted')\n",
    "\n",
    "\n",
    "    return metrics"
   ]
  },
  {
   "cell_type": "code",
   "execution_count": 368,
   "metadata": {},
   "outputs": [],
   "source": [
    "def conf_mat(metrics):\n",
    "    '''plot and display the confusion matrix'''\n",
    "    array = metrics['confusion_matrix']\n",
    "    classes=['functional','functional need repair','non functional']\n",
    "    df_cm = pd.DataFrame(array, index = [i for i in classes],\n",
    "                  columns = [i for i in classes])\n",
    "    plt.figure(figsize = (10,7))\n",
    "    sn.heatmap(df_cm, annot=True,cmap=\"Blues\")\n",
    "    plt.show()"
   ]
  },
  {
   "cell_type": "code",
   "execution_count": 130,
   "metadata": {},
   "outputs": [
    {
     "data": {
      "image/png": "[encoded data removed]",
      "text/plain": [
       "<Figure size 720x504 with 2 Axes>"
      ]
     },
     "metadata": {},
     "output_type": "display_data"
    }
   ],
   "source": [
    "metrics = calculate_metrics(y_test, y_pred)\n",
    "conf_mat(metrics)"
   ]
  },
  {
   "cell_type": "code",
   "execution_count": 113,
   "metadata": {},
   "outputs": [],
   "source": [
    "def pltcolor(lst):\n",
    "    cols=[]\n",
    "    for l in lst:\n",
    "        if l==0:\n",
    "            cols.append('green')\n",
    "        elif l==1:\n",
    "            cols.append('yellow')\n",
    "        elif l==2:\n",
    "            cols.append('red')\n",
    "\n",
    "    return cols\n",
    "# Create the colors list using the function above\n",
    "cols_pred=pltcolor(y_pred)\n",
    "cols_true=pltcolor(y_test)\n"
   ]
  },
  {
   "cell_type": "code",
   "execution_count": 114,
   "metadata": {},
   "outputs": [
    {
     "data": {
      "text/plain": [
       "(0, 12000)"
      ]
     },
     "execution_count": 114,
     "metadata": {},
     "output_type": "execute_result"
    },
    {
     "data": {
      "image/png": "[encoded data removed]",
      "text/plain": [
       "<Figure size 432x288 with 2 Axes>"
      ]
     },
     "metadata": {},
     "output_type": "display_data"
    }
   ],
   "source": [
    "ax1=plt.subplot(1,2,1)\n",
    "ax1.scatter(X_test1['amount_tsh'],X_test1['population'],c = cols_pred,s=30)\n",
    "ax1.set_xlim(0,1200)\n",
    "ax1.set_ylim(0,12000)\n",
    "ax2=plt.subplot(1,2,2)\n",
    "ax2.scatter(X_test1['amount_tsh'],X_test1['population'],c = cols_true,s=30)\n",
    "ax2.set_xlim(0,1200)\n",
    "ax2.set_ylim(0,12000)\n"
   ]
  },
  {
   "cell_type": "markdown",
   "metadata": {},
   "source": [
    "Naive bayes classifier assuming its a Bernaoulli distribution"
   ]
  },
  {
   "cell_type": "code",
   "execution_count": 246,
   "metadata": {},
   "outputs": [],
   "source": [
    "from sklearn.naive_bayes import BernoulliNB"
   ]
  },
  {
   "cell_type": "code",
   "execution_count": 247,
   "metadata": {},
   "outputs": [
    {
     "name": "stderr",
     "output_type": "stream",
     "text": [
      "/opt/anaconda3/lib/python3.7/site-packages/pandas/core/frame.py:3997: SettingWithCopyWarning: \n",
      "A value is trying to be set on a copy of a slice from a DataFrame\n",
      "\n",
      "See the caveats in the documentation: https://pandas.pydata.org/pandas-docs/stable/user_guide/indexing.html#returning-a-view-versus-a-copy\n",
      "  errors=errors,\n"
     ]
    },
    {
     "data": {
      "image/png": "[encoded data removed]",
      "text/plain": [
       "<Figure size 720x360 with 1 Axes>"
      ]
     },
     "metadata": {},
     "output_type": "display_data"
    }
   ],
   "source": [
    "clf1 = BernoulliNB()\n",
    "test_error = []\n",
    "feature_num = [5,10,15,20,25,30,35,40,45,50,55,60,65,70,75,80,85,90,95,99]\n",
    "data_train, data_test = train_test_split(train_data, test_size=0.25,random_state=1443,stratify=train_data.status_group_vals)\n",
    "X_train1 = data_train\n",
    "y_train = data_train['status_group_vals']\n",
    "X_test1 = data_test\n",
    "y_test = data_test['status_group_vals']\n",
    "X_train1.drop('status_group_vals',inplace=True,axis=1)\n",
    "X_test1.drop('status_group_vals',inplace=True,axis=1)\n",
    "#X_train1.drop(['amount_tsh','operational_years','population'], inplace = True,axis=1)\n",
    "#X_test1.drop(['amount_tsh','operational_years','population'], inplace = True,axis=1)\n",
    "\n",
    "for i in feature_num:\n",
    "    feature_list = [k for k in datset['feature'][0:i]]\n",
    "    #num_cols = ['amount_tsh','operational_years','population']\n",
    "    #for j in num_cols:\n",
    "        #feature_list.append(j)\n",
    "        \n",
    "\n",
    "        \n",
    "    # selecting best catagories\n",
    "    X_train = pd.get_dummies(X_train1)\n",
    "    X_train = X_train[feature_list]\n",
    "\n",
    "    X_test = pd.get_dummies(X_test1)\n",
    "    X_test = X_test[feature_list]\n",
    "    \n",
    "    \n",
    "    \n",
    "    \n",
    "    clf1.fit(X_train, y_train)\n",
    "    \n",
    "    y_pred = clf1.predict(X_test)\n",
    "    test_error.append(metrics.accuracy_score(y_test, y_pred))\n",
    "    \n",
    "    \n",
    "fig = plt.figure()\n",
    "ax = plt.subplot()\n",
    "ax.plot(feature_num,test_error)\n",
    "ax.scatter(25, 0.7169696969696969,c='red')\n",
    "ax.text(26,0.7169696969696969,'Features = 25')\n",
    "ax.set_xlabel('Number of features')\n",
    "ax.set_ylabel('Model Accuracy')\n",
    "#Set the figure size so that all four panel graphs are clearly visible\n",
    "fig.set_size_inches(10,5)   \n",
    "#Set a title for the figure\n",
    "fig.suptitle('Testing accuracy for Bernoulli Naive Bayes'\\\n",
    "             ,y=1,fontsize=15,fontweight='bold')\n",
    "plt.show()"
   ]
  },
  {
   "cell_type": "markdown",
   "metadata": {},
   "source": [
    "selecting cotegorical feautres"
   ]
  },
  {
   "cell_type": "markdown",
   "metadata": {},
   "source": [
    "errors for training and testing"
   ]
  },
  {
   "cell_type": "code",
   "execution_count": 123,
   "metadata": {},
   "outputs": [
    {
     "name": "stderr",
     "output_type": "stream",
     "text": [
      "/opt/anaconda3/lib/python3.7/site-packages/pandas/core/frame.py:3997: SettingWithCopyWarning: \n",
      "A value is trying to be set on a copy of a slice from a DataFrame\n",
      "\n",
      "See the caveats in the documentation: https://pandas.pydata.org/pandas-docs/stable/user_guide/indexing.html#returning-a-view-versus-a-copy\n",
      "  errors=errors,\n"
     ]
    },
    {
     "data": {
      "text/plain": [
       "[<matplotlib.lines.Line2D at 0x1a1d5558d0>]"
      ]
     },
     "execution_count": 123,
     "metadata": {},
     "output_type": "execute_result"
    },
    {
     "data": {
      "image/png": "[encoded data removed]",
      "text/plain": [
       "<Figure size 432x288 with 1 Axes>"
      ]
     },
     "metadata": {},
     "output_type": "display_data"
    }
   ],
   "source": [
    "model = RandomForestClassifier(n_estimators=200,max_depth=50, random_state=14400)\n",
    "test_error = []\n",
    "feature_num = [5,10,15,20,25,30,35,40,45,50,55,60,65,70,75,80,85,90,95,99]\n",
    "data_train, data_test = train_test_split(train_data, test_size=0.25,random_state=1443,stratify=train_data.status_group_vals)\n",
    "X_train1 = data_train\n",
    "y_train = data_train['status_group_vals']\n",
    "X_test1 = data_test\n",
    "y_test = data_test['status_group_vals']\n",
    "X_train1.drop('status_group_vals',inplace=True,axis=1)\n",
    "X_test1.drop('status_group_vals',inplace=True,axis=1)\n",
    "\n",
    "\n",
    "for i in feature_num:\n",
    "    feature_list = [k for k in datset['feature'][0:i]]\n",
    "    num_cols = ['amount_tsh', 'operational_years','population']\n",
    "    for j in num_cols:\n",
    "        feature_list.append(j)\n",
    "        \n",
    "\n",
    "        \n",
    "    # selecting best catagories\n",
    "    X_train = pd.get_dummies(X_train1)\n",
    "    X_train = X_train[feature_list]\n",
    "\n",
    "    X_test = pd.get_dummies(X_test1)\n",
    "    X_test = X_test[feature_list]\n",
    "    \n",
    "    \n",
    "    \n",
    "    \n",
    "    model.fit(X_train, y_train)\n",
    "    \n",
    "    y_pred = model.predict(X_test)\n",
    "    test_error.append(metrics.accuracy_score(y_test, y_pred))\n",
    "    \n",
    "    \n",
    "\n",
    "plt.plot(feature_num,test_error)\n",
    "\n",
    "\n"
   ]
  },
  {
   "cell_type": "code",
   "execution_count": 218,
   "metadata": {},
   "outputs": [
    {
     "name": "stderr",
     "output_type": "stream",
     "text": [
      "/opt/anaconda3/lib/python3.7/site-packages/pandas/core/frame.py:3997: SettingWithCopyWarning: \n",
      "A value is trying to be set on a copy of a slice from a DataFrame\n",
      "\n",
      "See the caveats in the documentation: https://pandas.pydata.org/pandas-docs/stable/user_guide/indexing.html#returning-a-view-versus-a-copy\n",
      "  errors=errors,\n"
     ]
    },
    {
     "data": {
      "text/plain": [
       "[<matplotlib.lines.Line2D at 0x1a18cecd10>]"
      ]
     },
     "execution_count": 218,
     "metadata": {},
     "output_type": "execute_result"
    },
    {
     "data": {
      "image/png": "[encoded data removed]",
      "text/plain": [
       "<Figure size 432x288 with 1 Axes>"
      ]
     },
     "metadata": {},
     "output_type": "display_data"
    }
   ],
   "source": [
    "clf = MultinomialNB()\n",
    "test_error = []\n",
    "feature_num = [5,10,15,20,25,30,35,40,45,50,55,60,65,70,75,80,85,90,95,99]\n",
    "data_train, data_test = train_test_split(train_data, test_size=0.25,random_state=1443,stratify=train_data.status_group_vals)\n",
    "X_train1 = data_train\n",
    "y_train = data_train['status_group_vals']\n",
    "X_test1 = data_test\n",
    "y_test = data_test['status_group_vals']\n",
    "X_train1.drop('status_group_vals',inplace=True,axis=1)\n",
    "X_test1.drop('status_group_vals',inplace=True,axis=1)\n",
    "\n",
    "for i in feature_num:\n",
    "    feature_list = [k for k in datset['feature'][0:i]]\n",
    "    num_cols = ['amount_tsh', 'days_since_recorded','population']\n",
    "    for j in num_cols:\n",
    "        feature_list.append(j)\n",
    "        \n",
    "\n",
    "        \n",
    "    # selecting best catagories\n",
    "    X_train = pd.get_dummies(X_train1)\n",
    "    X_train = X_train[feature_list]\n",
    "\n",
    "    X_test = pd.get_dummies(X_test1)\n",
    "    X_test = X_test[feature_list]\n",
    "    \n",
    "    \n",
    "    \n",
    "    \n",
    "    clf.fit(X_train, y_train)\n",
    "    \n",
    "    y_pred = clf.predict(X_test)\n",
    "    test_error.append(metrics.accuracy_score(y_test, y_pred))\n",
    "    \n",
    "    \n",
    "\n",
    "plt.plot(feature_num,test_error)\n",
    "\n",
    "\n"
   ]
  },
  {
   "cell_type": "code",
   "execution_count": 361,
   "metadata": {},
   "outputs": [],
   "source": [
    "from sklearn.model_selection import train_test_split\n",
    "from sklearn.model_selection import GridSearchCV\n",
    "from sklearn.ensemble import GradientBoostingClassifier"
   ]
  },
  {
   "cell_type": "code",
   "execution_count": 371,
   "metadata": {},
   "outputs": [],
   "source": [
    "def model(X_train, X_test, y_train, y_test):\n",
    "    if __name__ == '__main__':\n",
    "    \n",
    "        param_grid = {'learning_rate': [0.075, 0.7],\n",
    "                      'max_depth': [13, 14],\n",
    "                      'min_samples_leaf': [15, 16],\n",
    "                      'max_features': [1.0],\n",
    "                      'n_estimators': [100, 200]}                      \n",
    "\n",
    "        estimator = GridSearchCV(estimator=GradientBoostingClassifier(),\n",
    "                                 param_grid=param_grid,\n",
    "                                 n_jobs=-1)\n",
    "\n",
    "        estimator.fit(X_train, y_train)\n",
    "\n",
    "        best_params = estimator.best_params_\n",
    "\n",
    "        print (best_params)\n",
    "                                 \n",
    "        y_pred = estimator.predict(X_test)\n",
    "        metrics = calculate_metrics(y_test, y_pred)\n",
    "        conf_mat(metrics) \n",
    "        return metrics"
   ]
  },
  {
   "cell_type": "code",
   "execution_count": 372,
   "metadata": {},
   "outputs": [
    {
     "name": "stdout",
     "output_type": "stream",
     "text": [
      "{'learning_rate': 0.075, 'max_depth': 14, 'max_features': 1.0, 'min_samples_leaf': 15, 'n_estimators': 100}\n"
     ]
    },
    {
     "data": {
      "image/png": "[encoded data removed]",
      "text/plain": [
       "<Figure size 720x504 with 2 Axes>"
      ]
     },
     "metadata": {},
     "output_type": "display_data"
    }
   ],
   "source": [
    "grad=model(X_train, X_test, y_train, y_test)"
   ]
  },
  {
   "cell_type": "code",
   "execution_count": 135,
   "metadata": {},
   "outputs": [
    {
     "name": "stdout",
     "output_type": "stream",
     "text": [
      "acurracy for gradient boosting classifier 0.7901683501683502\n"
     ]
    }
   ],
   "source": [
    "print(\"acurracy for gradient boosting classifier\",grad)"
   ]
  },
  {
   "cell_type": "code",
   "execution_count": null,
   "metadata": {},
   "outputs": [],
   "source": [
    "def conf_mat(metrics):\n",
    "    '''plot and display the confusion matrix'''\n",
    "    array = metrics['confusion_matrix']\n",
    "    classes=['functional','functional need repair','non functional']\n",
    "    df_cm = pd.DataFrame(array, index = [i for i in classes],\n",
    "                  columns = [i for i in classes])\n",
    "    plt.figure(figsize = (10,7))\n",
    "    sn.heatmap(df_cm, annot=True,cmap=\"Blues\")\n",
    "    plt.show()"
   ]
  },
  {
   "cell_type": "code",
   "execution_count": null,
   "metadata": {},
   "outputs": [],
   "source": [
    "metrics = calculate_metrics(grad)\n",
    "conf_mat(metrics)"
   ]
  },
  {
   "cell_type": "code",
   "execution_count": 486,
   "metadata": {},
   "outputs": [
    {
     "name": "stdout",
     "output_type": "stream",
     "text": [
      "X shape after oversampling:  (72582, 99)\n"
     ]
    }
   ],
   "source": [
    "import imblearn\n",
    "from imblearn.over_sampling import SMOTE\n",
    "### class Balance Oversampling\n",
    "from imblearn.over_sampling import SMOTE\n",
    "# Apply oversampling with SMOTE\n",
    "X_train, y_train = SMOTE().fit_sample(X_train, y_train)\n",
    "print(\"X shape after oversampling: \", X_train.shape)"
   ]
  },
  {
   "cell_type": "code",
   "execution_count": 276,
   "metadata": {},
   "outputs": [
    {
     "data": {
      "text/plain": [
       "<matplotlib.axes._subplots.AxesSubplot at 0x1a2c71d050>"
      ]
     },
     "execution_count": 276,
     "metadata": {},
     "output_type": "execute_result"
    },
    {
     "data": {
      "image/png": "[encoded data removed]",
      "text/plain": [
       "<Figure size 432x288 with 1 Axes>"
      ]
     },
     "metadata": {},
     "output_type": "display_data"
    }
   ],
   "source": [
    "sns.countplot(x=y_train,palette=\"pastel\", edgecolor=\".6\")"
   ]
  },
  {
   "cell_type": "code",
   "execution_count": null,
   "metadata": {},
   "outputs": [],
   "source": []
  }
 ],
 "metadata": {
  "kernelspec": {
   "display_name": "Python 3",
   "language": "python",
   "name": "python3"
  },
  "language_info": {
   "codemirror_mode": {
    "name": "ipython",
    "version": 3
   },
   "file_extension": ".py",
   "mimetype": "text/x-python",
   "name": "python",
   "nbconvert_exporter": "python",
   "pygments_lexer": "ipython3",
   "version": "3.7.6"
  }
 },
 "nbformat": 4,
 "nbformat_minor": 2
}
