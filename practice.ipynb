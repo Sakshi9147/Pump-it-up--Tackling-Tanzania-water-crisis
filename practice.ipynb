{
 "cells": [
  {
   "cell_type": "code",
   "execution_count": 234,
   "metadata": {},
   "outputs": [],
   "source": [
    "import numpy as np\n",
    "import pandas as pd\n",
    "import time\n",
    "\n",
    "import matplotlib.pyplot as plt\n",
    "import seaborn as sns"
   ]
  },
  {
   "cell_type": "code",
   "execution_count": 236,
   "metadata": {},
   "outputs": [],
   "source": [
    "train_target = pd.read_csv('C:\\\\Users\\\\saksh\\\\Desktop\\\\sem2\\\\advance project\\\\training set labels.csv')"
   ]
  },
  {
   "cell_type": "code",
   "execution_count": 237,
   "metadata": {},
   "outputs": [],
   "source": [
    "# Merge data and labels together in one dataframe.\n",
    "train_data = pd.merge(train_data, train_target, on='id')\n",
    "del train_target"
   ]
  },
  {
   "cell_type": "code",
   "execution_count": 238,
   "metadata": {},
   "outputs": [
    {
     "name": "stdout",
     "output_type": "stream",
     "text": [
      "<class 'pandas.core.frame.DataFrame'>\n",
      "Int64Index: 59400 entries, 0 to 59399\n",
      "Data columns (total 41 columns):\n",
      "id                       59400 non-null int64\n",
      "amount_tsh               59400 non-null float64\n",
      "date_recorded            59400 non-null object\n",
      "funder                   55765 non-null object\n",
      "gps_height               59400 non-null int64\n",
      "installer                55745 non-null object\n",
      "longitude                59400 non-null float64\n",
      "latitude                 59400 non-null float64\n",
      "wpt_name                 59400 non-null object\n",
      "num_private              59400 non-null int64\n",
      "basin                    59400 non-null object\n",
      "subvillage               59029 non-null object\n",
      "region                   59400 non-null object\n",
      "region_code              59400 non-null int64\n",
      "district_code            59400 non-null int64\n",
      "lga                      59400 non-null object\n",
      "ward                     59400 non-null object\n",
      "population               59400 non-null int64\n",
      "public_meeting           56066 non-null object\n",
      "recorded_by              59400 non-null object\n",
      "scheme_management        55523 non-null object\n",
      "scheme_name              31234 non-null object\n",
      "permit                   56344 non-null object\n",
      "construction_year        59400 non-null int64\n",
      "extraction_type          59400 non-null object\n",
      "extraction_type_group    59400 non-null object\n",
      "extraction_type_class    59400 non-null object\n",
      "management               59400 non-null object\n",
      "management_group         59400 non-null object\n",
      "payment                  59400 non-null object\n",
      "payment_type             59400 non-null object\n",
      "water_quality            59400 non-null object\n",
      "quality_group            59400 non-null object\n",
      "quantity                 59400 non-null object\n",
      "quantity_group           59400 non-null object\n",
      "source                   59400 non-null object\n",
      "source_type              59400 non-null object\n",
      "source_class             59400 non-null object\n",
      "waterpoint_type          59400 non-null object\n",
      "waterpoint_type_group    59400 non-null object\n",
      "status_group             59400 non-null object\n",
      "dtypes: float64(3), int64(7), object(31)\n",
      "memory usage: 19.0+ MB\n"
     ]
    }
   ],
   "source": [
    "# Explore data set.\n",
    "\n",
    "train_data.info()"
   ]
  },
  {
   "cell_type": "code",
   "execution_count": 239,
   "metadata": {},
   "outputs": [
    {
     "data": {
      "text/html": [
       "<div>\n",
       "<style scoped>\n",
       "    .dataframe tbody tr th:only-of-type {\n",
       "        vertical-align: middle;\n",
       "    }\n",
       "\n",
       "    .dataframe tbody tr th {\n",
       "        vertical-align: top;\n",
       "    }\n",
       "\n",
       "    .dataframe thead th {\n",
       "        text-align: right;\n",
       "    }\n",
       "</style>\n",
       "<table border=\"1\" class=\"dataframe\">\n",
       "  <thead>\n",
       "    <tr style=\"text-align: right;\">\n",
       "      <th></th>\n",
       "      <th>id</th>\n",
       "      <th>amount_tsh</th>\n",
       "      <th>date_recorded</th>\n",
       "      <th>funder</th>\n",
       "      <th>gps_height</th>\n",
       "      <th>installer</th>\n",
       "      <th>longitude</th>\n",
       "      <th>latitude</th>\n",
       "      <th>wpt_name</th>\n",
       "      <th>num_private</th>\n",
       "      <th>...</th>\n",
       "      <th>water_quality</th>\n",
       "      <th>quality_group</th>\n",
       "      <th>quantity</th>\n",
       "      <th>quantity_group</th>\n",
       "      <th>source</th>\n",
       "      <th>source_type</th>\n",
       "      <th>source_class</th>\n",
       "      <th>waterpoint_type</th>\n",
       "      <th>waterpoint_type_group</th>\n",
       "      <th>status_group</th>\n",
       "    </tr>\n",
       "  </thead>\n",
       "  <tbody>\n",
       "    <tr>\n",
       "      <th>0</th>\n",
       "      <td>69572</td>\n",
       "      <td>6000.0</td>\n",
       "      <td>2011-03-14</td>\n",
       "      <td>Roman</td>\n",
       "      <td>1390</td>\n",
       "      <td>Roman</td>\n",
       "      <td>34.938093</td>\n",
       "      <td>-9.856322</td>\n",
       "      <td>none</td>\n",
       "      <td>0</td>\n",
       "      <td>...</td>\n",
       "      <td>soft</td>\n",
       "      <td>good</td>\n",
       "      <td>enough</td>\n",
       "      <td>enough</td>\n",
       "      <td>spring</td>\n",
       "      <td>spring</td>\n",
       "      <td>groundwater</td>\n",
       "      <td>communal standpipe</td>\n",
       "      <td>communal standpipe</td>\n",
       "      <td>functional</td>\n",
       "    </tr>\n",
       "    <tr>\n",
       "      <th>1</th>\n",
       "      <td>8776</td>\n",
       "      <td>0.0</td>\n",
       "      <td>2013-03-06</td>\n",
       "      <td>Grumeti</td>\n",
       "      <td>1399</td>\n",
       "      <td>GRUMETI</td>\n",
       "      <td>34.698766</td>\n",
       "      <td>-2.147466</td>\n",
       "      <td>Zahanati</td>\n",
       "      <td>0</td>\n",
       "      <td>...</td>\n",
       "      <td>soft</td>\n",
       "      <td>good</td>\n",
       "      <td>insufficient</td>\n",
       "      <td>insufficient</td>\n",
       "      <td>rainwater harvesting</td>\n",
       "      <td>rainwater harvesting</td>\n",
       "      <td>surface</td>\n",
       "      <td>communal standpipe</td>\n",
       "      <td>communal standpipe</td>\n",
       "      <td>functional</td>\n",
       "    </tr>\n",
       "    <tr>\n",
       "      <th>2</th>\n",
       "      <td>34310</td>\n",
       "      <td>25.0</td>\n",
       "      <td>2013-02-25</td>\n",
       "      <td>Lottery Club</td>\n",
       "      <td>686</td>\n",
       "      <td>World vision</td>\n",
       "      <td>37.460664</td>\n",
       "      <td>-3.821329</td>\n",
       "      <td>Kwa Mahundi</td>\n",
       "      <td>0</td>\n",
       "      <td>...</td>\n",
       "      <td>soft</td>\n",
       "      <td>good</td>\n",
       "      <td>enough</td>\n",
       "      <td>enough</td>\n",
       "      <td>dam</td>\n",
       "      <td>dam</td>\n",
       "      <td>surface</td>\n",
       "      <td>communal standpipe multiple</td>\n",
       "      <td>communal standpipe</td>\n",
       "      <td>functional</td>\n",
       "    </tr>\n",
       "  </tbody>\n",
       "</table>\n",
       "<p>3 rows × 41 columns</p>\n",
       "</div>"
      ],
      "text/plain": [
       "      id  amount_tsh date_recorded        funder  gps_height     installer  \\\n",
       "0  69572      6000.0    2011-03-14         Roman        1390         Roman   \n",
       "1   8776         0.0    2013-03-06       Grumeti        1399       GRUMETI   \n",
       "2  34310        25.0    2013-02-25  Lottery Club         686  World vision   \n",
       "\n",
       "   longitude  latitude     wpt_name  num_private  ... water_quality  \\\n",
       "0  34.938093 -9.856322         none            0  ...          soft   \n",
       "1  34.698766 -2.147466     Zahanati            0  ...          soft   \n",
       "2  37.460664 -3.821329  Kwa Mahundi            0  ...          soft   \n",
       "\n",
       "  quality_group      quantity  quantity_group                source  \\\n",
       "0          good        enough          enough                spring   \n",
       "1          good  insufficient    insufficient  rainwater harvesting   \n",
       "2          good        enough          enough                   dam   \n",
       "\n",
       "            source_type source_class              waterpoint_type  \\\n",
       "0                spring  groundwater           communal standpipe   \n",
       "1  rainwater harvesting      surface           communal standpipe   \n",
       "2                   dam      surface  communal standpipe multiple   \n",
       "\n",
       "  waterpoint_type_group status_group  \n",
       "0    communal standpipe   functional  \n",
       "1    communal standpipe   functional  \n",
       "2    communal standpipe   functional  \n",
       "\n",
       "[3 rows x 41 columns]"
      ]
     },
     "execution_count": 239,
     "metadata": {},
     "output_type": "execute_result"
    }
   ],
   "source": [
    "train_data.head(3)"
   ]
  },
  {
   "cell_type": "code",
   "execution_count": 240,
   "metadata": {},
   "outputs": [
    {
     "data": {
      "text/plain": [
       "id                           0\n",
       "amount_tsh                   0\n",
       "date_recorded                0\n",
       "funder                    3635\n",
       "gps_height                   0\n",
       "installer                 3655\n",
       "longitude                    0\n",
       "latitude                     0\n",
       "wpt_name                     0\n",
       "num_private                  0\n",
       "basin                        0\n",
       "subvillage                 371\n",
       "region                       0\n",
       "region_code                  0\n",
       "district_code                0\n",
       "lga                          0\n",
       "ward                         0\n",
       "population                   0\n",
       "public_meeting            3334\n",
       "recorded_by                  0\n",
       "scheme_management         3877\n",
       "scheme_name              28166\n",
       "permit                    3056\n",
       "construction_year            0\n",
       "extraction_type              0\n",
       "extraction_type_group        0\n",
       "extraction_type_class        0\n",
       "management                   0\n",
       "management_group             0\n",
       "payment                      0\n",
       "payment_type                 0\n",
       "water_quality                0\n",
       "quality_group                0\n",
       "quantity                     0\n",
       "quantity_group               0\n",
       "source                       0\n",
       "source_type                  0\n",
       "source_class                 0\n",
       "waterpoint_type              0\n",
       "waterpoint_type_group        0\n",
       "status_group                 0\n",
       "dtype: int64"
      ]
     },
     "execution_count": 240,
     "metadata": {},
     "output_type": "execute_result"
    }
   ],
   "source": [
    "# Check for nulls.\n",
    "\n",
    "train_data.apply(lambda x: sum(x.isnull()))"
   ]
  },
  {
   "cell_type": "code",
   "execution_count": 241,
   "metadata": {},
   "outputs": [
    {
     "data": {
      "text/plain": [
       "Government Of Tanzania         9084\n",
       "Danida                         3114\n",
       "Hesawa                         2202\n",
       "Rwssp                          1374\n",
       "World Bank                     1349\n",
       "Kkkt                           1287\n",
       "World Vision                   1246\n",
       "Unicef                         1057\n",
       "Tasaf                           877\n",
       "District Council                843\n",
       "Dhv                             829\n",
       "Private Individual              826\n",
       "Dwsp                            811\n",
       "0                               777\n",
       "Norad                           765\n",
       "Germany Republi                 610\n",
       "Tcrs                            602\n",
       "Ministry Of Water               590\n",
       "Water                           583\n",
       "Dwe                             484\n",
       "Netherlands                     470\n",
       "Hifab                           450\n",
       "Adb                             448\n",
       "Lga                             442\n",
       "Amref                           425\n",
       "Fini Water                      393\n",
       "Oxfam                           359\n",
       "Wateraid                        333\n",
       "Rc Church                       321\n",
       "Isf                             316\n",
       "                               ... \n",
       "Sumo                              1\n",
       "Owner Pingo C                     1\n",
       "Bonite Bottles Ltd                1\n",
       "Wilson                            1\n",
       "Mzee Salum Bakari Darus           1\n",
       "Mtambo                            1\n",
       "Shamte Said                       1\n",
       "Cpps Mission                      1\n",
       "Usambala Sister                   1\n",
       "Rv                                1\n",
       "Abdul                             1\n",
       "Mbozi Secondary School            1\n",
       "Rilayo Water Project              1\n",
       "Charlotte Well                    1\n",
       "Cathoric                          1\n",
       "Makanga                           1\n",
       "Ms-danish                         1\n",
       "Meru Concrete                     1\n",
       "Tredsp                            1\n",
       "Water /sema                       1\n",
       "Ur                                1\n",
       "Tareto                            1\n",
       "Lake Tanganyika Basin             1\n",
       "Bao                               1\n",
       "Kenyans Company                   1\n",
       "Simone                            1\n",
       "Abc-ihushi Development Cent       1\n",
       "Rotery C                          1\n",
       "Private Institutions              1\n",
       "Mwita                             1\n",
       "Name: funder, Length: 1897, dtype: int64"
      ]
     },
     "execution_count": 241,
     "metadata": {},
     "output_type": "execute_result"
    }
   ],
   "source": [
    "# Deal with the columns containing null values one by one. Start with 'funder'.\n",
    "\n",
    "train_data.funder.value_counts()"
   ]
  },
  {
   "cell_type": "code",
   "execution_count": 242,
   "metadata": {},
   "outputs": [],
   "source": [
    "# Create a function to reduce the amount of dummy columns needed whilst maintaining the \n",
    "# information contained in the column.\n",
    "\n",
    "def funder_wrangler(row):  \n",
    "    '''Keep top 10 values and set the rest to 'other'''\n",
    "\n",
    "    if row['funder']=='Government Of Tanzania':\n",
    "        return 'gov'\n",
    "    elif row['funder']=='Danida':\n",
    "        return 'danida'\n",
    "    elif row['funder']=='Hesawa':\n",
    "        return 'hesawa'\n",
    "    elif row['funder']=='Rwssp':\n",
    "        return 'rwssp'\n",
    "    elif row['funder']=='World Bank':\n",
    "        return 'world_bank' \n",
    "    elif row['funder']=='Kkkt':\n",
    "        return 'Kkkt'\n",
    "    elif row['funder']=='World Vision ':\n",
    "        return 'World_Vision '\n",
    "    elif row['funder']=='Unicef':\n",
    "        return 'Unicef'\n",
    "    elif row['funder']=='Tasaf':\n",
    "        return 'Tasaf'\n",
    "    elif row['funder']=='District Council':\n",
    "        return 'Dis_Council'\n",
    "    else:\n",
    "        return 'other'\n",
    "    \n",
    "train_data['funder'] = train_data.apply(lambda row: funder_wrangler(row), axis=1)"
   ]
  },
  {
   "cell_type": "code",
   "execution_count": 243,
   "metadata": {},
   "outputs": [],
   "source": [
    "# Add column named 'status_group_vals' to allow the use of a pivot table to check differences\n",
    "# between the different funders.\n",
    "\n",
    "vals_to_replace = {'functional':2, 'functional needs repair':1,\n",
    "                   'non functional':0}\n",
    "\n",
    "train_data['status_group_vals']  = train_data.status_group.replace(vals_to_replace)"
   ]
  },
  {
   "cell_type": "code",
   "execution_count": 244,
   "metadata": {},
   "outputs": [
    {
     "data": {
      "text/html": [
       "<div>\n",
       "<style scoped>\n",
       "    .dataframe tbody tr th:only-of-type {\n",
       "        vertical-align: middle;\n",
       "    }\n",
       "\n",
       "    .dataframe tbody tr th {\n",
       "        vertical-align: top;\n",
       "    }\n",
       "\n",
       "    .dataframe thead th {\n",
       "        text-align: right;\n",
       "    }\n",
       "</style>\n",
       "<table border=\"1\" class=\"dataframe\">\n",
       "  <thead>\n",
       "    <tr style=\"text-align: right;\">\n",
       "      <th>status_group</th>\n",
       "      <th>functional</th>\n",
       "      <th>functional needs repair</th>\n",
       "      <th>non functional</th>\n",
       "    </tr>\n",
       "    <tr>\n",
       "      <th>funder</th>\n",
       "      <th></th>\n",
       "      <th></th>\n",
       "      <th></th>\n",
       "    </tr>\n",
       "  </thead>\n",
       "  <tbody>\n",
       "    <tr>\n",
       "      <th>Dis_Council</th>\n",
       "      <td>378</td>\n",
       "      <td>45</td>\n",
       "      <td>420</td>\n",
       "    </tr>\n",
       "    <tr>\n",
       "      <th>Kkkt</th>\n",
       "      <td>723</td>\n",
       "      <td>66</td>\n",
       "      <td>498</td>\n",
       "    </tr>\n",
       "    <tr>\n",
       "      <th>Tasaf</th>\n",
       "      <td>493</td>\n",
       "      <td>64</td>\n",
       "      <td>320</td>\n",
       "    </tr>\n",
       "    <tr>\n",
       "      <th>Unicef</th>\n",
       "      <td>600</td>\n",
       "      <td>99</td>\n",
       "      <td>358</td>\n",
       "    </tr>\n",
       "    <tr>\n",
       "      <th>danida</th>\n",
       "      <td>1713</td>\n",
       "      <td>159</td>\n",
       "      <td>1242</td>\n",
       "    </tr>\n",
       "    <tr>\n",
       "      <th>gov</th>\n",
       "      <td>3720</td>\n",
       "      <td>701</td>\n",
       "      <td>4663</td>\n",
       "    </tr>\n",
       "    <tr>\n",
       "      <th>hesawa</th>\n",
       "      <td>936</td>\n",
       "      <td>232</td>\n",
       "      <td>1034</td>\n",
       "    </tr>\n",
       "    <tr>\n",
       "      <th>other</th>\n",
       "      <td>22346</td>\n",
       "      <td>2745</td>\n",
       "      <td>13122</td>\n",
       "    </tr>\n",
       "    <tr>\n",
       "      <th>rwssp</th>\n",
       "      <td>805</td>\n",
       "      <td>109</td>\n",
       "      <td>460</td>\n",
       "    </tr>\n",
       "    <tr>\n",
       "      <th>world_bank</th>\n",
       "      <td>545</td>\n",
       "      <td>97</td>\n",
       "      <td>707</td>\n",
       "    </tr>\n",
       "  </tbody>\n",
       "</table>\n",
       "</div>"
      ],
      "text/plain": [
       "status_group  functional  functional needs repair  non functional\n",
       "funder                                                           \n",
       "Dis_Council          378                       45             420\n",
       "Kkkt                 723                       66             498\n",
       "Tasaf                493                       64             320\n",
       "Unicef               600                       99             358\n",
       "danida              1713                      159            1242\n",
       "gov                 3720                      701            4663\n",
       "hesawa               936                      232            1034\n",
       "other              22346                     2745           13122\n",
       "rwssp                805                      109             460\n",
       "world_bank           545                       97             707"
      ]
     },
     "execution_count": 244,
     "metadata": {},
     "output_type": "execute_result"
    }
   ],
   "source": [
    "per = train_data.groupby(['funder','status_group'])['status_group_vals']\\\n",
    "                                                .count() \\\n",
    "                                                .unstack() \\\n",
    "                                                .reset_index() \\\n",
    "                                                 .fillna(0) \\\n",
    "                                            .set_index('funder')\n",
    "per.head(10)\n"
   ]
  },
  {
   "cell_type": "code",
   "execution_count": 245,
   "metadata": {},
   "outputs": [
    {
     "data": {
      "text/html": [
       "<div>\n",
       "<style scoped>\n",
       "    .dataframe tbody tr th:only-of-type {\n",
       "        vertical-align: middle;\n",
       "    }\n",
       "\n",
       "    .dataframe tbody tr th {\n",
       "        vertical-align: top;\n",
       "    }\n",
       "\n",
       "    .dataframe thead th {\n",
       "        text-align: right;\n",
       "    }\n",
       "</style>\n",
       "<table border=\"1\" class=\"dataframe\">\n",
       "  <thead>\n",
       "    <tr style=\"text-align: right;\">\n",
       "      <th>status_group</th>\n",
       "      <th>functional</th>\n",
       "      <th>functional needs repair</th>\n",
       "      <th>non functional</th>\n",
       "      <th>total</th>\n",
       "    </tr>\n",
       "    <tr>\n",
       "      <th>funder</th>\n",
       "      <th></th>\n",
       "      <th></th>\n",
       "      <th></th>\n",
       "      <th></th>\n",
       "    </tr>\n",
       "  </thead>\n",
       "  <tbody>\n",
       "    <tr>\n",
       "      <th>Dis_Council</th>\n",
       "      <td>378</td>\n",
       "      <td>45</td>\n",
       "      <td>420</td>\n",
       "      <td>843</td>\n",
       "    </tr>\n",
       "    <tr>\n",
       "      <th>Kkkt</th>\n",
       "      <td>723</td>\n",
       "      <td>66</td>\n",
       "      <td>498</td>\n",
       "      <td>1287</td>\n",
       "    </tr>\n",
       "    <tr>\n",
       "      <th>Tasaf</th>\n",
       "      <td>493</td>\n",
       "      <td>64</td>\n",
       "      <td>320</td>\n",
       "      <td>877</td>\n",
       "    </tr>\n",
       "    <tr>\n",
       "      <th>Unicef</th>\n",
       "      <td>600</td>\n",
       "      <td>99</td>\n",
       "      <td>358</td>\n",
       "      <td>1057</td>\n",
       "    </tr>\n",
       "    <tr>\n",
       "      <th>danida</th>\n",
       "      <td>1713</td>\n",
       "      <td>159</td>\n",
       "      <td>1242</td>\n",
       "      <td>3114</td>\n",
       "    </tr>\n",
       "    <tr>\n",
       "      <th>gov</th>\n",
       "      <td>3720</td>\n",
       "      <td>701</td>\n",
       "      <td>4663</td>\n",
       "      <td>9084</td>\n",
       "    </tr>\n",
       "    <tr>\n",
       "      <th>hesawa</th>\n",
       "      <td>936</td>\n",
       "      <td>232</td>\n",
       "      <td>1034</td>\n",
       "      <td>2202</td>\n",
       "    </tr>\n",
       "    <tr>\n",
       "      <th>other</th>\n",
       "      <td>22346</td>\n",
       "      <td>2745</td>\n",
       "      <td>13122</td>\n",
       "      <td>38213</td>\n",
       "    </tr>\n",
       "    <tr>\n",
       "      <th>rwssp</th>\n",
       "      <td>805</td>\n",
       "      <td>109</td>\n",
       "      <td>460</td>\n",
       "      <td>1374</td>\n",
       "    </tr>\n",
       "    <tr>\n",
       "      <th>world_bank</th>\n",
       "      <td>545</td>\n",
       "      <td>97</td>\n",
       "      <td>707</td>\n",
       "      <td>1349</td>\n",
       "    </tr>\n",
       "  </tbody>\n",
       "</table>\n",
       "</div>"
      ],
      "text/plain": [
       "status_group  functional  functional needs repair  non functional  total\n",
       "funder                                                                  \n",
       "Dis_Council          378                       45             420    843\n",
       "Kkkt                 723                       66             498   1287\n",
       "Tasaf                493                       64             320    877\n",
       "Unicef               600                       99             358   1057\n",
       "danida              1713                      159            1242   3114\n",
       "gov                 3720                      701            4663   9084\n",
       "hesawa               936                      232            1034   2202\n",
       "other              22346                     2745           13122  38213\n",
       "rwssp                805                      109             460   1374\n",
       "world_bank           545                       97             707   1349"
      ]
     },
     "execution_count": 245,
     "metadata": {},
     "output_type": "execute_result"
    }
   ],
   "source": [
    "per['total'] = per.sum(axis=1)\n",
    "\n",
    "per\n",
    "\n",
    "\n",
    "\n",
    "\n",
    "\n",
    "\n",
    "\n"
   ]
  },
  {
   "cell_type": "code",
   "execution_count": 246,
   "metadata": {},
   "outputs": [
    {
     "data": {
      "text/html": [
       "<div>\n",
       "<style scoped>\n",
       "    .dataframe tbody tr th:only-of-type {\n",
       "        vertical-align: middle;\n",
       "    }\n",
       "\n",
       "    .dataframe tbody tr th {\n",
       "        vertical-align: top;\n",
       "    }\n",
       "\n",
       "    .dataframe thead th {\n",
       "        text-align: right;\n",
       "    }\n",
       "</style>\n",
       "<table border=\"1\" class=\"dataframe\">\n",
       "  <thead>\n",
       "    <tr style=\"text-align: right;\">\n",
       "      <th>status_group</th>\n",
       "      <th>functional</th>\n",
       "      <th>functional needs repair</th>\n",
       "      <th>non functional</th>\n",
       "    </tr>\n",
       "    <tr>\n",
       "      <th>funder</th>\n",
       "      <th></th>\n",
       "      <th></th>\n",
       "      <th></th>\n",
       "    </tr>\n",
       "  </thead>\n",
       "  <tbody>\n",
       "    <tr>\n",
       "      <th>Dis_Council</th>\n",
       "      <td>44.839858</td>\n",
       "      <td>5.338078</td>\n",
       "      <td>49.822064</td>\n",
       "    </tr>\n",
       "    <tr>\n",
       "      <th>Kkkt</th>\n",
       "      <td>56.177156</td>\n",
       "      <td>5.128205</td>\n",
       "      <td>38.694639</td>\n",
       "    </tr>\n",
       "    <tr>\n",
       "      <th>Tasaf</th>\n",
       "      <td>56.214367</td>\n",
       "      <td>7.297605</td>\n",
       "      <td>36.488027</td>\n",
       "    </tr>\n",
       "    <tr>\n",
       "      <th>Unicef</th>\n",
       "      <td>56.764428</td>\n",
       "      <td>9.366131</td>\n",
       "      <td>33.869442</td>\n",
       "    </tr>\n",
       "    <tr>\n",
       "      <th>danida</th>\n",
       "      <td>55.009634</td>\n",
       "      <td>5.105973</td>\n",
       "      <td>39.884393</td>\n",
       "    </tr>\n",
       "    <tr>\n",
       "      <th>gov</th>\n",
       "      <td>40.951123</td>\n",
       "      <td>7.716865</td>\n",
       "      <td>51.332012</td>\n",
       "    </tr>\n",
       "    <tr>\n",
       "      <th>hesawa</th>\n",
       "      <td>42.506812</td>\n",
       "      <td>10.535876</td>\n",
       "      <td>46.957312</td>\n",
       "    </tr>\n",
       "    <tr>\n",
       "      <th>other</th>\n",
       "      <td>58.477481</td>\n",
       "      <td>7.183419</td>\n",
       "      <td>34.339099</td>\n",
       "    </tr>\n",
       "    <tr>\n",
       "      <th>rwssp</th>\n",
       "      <td>58.588064</td>\n",
       "      <td>7.933042</td>\n",
       "      <td>33.478894</td>\n",
       "    </tr>\n",
       "    <tr>\n",
       "      <th>world_bank</th>\n",
       "      <td>40.400297</td>\n",
       "      <td>7.190511</td>\n",
       "      <td>52.409192</td>\n",
       "    </tr>\n",
       "  </tbody>\n",
       "</table>\n",
       "</div>"
      ],
      "text/plain": [
       "status_group  functional  functional needs repair  non functional\n",
       "funder                                                           \n",
       "Dis_Council    44.839858                 5.338078       49.822064\n",
       "Kkkt           56.177156                 5.128205       38.694639\n",
       "Tasaf          56.214367                 7.297605       36.488027\n",
       "Unicef         56.764428                 9.366131       33.869442\n",
       "danida         55.009634                 5.105973       39.884393\n",
       "gov            40.951123                 7.716865       51.332012\n",
       "hesawa         42.506812                10.535876       46.957312\n",
       "other          58.477481                 7.183419       34.339099\n",
       "rwssp          58.588064                 7.933042       33.478894\n",
       "world_bank     40.400297                 7.190511       52.409192"
      ]
     },
     "execution_count": 246,
     "metadata": {},
     "output_type": "execute_result"
    }
   ],
   "source": [
    "def percentage_share(df):\n",
    "    for i in df.columns:\n",
    "        df[i] = df.apply(lambda row: (row[i]/row['total']*100), axis=1) \n",
    "    df.drop('total',inplace=True,axis=1)\n",
    "    return df\n",
    "\n",
    "per_df = percentage_share(per) \n",
    "\n",
    "per_df"
   ]
  },
  {
   "cell_type": "code",
   "execution_count": 247,
   "metadata": {
    "scrolled": true
   },
   "outputs": [
    {
     "data": {
      "image/png": "[encoded data removed]",
      "text/plain": [
       "<Figure size 720x360 with 1 Axes>"
      ]
     },
     "metadata": {
      "needs_background": "light"
     },
     "output_type": "display_data"
    }
   ],
   "source": [
    "funder = [0,1,2,3,4,5,6,7,8,9]\n",
    "functional = per_df['functional']\n",
    "nr_functional = per_df['functional needs repair']\n",
    "n_functional = per_df['non functional']\n",
    "header = per_df.columns.values #an array of columns headers\n",
    "\n",
    "fig = plt.figure()\n",
    "ax = plt.subplot()\n",
    "\n",
    "#Grouped bar chart\n",
    "ind = np.arange(len(funder)) #no of x ticks;\n",
    "width = 0.3 #width of the bar\n",
    "\n",
    "\n",
    "#ax.bar(position of the bar wrt the x-ticks, data, width of bar, label)\n",
    "ax.bar(ind , functional, width,label='functional')\n",
    "ax.bar(ind- width , nr_functional, width,label='functional needs repair')\n",
    "ax.bar(ind + width , n_functional, width,label='non functional')\n",
    "ax.legend(loc=9,ncol=3)\n",
    "\n",
    "ax.set_xticks([0,1,2,3,4,5,6,7,8,9])\n",
    "ax.set_ylim(0,70)\n",
    "#create a list of  variable names to use as labels for ticks in hor axis\n",
    "xlab=[item.get_text() for item in ax.get_xticklabels()] # list with empty strings. list length determined my the ticks seen in the plots\n",
    "# replace empty strings at even list indexes by variable names in the same order as they are present in the dataframe column names\n",
    "xlab[0]='Dis_Council'\n",
    "xlab[1]='Kkkt'\n",
    "xlab[2]='Tasaf'\n",
    "xlab[3]='Unicef'\n",
    "xlab[4]='danida'\n",
    "xlab[5]='gov'\n",
    "xlab[6] ='hesawa'\n",
    "xlab[7]='other'\n",
    "xlab[8]='rwssp'\n",
    "xlab[9] ='world_bank'\n",
    "\n",
    "\n",
    "#set the vertical axis tick labels using the list created above\n",
    "ax.set_xticklabels(xlab)\n",
    "\n",
    "#for i,v in enumerate(functional):\n",
    "    #.text(i-.25,v+10,functional[i],fomtsize=8)\n",
    "\n",
    "\n",
    "for tick in ax.get_xticklabels():\n",
    "    tick.set_rotation(90)\n",
    "\n",
    "#Set the figure size so that all four panel graphs are clearly visible\n",
    "fig.set_size_inches(10,5)   \n",
    "#Set a title for the figure\n",
    "fig.suptitle(' Percentage of wells by functionaity types for the top 10 funders  '\\\n",
    "             ,y=1,fontsize=15,fontweight='bold')\n",
    "plt.show()"
   ]
  },
  {
   "cell_type": "code",
   "execution_count": 248,
   "metadata": {},
   "outputs": [
    {
     "data": {
      "text/plain": [
       "DWE                               17402\n",
       "Government                         1825\n",
       "RWE                                1206\n",
       "Commu                              1060\n",
       "DANIDA                             1050\n",
       "KKKT                                898\n",
       "Hesawa                              840\n",
       "0                                   777\n",
       "TCRS                                707\n",
       "Central government                  622\n",
       "CES                                 610\n",
       "Community                           553\n",
       "DANID                               552\n",
       "District Council                    551\n",
       "HESAWA                              539\n",
       "World vision                        408\n",
       "LGA                                 408\n",
       "WEDECO                              397\n",
       "TASAF                               396\n",
       "District council                    392\n",
       "Gover                               383\n",
       "AMREF                               329\n",
       "TWESA                               316\n",
       "WU                                  301\n",
       "Dmdd                                287\n",
       "ACRA                                278\n",
       "World Vision                        270\n",
       "SEMA                                249\n",
       "DW                                  246\n",
       "OXFAM                               234\n",
       "                                  ...  \n",
       "Hilfe Fur Bruder                      1\n",
       "Bao                                   1\n",
       "Tanz/Egypt technical coopera          1\n",
       "Government of Misri                   1\n",
       "Nyakilanganyi                         1\n",
       "Halmashauri ya manispa  tabora        1\n",
       "Institutional                         1\n",
       "DANNIDA                               1\n",
       "Muslimu Society(Shia)                 1\n",
       "Cathoric                              1\n",
       "Zao water spring X                    1\n",
       "Pet Coporation Ltd                    1\n",
       "Wizara  ya maji                       1\n",
       "Daniel                                1\n",
       "DIWANI                                1\n",
       "JI                                    1\n",
       "Church Of Disciples                   1\n",
       "Muhochi Kissaka                       1\n",
       "FPCT Church                           1\n",
       "BABTEST                               1\n",
       "Charlotte Well                        1\n",
       "CF Builders                           1\n",
       "Missionaries                          1\n",
       "DMDD/SOLIDER                          1\n",
       "MKONG CONSTRUCTION                    1\n",
       "FINI Water                            1\n",
       "MASWI DRILLING CO. LTD                1\n",
       "Mbozi Secondary School                1\n",
       "Anglican Uganda                       1\n",
       "Hamisi Fidia                          1\n",
       "Name: installer, Length: 2145, dtype: int64"
      ]
     },
     "execution_count": 248,
     "metadata": {},
     "output_type": "execute_result"
    }
   ],
   "source": [
    "# There are some clear differences here that will hopefully improve the model. The next feature\n",
    "# to inspect is 'installer'.\n",
    "\n",
    "train_data.installer.value_counts()"
   ]
  },
  {
   "cell_type": "code",
   "execution_count": 249,
   "metadata": {},
   "outputs": [],
   "source": [
    "# Create a function to reduce the amount of dummy columns needed whilst maintaining the \n",
    "# information contained in the column.\n",
    "\n",
    "def installer_wrangler(row):\n",
    "    '''Keep top 7 values and set the rest to 'other'''\n",
    "    if row['installer']=='DWE':\n",
    "        return 'dwe'\n",
    "    elif row['installer']=='Government':\n",
    "        return 'gov'\n",
    "    elif row['installer']=='RWE':\n",
    "        return 'rwe'\n",
    "    elif row['installer']=='Commu':\n",
    "        return 'commu'\n",
    "    elif row['installer']=='DANIDA':\n",
    "        return 'danida'\n",
    "    elif row['installer']=='KKKT ':\n",
    "        return 'KKKT '\n",
    "    elif row['installer']=='Hesawa':\n",
    "        return 'Hesawa'\n",
    "    \n",
    "    else:\n",
    "        return 'other'  \n",
    "\n",
    "train_data['installer'] = train_data.apply(lambda row: installer_wrangler(row), axis=1)"
   ]
  },
  {
   "cell_type": "code",
   "execution_count": 250,
   "metadata": {},
   "outputs": [
    {
     "data": {
      "text/html": [
       "<div>\n",
       "<style scoped>\n",
       "    .dataframe tbody tr th:only-of-type {\n",
       "        vertical-align: middle;\n",
       "    }\n",
       "\n",
       "    .dataframe tbody tr th {\n",
       "        vertical-align: top;\n",
       "    }\n",
       "\n",
       "    .dataframe thead th {\n",
       "        text-align: right;\n",
       "    }\n",
       "</style>\n",
       "<table border=\"1\" class=\"dataframe\">\n",
       "  <thead>\n",
       "    <tr style=\"text-align: right;\">\n",
       "      <th>status_group</th>\n",
       "      <th>functional</th>\n",
       "      <th>functional needs repair</th>\n",
       "      <th>non functional</th>\n",
       "    </tr>\n",
       "    <tr>\n",
       "      <th>installer</th>\n",
       "      <th></th>\n",
       "      <th></th>\n",
       "      <th></th>\n",
       "    </tr>\n",
       "  </thead>\n",
       "  <tbody>\n",
       "    <tr>\n",
       "      <th>Hesawa</th>\n",
       "      <td>475</td>\n",
       "      <td>17</td>\n",
       "      <td>348</td>\n",
       "    </tr>\n",
       "    <tr>\n",
       "      <th>commu</th>\n",
       "      <td>724</td>\n",
       "      <td>32</td>\n",
       "      <td>304</td>\n",
       "    </tr>\n",
       "    <tr>\n",
       "      <th>danida</th>\n",
       "      <td>542</td>\n",
       "      <td>83</td>\n",
       "      <td>425</td>\n",
       "    </tr>\n",
       "    <tr>\n",
       "      <th>dwe</th>\n",
       "      <td>9433</td>\n",
       "      <td>1622</td>\n",
       "      <td>6347</td>\n",
       "    </tr>\n",
       "    <tr>\n",
       "      <th>gov</th>\n",
       "      <td>535</td>\n",
       "      <td>256</td>\n",
       "      <td>1034</td>\n",
       "    </tr>\n",
       "    <tr>\n",
       "      <th>other</th>\n",
       "      <td>20246</td>\n",
       "      <td>2170</td>\n",
       "      <td>13601</td>\n",
       "    </tr>\n",
       "    <tr>\n",
       "      <th>rwe</th>\n",
       "      <td>304</td>\n",
       "      <td>137</td>\n",
       "      <td>765</td>\n",
       "    </tr>\n",
       "  </tbody>\n",
       "</table>\n",
       "</div>"
      ],
      "text/plain": [
       "status_group  functional  functional needs repair  non functional\n",
       "installer                                                        \n",
       "Hesawa               475                       17             348\n",
       "commu                724                       32             304\n",
       "danida               542                       83             425\n",
       "dwe                 9433                     1622            6347\n",
       "gov                  535                      256            1034\n",
       "other              20246                     2170           13601\n",
       "rwe                  304                      137             765"
      ]
     },
     "execution_count": 250,
     "metadata": {},
     "output_type": "execute_result"
    }
   ],
   "source": [
    "per_inst = train_data.groupby(['installer','status_group'])['status_group_vals']\\\n",
    "                                                .count() \\\n",
    "                                                .unstack() \\\n",
    "                                                .reset_index() \\\n",
    "                                                 .fillna(0) \\\n",
    "                                            .set_index('installer')\n",
    "per_inst.head(7)"
   ]
  },
  {
   "cell_type": "code",
   "execution_count": 251,
   "metadata": {},
   "outputs": [
    {
     "data": {
      "text/html": [
       "<div>\n",
       "<style scoped>\n",
       "    .dataframe tbody tr th:only-of-type {\n",
       "        vertical-align: middle;\n",
       "    }\n",
       "\n",
       "    .dataframe tbody tr th {\n",
       "        vertical-align: top;\n",
       "    }\n",
       "\n",
       "    .dataframe thead th {\n",
       "        text-align: right;\n",
       "    }\n",
       "</style>\n",
       "<table border=\"1\" class=\"dataframe\">\n",
       "  <thead>\n",
       "    <tr style=\"text-align: right;\">\n",
       "      <th>status_group</th>\n",
       "      <th>functional</th>\n",
       "      <th>functional needs repair</th>\n",
       "      <th>non functional</th>\n",
       "      <th>total</th>\n",
       "    </tr>\n",
       "    <tr>\n",
       "      <th>installer</th>\n",
       "      <th></th>\n",
       "      <th></th>\n",
       "      <th></th>\n",
       "      <th></th>\n",
       "    </tr>\n",
       "  </thead>\n",
       "  <tbody>\n",
       "    <tr>\n",
       "      <th>Hesawa</th>\n",
       "      <td>475</td>\n",
       "      <td>17</td>\n",
       "      <td>348</td>\n",
       "      <td>840</td>\n",
       "    </tr>\n",
       "    <tr>\n",
       "      <th>commu</th>\n",
       "      <td>724</td>\n",
       "      <td>32</td>\n",
       "      <td>304</td>\n",
       "      <td>1060</td>\n",
       "    </tr>\n",
       "    <tr>\n",
       "      <th>danida</th>\n",
       "      <td>542</td>\n",
       "      <td>83</td>\n",
       "      <td>425</td>\n",
       "      <td>1050</td>\n",
       "    </tr>\n",
       "    <tr>\n",
       "      <th>dwe</th>\n",
       "      <td>9433</td>\n",
       "      <td>1622</td>\n",
       "      <td>6347</td>\n",
       "      <td>17402</td>\n",
       "    </tr>\n",
       "    <tr>\n",
       "      <th>gov</th>\n",
       "      <td>535</td>\n",
       "      <td>256</td>\n",
       "      <td>1034</td>\n",
       "      <td>1825</td>\n",
       "    </tr>\n",
       "    <tr>\n",
       "      <th>other</th>\n",
       "      <td>20246</td>\n",
       "      <td>2170</td>\n",
       "      <td>13601</td>\n",
       "      <td>36017</td>\n",
       "    </tr>\n",
       "    <tr>\n",
       "      <th>rwe</th>\n",
       "      <td>304</td>\n",
       "      <td>137</td>\n",
       "      <td>765</td>\n",
       "      <td>1206</td>\n",
       "    </tr>\n",
       "  </tbody>\n",
       "</table>\n",
       "</div>"
      ],
      "text/plain": [
       "status_group  functional  functional needs repair  non functional  total\n",
       "installer                                                               \n",
       "Hesawa               475                       17             348    840\n",
       "commu                724                       32             304   1060\n",
       "danida               542                       83             425   1050\n",
       "dwe                 9433                     1622            6347  17402\n",
       "gov                  535                      256            1034   1825\n",
       "other              20246                     2170           13601  36017\n",
       "rwe                  304                      137             765   1206"
      ]
     },
     "execution_count": 251,
     "metadata": {},
     "output_type": "execute_result"
    }
   ],
   "source": [
    "per_inst['total'] = per_inst.sum(axis=1)\n",
    "\n",
    "per_inst"
   ]
  },
  {
   "cell_type": "code",
   "execution_count": 252,
   "metadata": {},
   "outputs": [
    {
     "data": {
      "text/html": [
       "<div>\n",
       "<style scoped>\n",
       "    .dataframe tbody tr th:only-of-type {\n",
       "        vertical-align: middle;\n",
       "    }\n",
       "\n",
       "    .dataframe tbody tr th {\n",
       "        vertical-align: top;\n",
       "    }\n",
       "\n",
       "    .dataframe thead th {\n",
       "        text-align: right;\n",
       "    }\n",
       "</style>\n",
       "<table border=\"1\" class=\"dataframe\">\n",
       "  <thead>\n",
       "    <tr style=\"text-align: right;\">\n",
       "      <th>status_group</th>\n",
       "      <th>functional</th>\n",
       "      <th>functional needs repair</th>\n",
       "      <th>non functional</th>\n",
       "    </tr>\n",
       "    <tr>\n",
       "      <th>installer</th>\n",
       "      <th></th>\n",
       "      <th></th>\n",
       "      <th></th>\n",
       "    </tr>\n",
       "  </thead>\n",
       "  <tbody>\n",
       "    <tr>\n",
       "      <th>Hesawa</th>\n",
       "      <td>56.547619</td>\n",
       "      <td>2.023810</td>\n",
       "      <td>41.428571</td>\n",
       "    </tr>\n",
       "    <tr>\n",
       "      <th>commu</th>\n",
       "      <td>68.301887</td>\n",
       "      <td>3.018868</td>\n",
       "      <td>28.679245</td>\n",
       "    </tr>\n",
       "    <tr>\n",
       "      <th>danida</th>\n",
       "      <td>51.619048</td>\n",
       "      <td>7.904762</td>\n",
       "      <td>40.476190</td>\n",
       "    </tr>\n",
       "    <tr>\n",
       "      <th>dwe</th>\n",
       "      <td>54.206413</td>\n",
       "      <td>9.320768</td>\n",
       "      <td>36.472819</td>\n",
       "    </tr>\n",
       "    <tr>\n",
       "      <th>gov</th>\n",
       "      <td>29.315068</td>\n",
       "      <td>14.027397</td>\n",
       "      <td>56.657534</td>\n",
       "    </tr>\n",
       "    <tr>\n",
       "      <th>other</th>\n",
       "      <td>56.212344</td>\n",
       "      <td>6.024933</td>\n",
       "      <td>37.762723</td>\n",
       "    </tr>\n",
       "    <tr>\n",
       "      <th>rwe</th>\n",
       "      <td>25.207297</td>\n",
       "      <td>11.359867</td>\n",
       "      <td>63.432836</td>\n",
       "    </tr>\n",
       "  </tbody>\n",
       "</table>\n",
       "</div>"
      ],
      "text/plain": [
       "status_group  functional  functional needs repair  non functional\n",
       "installer                                                        \n",
       "Hesawa         56.547619                 2.023810       41.428571\n",
       "commu          68.301887                 3.018868       28.679245\n",
       "danida         51.619048                 7.904762       40.476190\n",
       "dwe            54.206413                 9.320768       36.472819\n",
       "gov            29.315068                14.027397       56.657534\n",
       "other          56.212344                 6.024933       37.762723\n",
       "rwe            25.207297                11.359867       63.432836"
      ]
     },
     "execution_count": 252,
     "metadata": {},
     "output_type": "execute_result"
    }
   ],
   "source": [
    "perinst_df = percentage_share(per_inst) \n",
    "\n",
    "perinst_df"
   ]
  },
  {
   "cell_type": "code",
   "execution_count": 2,
   "metadata": {},
   "outputs": [
    {
     "ename": "NameError",
     "evalue": "name 'perinst_df' is not defined",
     "output_type": "error",
     "traceback": [
      "\u001b[1;31m---------------------------------------------------------------------------\u001b[0m",
      "\u001b[1;31mNameError\u001b[0m                                 Traceback (most recent call last)",
      "\u001b[1;32m<ipython-input-2-9b587693e058>\u001b[0m in \u001b[0;36m<module>\u001b[1;34m\u001b[0m\n\u001b[0;32m      1\u001b[0m \u001b[0minstaller\u001b[0m \u001b[1;33m=\u001b[0m \u001b[1;33m[\u001b[0m\u001b[1;36m0\u001b[0m\u001b[1;33m,\u001b[0m\u001b[1;36m1\u001b[0m\u001b[1;33m,\u001b[0m\u001b[1;36m2\u001b[0m\u001b[1;33m,\u001b[0m\u001b[1;36m3\u001b[0m\u001b[1;33m,\u001b[0m\u001b[1;36m4\u001b[0m\u001b[1;33m,\u001b[0m\u001b[1;36m5\u001b[0m\u001b[1;33m,\u001b[0m\u001b[1;36m6\u001b[0m\u001b[1;33m]\u001b[0m\u001b[1;33m\u001b[0m\u001b[1;33m\u001b[0m\u001b[0m\n\u001b[1;32m----> 2\u001b[1;33m \u001b[0mfunctional\u001b[0m \u001b[1;33m=\u001b[0m \u001b[0mperinst_df\u001b[0m\u001b[1;33m[\u001b[0m\u001b[1;34m'functional'\u001b[0m\u001b[1;33m]\u001b[0m\u001b[1;33m\u001b[0m\u001b[1;33m\u001b[0m\u001b[0m\n\u001b[0m\u001b[0;32m      3\u001b[0m \u001b[0mnr_functional\u001b[0m \u001b[1;33m=\u001b[0m \u001b[0mperinst_df\u001b[0m\u001b[1;33m[\u001b[0m\u001b[1;34m'functional needs repair'\u001b[0m\u001b[1;33m]\u001b[0m\u001b[1;33m\u001b[0m\u001b[1;33m\u001b[0m\u001b[0m\n\u001b[0;32m      4\u001b[0m \u001b[0mn_functional\u001b[0m \u001b[1;33m=\u001b[0m \u001b[0mperinst_df\u001b[0m\u001b[1;33m[\u001b[0m\u001b[1;34m'non functional'\u001b[0m\u001b[1;33m]\u001b[0m\u001b[1;33m\u001b[0m\u001b[1;33m\u001b[0m\u001b[0m\n\u001b[0;32m      5\u001b[0m \u001b[0mheader\u001b[0m \u001b[1;33m=\u001b[0m \u001b[0mperinst_df\u001b[0m\u001b[1;33m.\u001b[0m\u001b[0mcolumns\u001b[0m\u001b[1;33m.\u001b[0m\u001b[0mvalues\u001b[0m \u001b[1;31m#an array of columns headers\u001b[0m\u001b[1;33m\u001b[0m\u001b[1;33m\u001b[0m\u001b[0m\n",
      "\u001b[1;31mNameError\u001b[0m: name 'perinst_df' is not defined"
     ]
    }
   ],
   "source": [
    "installer = [0,1,2,3,4,5,6]\n",
    "functional = perinst_df['functional']\n",
    "nr_functional = perinst_df['functional needs repair']\n",
    "n_functional = perinst_df['non functional']\n",
    "header = perinst_df.columns.values #an array of columns headers\n",
    "\n",
    "fig = plt.figure()\n",
    "ax = plt.subplot()\n",
    "\n",
    "#Grouped bar chart\n",
    "ind = np.arange(len(installer)) #no of x ticks;\n",
    "width = 0.3 #width of the bar\n",
    "\n",
    "\n",
    "#ax.bar(position of the bar wrt the x-ticks, data, width of bar, label)\n",
    "ax.bar(ind , functional, width,label='functional')\n",
    "ax.bar(ind- width , nr_functional, width,label='functional needs repair')\n",
    "ax.bar(ind + width , n_functional, width,label='non functional')\n",
    "ax.legend(loc=9,ncol=3)\n",
    "\n",
    "ax.set_xticks([0,1,2,3,4,5,6])\n",
    "ax.set_ylim(0,80)\n",
    "#create a list of  variable names to use as labels for ticks in hor axis\n",
    "xlab=[item.get_text() for item in ax.get_xticklabels()] # list with empty strings. list length determined my the ticks seen in the plots\n",
    "# replace empty strings at even list indexes by variable names in the same order as they are present in the dataframe column names\n",
    "xlab[0]='Hesawa'\n",
    "xlab[1]='commu'\n",
    "xlab[2]='danida'\n",
    "xlab[3]='dwe'\n",
    "xlab[4]='gov'\n",
    "xlab[5]='other'\n",
    "xlab[6] ='rwe'\n",
    "\n",
    "\n",
    "\n",
    "#set the vertical axis tick labels using the list created above\n",
    "ax.set_xticklabels(xlab)\n",
    "\n",
    "#for i,v in enumerate(functional):\n",
    "    #.text(i-.25,v+10,functional[i],fomtsize=8)\n",
    "\n",
    "\n",
    "for tick in ax.get_xticklabels():\n",
    "    tick.set_rotation(90)\n",
    "\n",
    "#Set the figure size so that all four panel graphs are clearly visible\n",
    "fig.set_size_inches(10,5)   \n",
    "#Set a title for the figure\n",
    "fig.suptitle(' Percentage of wells by functionaity types for the top 7 installers  '\\\n",
    "             ,y=1,fontsize=15,fontweight='bold')\n",
    "plt.show()"
   ]
  },
  {
   "cell_type": "code",
   "execution_count": 254,
   "metadata": {},
   "outputs": [
    {
     "name": "stdout",
     "output_type": "stream",
     "text": [
      "Madukani           508\n",
      "Shuleni            506\n",
      "Majengo            502\n",
      "Kati               373\n",
      "Mtakuja            262\n",
      "Sokoni             232\n",
      "M                  187\n",
      "Muungano           172\n",
      "Mbuyuni            164\n",
      "Mlimani            152\n",
      "Songambele         147\n",
      "Msikitini          134\n",
      "Miembeni           134\n",
      "1                  132\n",
      "Kibaoni            114\n",
      "Kanisani           111\n",
      "Mapinduzi          109\n",
      "I                  109\n",
      "Mjini              108\n",
      "Mjimwema           108\n",
      "Mkwajuni           104\n",
      "Mwenge             102\n",
      "Azimio              98\n",
      "Mabatini            98\n",
      "Mission             95\n",
      "Mbugani             95\n",
      "Bwawani             91\n",
      "Bondeni             90\n",
      "Chang'Ombe          88\n",
      "Zahanati            86\n",
      "                  ... \n",
      "Maghaghie            1\n",
      "Mumbwe               1\n",
      "Ugowola A            1\n",
      "Magokongo            1\n",
      "Chinganga            1\n",
      "Malinga              1\n",
      "Mrukore              1\n",
      "Kiboma               1\n",
      "Lichinga             1\n",
      "Mgogo                1\n",
      "Sangiwe              1\n",
      "Igembensau           1\n",
      "Ibelege B            1\n",
      "Maswerw              1\n",
      "Ngumo B              1\n",
      "Kilabera             1\n",
      "Kitamo B             1\n",
      "Kyaya                1\n",
      "Mwino Mashariki      1\n",
      "Wasagaro             1\n",
      "Masimila             1\n",
      "Chimale B            1\n",
      "Mnchinyino           1\n",
      "Uluguruni            1\n",
      "Kirurumo             1\n",
      "No 10                1\n",
      "Masudi               1\n",
      "Kakuti               1\n",
      "Uhambule             1\n",
      "Msangila             1\n",
      "Name: subvillage, Length: 19287, dtype: int64\n"
     ]
    }
   ],
   "source": [
    "# As was the case with 'funder' there are some clear differences here that will hopefully\n",
    "# improve the model. The next feature to inspect is 'subvillage'.\n",
    "\n",
    "print(train_data.subvillage.value_counts())"
   ]
  },
  {
   "cell_type": "code",
   "execution_count": 255,
   "metadata": {},
   "outputs": [
    {
     "name": "stdout",
     "output_type": "stream",
     "text": [
      "Number of villages:  19287\n"
     ]
    }
   ],
   "source": [
    "print('Number of villages: ', len(train_data.subvillage.value_counts()))"
   ]
  },
  {
   "cell_type": "code",
   "execution_count": 256,
   "metadata": {},
   "outputs": [],
   "source": [
    "# 19287 unique values! The largest values don't dominate as was the case with installer and\n",
    "# funder. It's probably not worth creating dummy variables for the top 5. I'll drop this one but\n",
    "# feel free to experiment here.\n",
    "\n",
    "train_data.drop('subvillage',inplace = True, axis=1)"
   ]
  },
  {
   "cell_type": "code",
   "execution_count": 257,
   "metadata": {},
   "outputs": [
    {
     "data": {
      "text/plain": [
       "True     51011\n",
       "False     5055\n",
       "Name: public_meeting, dtype: int64"
      ]
     },
     "execution_count": 257,
     "metadata": {},
     "output_type": "execute_result"
    }
   ],
   "source": [
    "# Let's investigate the next column containg null data: 'public_meeting'.\n",
    "\n",
    "train_data.public_meeting.value_counts()"
   ]
  },
  {
   "cell_type": "code",
   "execution_count": 258,
   "metadata": {},
   "outputs": [],
   "source": [
    "# We only have two values here: true and false. This one can stay but we'll have to replace \n",
    "# the unknown data with a string value.\n",
    "\n",
    "train_data.public_meeting = train_data.public_meeting.fillna('Unknown')"
   ]
  },
  {
   "cell_type": "code",
   "execution_count": 259,
   "metadata": {},
   "outputs": [
    {
     "data": {
      "text/plain": [
       "0           True\n",
       "1        Unknown\n",
       "2           True\n",
       "3           True\n",
       "4           True\n",
       "5           True\n",
       "6           True\n",
       "7           True\n",
       "8           True\n",
       "9           True\n",
       "10          True\n",
       "11          True\n",
       "12          True\n",
       "13          True\n",
       "14          True\n",
       "15          True\n",
       "16          True\n",
       "17          True\n",
       "18       Unknown\n",
       "19          True\n",
       "20          True\n",
       "21       Unknown\n",
       "22          True\n",
       "23          True\n",
       "24         False\n",
       "25          True\n",
       "26         False\n",
       "27          True\n",
       "28          True\n",
       "29          True\n",
       "          ...   \n",
       "59370       True\n",
       "59371       True\n",
       "59372       True\n",
       "59373       True\n",
       "59374       True\n",
       "59375       True\n",
       "59376       True\n",
       "59377       True\n",
       "59378       True\n",
       "59379       True\n",
       "59380       True\n",
       "59381       True\n",
       "59382       True\n",
       "59383       True\n",
       "59384       True\n",
       "59385       True\n",
       "59386       True\n",
       "59387    Unknown\n",
       "59388       True\n",
       "59389      False\n",
       "59390       True\n",
       "59391       True\n",
       "59392       True\n",
       "59393      False\n",
       "59394       True\n",
       "59395       True\n",
       "59396       True\n",
       "59397       True\n",
       "59398       True\n",
       "59399       True\n",
       "Name: public_meeting, Length: 59400, dtype: object"
      ]
     },
     "execution_count": 259,
     "metadata": {},
     "output_type": "execute_result"
    }
   ],
   "source": [
    "train_data.public_meeting"
   ]
  },
  {
   "cell_type": "code",
   "execution_count": 260,
   "metadata": {},
   "outputs": [
    {
     "data": {
      "text/plain": [
       "VWC                 36793\n",
       "WUG                  5206\n",
       "Water authority      3153\n",
       "WUA                  2883\n",
       "Water Board          2748\n",
       "Parastatal           1680\n",
       "Private operator     1063\n",
       "Company              1061\n",
       "Other                 766\n",
       "SWC                    97\n",
       "Trust                  72\n",
       "None                    1\n",
       "Name: scheme_management, dtype: int64"
      ]
     },
     "execution_count": 260,
     "metadata": {},
     "output_type": "execute_result"
    }
   ],
   "source": [
    "# 'scheme_management' is up next.\n",
    "#train_data.apply(lambda x: sum(x.isnull()))\n",
    "\n",
    "#train_data.scheme_management.apply(lambda x:sum(x.isnull()))\n",
    "#train_data.scheme_management.isnull()\n",
    "#train_data.scheme_management.isnull().sum().sum()\n",
    "train_data.scheme_management.value_counts()\n",
    "#train_data.scheme_management"
   ]
  },
  {
   "cell_type": "code",
   "execution_count": 261,
   "metadata": {},
   "outputs": [],
   "source": [
    "# Create a function to reduce the amount of dummy columns needed whilst maintaining the \n",
    "# information contained in the column.\n",
    "\n",
    "def scheme_wrangler(row):\n",
    "    '''Keep top 8 values and set the rest to 'other'. '''\n",
    "    if row['scheme_management']=='VWC':\n",
    "        return 'vwc'\n",
    "    elif row['scheme_management']=='WUG':\n",
    "        return 'wug'\n",
    "    elif row['scheme_management']=='Water authority':\n",
    "        return 'wtr_auth'\n",
    "    elif row['scheme_management']=='WUA':\n",
    "        return 'wua'\n",
    "    elif row['scheme_management']=='Water Board':\n",
    "        return 'wtr_brd'\n",
    "    elif row['scheme_management']=='Parastatal':\n",
    "        return 'Parastatal'\n",
    "    elif row['scheme_management']=='Private operator':\n",
    "        return 'pri_opr'\n",
    "    elif row['scheme_management']=='Company':\n",
    "        return 'comp'\n",
    "    else:\n",
    "        return 'other'\n",
    "\n",
    "train_data['scheme_management'] = train_data.apply(lambda row: scheme_wrangler(row), axis=1)"
   ]
  },
  {
   "cell_type": "code",
   "execution_count": 262,
   "metadata": {},
   "outputs": [
    {
     "data": {
      "text/html": [
       "<div>\n",
       "<style scoped>\n",
       "    .dataframe tbody tr th:only-of-type {\n",
       "        vertical-align: middle;\n",
       "    }\n",
       "\n",
       "    .dataframe tbody tr th {\n",
       "        vertical-align: top;\n",
       "    }\n",
       "\n",
       "    .dataframe thead th {\n",
       "        text-align: right;\n",
       "    }\n",
       "</style>\n",
       "<table border=\"1\" class=\"dataframe\">\n",
       "  <thead>\n",
       "    <tr style=\"text-align: right;\">\n",
       "      <th>status_group</th>\n",
       "      <th>functional</th>\n",
       "      <th>functional needs repair</th>\n",
       "      <th>non functional</th>\n",
       "    </tr>\n",
       "    <tr>\n",
       "      <th>scheme_management</th>\n",
       "      <th></th>\n",
       "      <th></th>\n",
       "      <th></th>\n",
       "    </tr>\n",
       "  </thead>\n",
       "  <tbody>\n",
       "    <tr>\n",
       "      <th>Parastatal</th>\n",
       "      <td>966</td>\n",
       "      <td>202</td>\n",
       "      <td>512</td>\n",
       "    </tr>\n",
       "    <tr>\n",
       "      <th>comp</th>\n",
       "      <td>534</td>\n",
       "      <td>37</td>\n",
       "      <td>490</td>\n",
       "    </tr>\n",
       "    <tr>\n",
       "      <th>other</th>\n",
       "      <td>2398</td>\n",
       "      <td>251</td>\n",
       "      <td>2164</td>\n",
       "    </tr>\n",
       "    <tr>\n",
       "      <th>pri_opr</th>\n",
       "      <td>729</td>\n",
       "      <td>23</td>\n",
       "      <td>311</td>\n",
       "    </tr>\n",
       "    <tr>\n",
       "      <th>vwc</th>\n",
       "      <td>18960</td>\n",
       "      <td>2334</td>\n",
       "      <td>15499</td>\n",
       "    </tr>\n",
       "    <tr>\n",
       "      <th>wtr_auth</th>\n",
       "      <td>1618</td>\n",
       "      <td>448</td>\n",
       "      <td>1087</td>\n",
       "    </tr>\n",
       "    <tr>\n",
       "      <th>wtr_brd</th>\n",
       "      <td>2053</td>\n",
       "      <td>111</td>\n",
       "      <td>584</td>\n",
       "    </tr>\n",
       "    <tr>\n",
       "      <th>wua</th>\n",
       "      <td>1995</td>\n",
       "      <td>239</td>\n",
       "      <td>649</td>\n",
       "    </tr>\n",
       "  </tbody>\n",
       "</table>\n",
       "</div>"
      ],
      "text/plain": [
       "status_group       functional  functional needs repair  non functional\n",
       "scheme_management                                                     \n",
       "Parastatal                966                      202             512\n",
       "comp                      534                       37             490\n",
       "other                    2398                      251            2164\n",
       "pri_opr                   729                       23             311\n",
       "vwc                     18960                     2334           15499\n",
       "wtr_auth                 1618                      448            1087\n",
       "wtr_brd                  2053                      111             584\n",
       "wua                      1995                      239             649"
      ]
     },
     "execution_count": 262,
     "metadata": {},
     "output_type": "execute_result"
    }
   ],
   "source": [
    "per_sch_mgmt = train_data.groupby(['scheme_management','status_group'])['status_group_vals']\\\n",
    "                                                .count() \\\n",
    "                                                .unstack() \\\n",
    "                                                .reset_index() \\\n",
    "                                                 .fillna(0) \\\n",
    "                                            .set_index('scheme_management')\n",
    "per_sch_mgmt.head(8)"
   ]
  },
  {
   "cell_type": "code",
   "execution_count": 263,
   "metadata": {},
   "outputs": [
    {
     "data": {
      "text/html": [
       "<div>\n",
       "<style scoped>\n",
       "    .dataframe tbody tr th:only-of-type {\n",
       "        vertical-align: middle;\n",
       "    }\n",
       "\n",
       "    .dataframe tbody tr th {\n",
       "        vertical-align: top;\n",
       "    }\n",
       "\n",
       "    .dataframe thead th {\n",
       "        text-align: right;\n",
       "    }\n",
       "</style>\n",
       "<table border=\"1\" class=\"dataframe\">\n",
       "  <thead>\n",
       "    <tr style=\"text-align: right;\">\n",
       "      <th>status_group</th>\n",
       "      <th>functional</th>\n",
       "      <th>functional needs repair</th>\n",
       "      <th>non functional</th>\n",
       "      <th>total</th>\n",
       "    </tr>\n",
       "    <tr>\n",
       "      <th>scheme_management</th>\n",
       "      <th></th>\n",
       "      <th></th>\n",
       "      <th></th>\n",
       "      <th></th>\n",
       "    </tr>\n",
       "  </thead>\n",
       "  <tbody>\n",
       "    <tr>\n",
       "      <th>Parastatal</th>\n",
       "      <td>966</td>\n",
       "      <td>202</td>\n",
       "      <td>512</td>\n",
       "      <td>1680</td>\n",
       "    </tr>\n",
       "    <tr>\n",
       "      <th>comp</th>\n",
       "      <td>534</td>\n",
       "      <td>37</td>\n",
       "      <td>490</td>\n",
       "      <td>1061</td>\n",
       "    </tr>\n",
       "    <tr>\n",
       "      <th>other</th>\n",
       "      <td>2398</td>\n",
       "      <td>251</td>\n",
       "      <td>2164</td>\n",
       "      <td>4813</td>\n",
       "    </tr>\n",
       "    <tr>\n",
       "      <th>pri_opr</th>\n",
       "      <td>729</td>\n",
       "      <td>23</td>\n",
       "      <td>311</td>\n",
       "      <td>1063</td>\n",
       "    </tr>\n",
       "    <tr>\n",
       "      <th>vwc</th>\n",
       "      <td>18960</td>\n",
       "      <td>2334</td>\n",
       "      <td>15499</td>\n",
       "      <td>36793</td>\n",
       "    </tr>\n",
       "    <tr>\n",
       "      <th>wtr_auth</th>\n",
       "      <td>1618</td>\n",
       "      <td>448</td>\n",
       "      <td>1087</td>\n",
       "      <td>3153</td>\n",
       "    </tr>\n",
       "    <tr>\n",
       "      <th>wtr_brd</th>\n",
       "      <td>2053</td>\n",
       "      <td>111</td>\n",
       "      <td>584</td>\n",
       "      <td>2748</td>\n",
       "    </tr>\n",
       "    <tr>\n",
       "      <th>wua</th>\n",
       "      <td>1995</td>\n",
       "      <td>239</td>\n",
       "      <td>649</td>\n",
       "      <td>2883</td>\n",
       "    </tr>\n",
       "    <tr>\n",
       "      <th>wug</th>\n",
       "      <td>3006</td>\n",
       "      <td>672</td>\n",
       "      <td>1528</td>\n",
       "      <td>5206</td>\n",
       "    </tr>\n",
       "  </tbody>\n",
       "</table>\n",
       "</div>"
      ],
      "text/plain": [
       "status_group       functional  functional needs repair  non functional  total\n",
       "scheme_management                                                            \n",
       "Parastatal                966                      202             512   1680\n",
       "comp                      534                       37             490   1061\n",
       "other                    2398                      251            2164   4813\n",
       "pri_opr                   729                       23             311   1063\n",
       "vwc                     18960                     2334           15499  36793\n",
       "wtr_auth                 1618                      448            1087   3153\n",
       "wtr_brd                  2053                      111             584   2748\n",
       "wua                      1995                      239             649   2883\n",
       "wug                      3006                      672            1528   5206"
      ]
     },
     "execution_count": 263,
     "metadata": {},
     "output_type": "execute_result"
    }
   ],
   "source": [
    "per_sch_mgmt['total'] = per_sch_mgmt.sum(axis=1)\n",
    "\n",
    "per_sch_mgmt"
   ]
  },
  {
   "cell_type": "code",
   "execution_count": 264,
   "metadata": {},
   "outputs": [
    {
     "data": {
      "text/html": [
       "<div>\n",
       "<style scoped>\n",
       "    .dataframe tbody tr th:only-of-type {\n",
       "        vertical-align: middle;\n",
       "    }\n",
       "\n",
       "    .dataframe tbody tr th {\n",
       "        vertical-align: top;\n",
       "    }\n",
       "\n",
       "    .dataframe thead th {\n",
       "        text-align: right;\n",
       "    }\n",
       "</style>\n",
       "<table border=\"1\" class=\"dataframe\">\n",
       "  <thead>\n",
       "    <tr style=\"text-align: right;\">\n",
       "      <th>status_group</th>\n",
       "      <th>functional</th>\n",
       "      <th>functional needs repair</th>\n",
       "      <th>non functional</th>\n",
       "    </tr>\n",
       "    <tr>\n",
       "      <th>scheme_management</th>\n",
       "      <th></th>\n",
       "      <th></th>\n",
       "      <th></th>\n",
       "    </tr>\n",
       "  </thead>\n",
       "  <tbody>\n",
       "    <tr>\n",
       "      <th>Parastatal</th>\n",
       "      <td>57.500000</td>\n",
       "      <td>12.023810</td>\n",
       "      <td>30.476190</td>\n",
       "    </tr>\n",
       "    <tr>\n",
       "      <th>comp</th>\n",
       "      <td>50.329877</td>\n",
       "      <td>3.487276</td>\n",
       "      <td>46.182846</td>\n",
       "    </tr>\n",
       "    <tr>\n",
       "      <th>other</th>\n",
       "      <td>49.823395</td>\n",
       "      <td>5.215043</td>\n",
       "      <td>44.961562</td>\n",
       "    </tr>\n",
       "    <tr>\n",
       "      <th>pri_opr</th>\n",
       "      <td>68.579492</td>\n",
       "      <td>2.163688</td>\n",
       "      <td>29.256820</td>\n",
       "    </tr>\n",
       "    <tr>\n",
       "      <th>vwc</th>\n",
       "      <td>51.531541</td>\n",
       "      <td>6.343598</td>\n",
       "      <td>42.124861</td>\n",
       "    </tr>\n",
       "    <tr>\n",
       "      <th>wtr_auth</th>\n",
       "      <td>51.316207</td>\n",
       "      <td>14.208690</td>\n",
       "      <td>34.475103</td>\n",
       "    </tr>\n",
       "    <tr>\n",
       "      <th>wtr_brd</th>\n",
       "      <td>74.708879</td>\n",
       "      <td>4.039301</td>\n",
       "      <td>21.251820</td>\n",
       "    </tr>\n",
       "    <tr>\n",
       "      <th>wua</th>\n",
       "      <td>69.198751</td>\n",
       "      <td>8.289976</td>\n",
       "      <td>22.511273</td>\n",
       "    </tr>\n",
       "    <tr>\n",
       "      <th>wug</th>\n",
       "      <td>57.741068</td>\n",
       "      <td>12.908183</td>\n",
       "      <td>29.350749</td>\n",
       "    </tr>\n",
       "  </tbody>\n",
       "</table>\n",
       "</div>"
      ],
      "text/plain": [
       "status_group       functional  functional needs repair  non functional\n",
       "scheme_management                                                     \n",
       "Parastatal          57.500000                12.023810       30.476190\n",
       "comp                50.329877                 3.487276       46.182846\n",
       "other               49.823395                 5.215043       44.961562\n",
       "pri_opr             68.579492                 2.163688       29.256820\n",
       "vwc                 51.531541                 6.343598       42.124861\n",
       "wtr_auth            51.316207                14.208690       34.475103\n",
       "wtr_brd             74.708879                 4.039301       21.251820\n",
       "wua                 69.198751                 8.289976       22.511273\n",
       "wug                 57.741068                12.908183       29.350749"
      ]
     },
     "execution_count": 264,
     "metadata": {},
     "output_type": "execute_result"
    }
   ],
   "source": [
    "#calculating the percentage\n",
    "per_sch_mgmt_df = percentage_share(per_sch_mgmt) \n",
    "\n",
    "per_sch_mgmt_df"
   ]
  },
  {
   "cell_type": "code",
   "execution_count": 265,
   "metadata": {},
   "outputs": [
    {
     "data": {
      "image/png": "[encoded data removed]",
      "text/plain": [
       "<Figure size 720x360 with 1 Axes>"
      ]
     },
     "metadata": {
      "needs_background": "light"
     },
     "output_type": "display_data"
    }
   ],
   "source": [
    "scheme_management = [0,1,2,3,4,5,6,7,8]\n",
    "functional = per_sch_mgmt_df['functional']\n",
    "nr_functional = per_sch_mgmt_df['functional needs repair']\n",
    "n_functional = per_sch_mgmt_df['non functional']\n",
    "header = per_sch_mgmt_df.columns.values #an array of columns headers\n",
    "\n",
    "fig = plt.figure()\n",
    "ax = plt.subplot()\n",
    "\n",
    "#Grouped bar chart\n",
    "ind = np.arange(len(scheme_management)) #no of x ticks;\n",
    "width = 0.3 #width of the bar\n",
    "\n",
    "\n",
    "#ax.bar(position of the bar wrt the x-ticks, data, width of bar, label)\n",
    "ax.bar(ind , functional, width,label='functional')\n",
    "ax.bar(ind- width , nr_functional, width,label='functional needs repair')\n",
    "ax.bar(ind + width , n_functional, width,label='non functional')\n",
    "ax.legend(loc=9,ncol=3)\n",
    "\n",
    "ax.set_xticks([0,1,2,3,4,5,6,7,8])\n",
    "ax.set_ylim(0,80)\n",
    "#create a list of  variable names to use as labels for ticks in hor axis\n",
    "xlab=[item.get_text() for item in ax.get_xticklabels()] # list with empty strings. list length determined my the ticks seen in the plots\n",
    "# replace empty strings at even list indexes by variable names in the same order as they are present in the dataframe column names\n",
    "xlab[0]='Parastatal'\n",
    "xlab[1]='comp'\n",
    "xlab[2]='other'\n",
    "xlab[3]='pri_opr'\n",
    "xlab[4]='vwc'\n",
    "xlab[5]='wtr_auth'\n",
    "xlab[6] ='wtr_brd'\n",
    "xlab[7] ='wua'\n",
    "xlab[8] ='wug'\n",
    "\n",
    "\n",
    "\n",
    "#set the vertical axis tick labels using the list created above\n",
    "ax.set_xticklabels(xlab)\n",
    "\n",
    "#for i,v in enumerate(functional):\n",
    "    #.text(i-.25,v+10,functional[i],fomtsize=8)\n",
    "\n",
    "\n",
    "for tick in ax.get_xticklabels():\n",
    "    tick.set_rotation(90)\n",
    "\n",
    "#Set the figure size so that all four panel graphs are clearly visible\n",
    "fig.set_size_inches(10,5)   \n",
    "#Set a title for the figure\n",
    "fig.suptitle(' Percentage of wells by functionaity types for the top 9 Schmeme Manager  '\\\n",
    "             ,y=1,fontsize=15,fontweight='bold')\n",
    "plt.show()"
   ]
  },
  {
   "cell_type": "code",
   "execution_count": 266,
   "metadata": {},
   "outputs": [
    {
     "data": {
      "text/plain": [
       "K                                        682\n",
       "None                                     644\n",
       "Borehole                                 546\n",
       "Chalinze wate                            405\n",
       "M                                        400\n",
       "DANIDA                                   379\n",
       "Government                               320\n",
       "Ngana water supplied scheme              270\n",
       "wanging'ombe water supply s              261\n",
       "wanging'ombe supply scheme               234\n",
       "I                                        229\n",
       "Bagamoyo wate                            229\n",
       "Uroki-Bomang'ombe water sup              209\n",
       "N                                        204\n",
       "Kirua kahe gravity water supply trust    193\n",
       "Machumba estate pipe line                185\n",
       "Makwale water supplied sche              166\n",
       "Kijiji                                   161\n",
       "S                                        154\n",
       "Losaa-Kia water supply                   152\n",
       "Handeni Trunk Main(H                     152\n",
       "mtwango water supply scheme              152\n",
       "Mkongoro Two                             147\n",
       "Roman                                    139\n",
       "Mkongoro One                             128\n",
       "Maambreni gravity water supply           125\n",
       "Lyamungo umbwe water supply              120\n",
       "Kirua kahe pumping water trust           113\n",
       "Ki                                       107\n",
       "Nabaiye pipe line                        107\n",
       "                                        ... \n",
       "Sero water scheme                          1\n",
       "Gwarama point  sources water supply        1\n",
       "lgongolo gravity water sche                1\n",
       "BL Ndarakwai                               1\n",
       "Damowaso                                   1\n",
       "Visiga water supplly                       1\n",
       "Mradi wa maji Vijini                       1\n",
       "Shirimatunda                               1\n",
       "Ofisini chini                              1\n",
       "BL Kirishi                                 1\n",
       "Ujindale                                   1\n",
       "LVEMP MICRO PROJECT                        1\n",
       "BL Namwai                                  1\n",
       "Sasaka village water supply                1\n",
       "Serekari ya kijiji                         1\n",
       "Mradi wa maji wa kalunde                   1\n",
       "Nabaiye pipe                               1\n",
       "Lake Tanganyika Basin                      1\n",
       "Nyamabali spring source                    1\n",
       "jongoj                                     1\n",
       "Mahunguru                                  1\n",
       "manyunyu secondary                         1\n",
       "Misambo mlimani                            1\n",
       "Kwa mboko water supply                     1\n",
       "TM part two                                1\n",
       "Sikonge water supply                       1\n",
       "Mtawanya                                   1\n",
       "Busambilo Solar Power                      1\n",
       "QWUICKWIN                                  1\n",
       "Sukuro pipe scheme                         1\n",
       "Name: scheme_name, Length: 2696, dtype: int64"
      ]
     },
     "execution_count": 266,
     "metadata": {},
     "output_type": "execute_result"
    }
   ],
   "source": [
    "train_data.scheme_name.value_counts()"
   ]
  },
  {
   "cell_type": "code",
   "execution_count": 267,
   "metadata": {},
   "outputs": [
    {
     "data": {
      "text/plain": [
       "2697"
      ]
     },
     "execution_count": 267,
     "metadata": {},
     "output_type": "execute_result"
    }
   ],
   "source": [
    "len(train_data.scheme_name.unique())"
   ]
  },
  {
   "cell_type": "code",
   "execution_count": 268,
   "metadata": {},
   "outputs": [],
   "source": [
    "# Lots of factors and the top 5 or so only represent a fraction of the total values. Probably \n",
    "# safe to drop this column.\n",
    "\n",
    "train_data.drop('scheme_name',inplace = True , axis=1)"
   ]
  },
  {
   "cell_type": "code",
   "execution_count": 269,
   "metadata": {},
   "outputs": [
    {
     "data": {
      "text/plain": [
       "True     38852\n",
       "False    17492\n",
       "Name: permit, dtype: int64"
      ]
     },
     "execution_count": 269,
     "metadata": {},
     "output_type": "execute_result"
    }
   ],
   "source": [
    "# The final column containing nulls is 'permit'.\n",
    "\n",
    "train_data.permit.value_counts()"
   ]
  },
  {
   "cell_type": "code",
   "execution_count": 270,
   "metadata": {},
   "outputs": [],
   "source": [
    "# We only have two values here: true and false. This one can stay but we'll have to replace \n",
    "# the unknown data with a string value.\n",
    "\n",
    "train_data.permit = train_data.permit.fillna('Unknown')"
   ]
  },
  {
   "cell_type": "code",
   "execution_count": 271,
   "metadata": {},
   "outputs": [
    {
     "data": {
      "text/plain": [
       "id                       0\n",
       "amount_tsh               0\n",
       "date_recorded            0\n",
       "funder                   0\n",
       "gps_height               0\n",
       "installer                0\n",
       "longitude                0\n",
       "latitude                 0\n",
       "wpt_name                 0\n",
       "num_private              0\n",
       "basin                    0\n",
       "region                   0\n",
       "region_code              0\n",
       "district_code            0\n",
       "lga                      0\n",
       "ward                     0\n",
       "population               0\n",
       "public_meeting           0\n",
       "recorded_by              0\n",
       "scheme_management        0\n",
       "permit                   0\n",
       "construction_year        0\n",
       "extraction_type          0\n",
       "extraction_type_group    0\n",
       "extraction_type_class    0\n",
       "management               0\n",
       "management_group         0\n",
       "payment                  0\n",
       "payment_type             0\n",
       "water_quality            0\n",
       "quality_group            0\n",
       "quantity                 0\n",
       "quantity_group           0\n",
       "source                   0\n",
       "source_type              0\n",
       "source_class             0\n",
       "waterpoint_type          0\n",
       "waterpoint_type_group    0\n",
       "status_group             0\n",
       "status_group_vals        0\n",
       "dtype: int64"
      ]
     },
     "execution_count": 271,
     "metadata": {},
     "output_type": "execute_result"
    }
   ],
   "source": [
    "\n",
    "train_data.apply(lambda x: sum(x.isnull()))"
   ]
  },
  {
   "cell_type": "code",
   "execution_count": 272,
   "metadata": {},
   "outputs": [
    {
     "data": {
      "text/plain": [
       "date_recorded              356\n",
       "funder                      10\n",
       "installer                    7\n",
       "wpt_name                 37400\n",
       "basin                        9\n",
       "region                      21\n",
       "lga                        125\n",
       "ward                      2092\n",
       "public_meeting               3\n",
       "recorded_by                  1\n",
       "scheme_management            9\n",
       "permit                       3\n",
       "extraction_type             18\n",
       "extraction_type_group       13\n",
       "extraction_type_class        7\n",
       "management                  12\n",
       "management_group             5\n",
       "payment                      7\n",
       "payment_type                 7\n",
       "water_quality                8\n",
       "quality_group                6\n",
       "quantity                     5\n",
       "quantity_group               5\n",
       "source                      10\n",
       "source_type                  7\n",
       "source_class                 3\n",
       "waterpoint_type              7\n",
       "waterpoint_type_group        6\n",
       "status_group                 3\n",
       "dtype: int64"
      ]
     },
     "execution_count": 272,
     "metadata": {},
     "output_type": "execute_result"
    }
   ],
   "source": [
    "# Excellent! Now there are no nulls in the data set. We can move on to look at columns with \n",
    "# string values and modify or remove them as we see fit.\n",
    "\n",
    "str_cols = train_data.select_dtypes(include = ['object'])\n",
    "str_cols.apply(lambda x: len(x.unique()))"
   ]
  },
  {
   "cell_type": "code",
   "execution_count": 273,
   "metadata": {},
   "outputs": [
    {
     "data": {
      "text/plain": [
       "count          59400\n",
       "unique           356\n",
       "top       2011-03-15\n",
       "freq             572\n",
       "Name: date_recorded, dtype: object"
      ]
     },
     "execution_count": 273,
     "metadata": {},
     "output_type": "execute_result"
    }
   ],
   "source": [
    "# 'Date recorded'\n",
    "\n",
    "train_data.date_recorded.describe()"
   ]
  },
  {
   "cell_type": "code",
   "execution_count": 274,
   "metadata": {},
   "outputs": [
    {
     "data": {
      "text/plain": [
       "count                   59400\n",
       "unique                    356\n",
       "top       2011-03-15 00:00:00\n",
       "freq                      572\n",
       "first     2002-10-14 00:00:00\n",
       "last      2013-12-03 00:00:00\n",
       "Name: date_recorded, dtype: object"
      ]
     },
     "execution_count": 274,
     "metadata": {},
     "output_type": "execute_result"
    }
   ],
   "source": [
    "# Let's first convert the column to type datetime. Then change the column to represent the \n",
    "# number of days since the most recently recorded datum we have. The idea being that more \n",
    "# recently recorded pumps might be more likely to be functional than non-functional. \n",
    "\n",
    "train_data.date_recorded = pd.to_datetime(train_data.date_recorded)\n",
    "train_data.date_recorded.describe()"
   ]
  },
  {
   "cell_type": "code",
   "execution_count": 16,
   "metadata": {},
   "outputs": [
    {
     "data": {
      "text/plain": [
       "count    59400.000000\n",
       "mean       613.616970\n",
       "std        334.216374\n",
       "min          0.000000\n",
       "25%        297.000000\n",
       "50%        419.000000\n",
       "75%        977.000000\n",
       "max       4068.000000\n",
       "Name: days_since_recorded, dtype: float64"
      ]
     },
     "execution_count": 16,
     "metadata": {},
     "output_type": "execute_result"
    }
   ],
   "source": [
    "# The most recent data is 2013-12-03. Subtract each date from this point to obtain a \n",
    "# 'days_since_recorded' column.\n",
    "\n",
    "train_data.date_recorded = pd.datetime(2013, 12, 3) - pd.to_datetime(train_data.date_recorded)\n",
    "train_data.columns = ['days_since_recorded' if x=='date_recorded' else x for x in train_data.columns]\n",
    "train_data.days_since_recorded = train_data.days_since_recorded.astype('timedelta64[D]').astype(int)\n",
    "train_data.days_since_recorded.describe()"
   ]
  },
  {
   "cell_type": "code",
   "execution_count": 276,
   "metadata": {},
   "outputs": [
    {
     "data": {
      "text/plain": [
       "none                          3563\n",
       "Shuleni                       1748\n",
       "Zahanati                       830\n",
       "Msikitini                      535\n",
       "Kanisani                       323\n",
       "Bombani                        271\n",
       "Sokoni                         260\n",
       "Ofisini                        254\n",
       "School                         208\n",
       "Shule Ya Msingi                199\n",
       "Shule                          152\n",
       "Sekondari                      146\n",
       "Muungano                       133\n",
       "Mkombozi                       111\n",
       "Madukani                       104\n",
       "Hospital                        94\n",
       "Mbugani                         94\n",
       "Upendo                          93\n",
       "Kituo Cha Afya                  90\n",
       "Mkuyuni                         88\n",
       "Umoja                           84\n",
       "Center                          83\n",
       "Ccm                             81\n",
       "Kisimani                        78\n",
       "Mtakuja                         76\n",
       "Ofisi Ya Kijiji                 76\n",
       "Tankini                         73\n",
       "Bwawani                         66\n",
       "Songambele                      66\n",
       "Maendeleo                       64\n",
       "                              ... \n",
       "Kivunge                          1\n",
       "Kwa John Izack Mmari             1\n",
       "Siliki Bugira                    1\n",
       "Kwasteve                         1\n",
       "Inoti                            1\n",
       "Namdinda                         1\n",
       "Kwa Mubanga                      1\n",
       "Kwa Mzee Klalince                1\n",
       "Kwa Winefride                    1\n",
       "Kwa Jeledi James                 1\n",
       "Kabeba                           1\n",
       "Ka Muhudi                        1\n",
       "Kwa Fedi Mwanzalila              1\n",
       "Shule Ya Msingi Mapo             1\n",
       "Kwa Kanyapini                    1\n",
       "Kwa Chipanta                     1\n",
       "Kessy Kauzeni                    1\n",
       "Kwa Hango Lwisye                 1\n",
       "Kwa Mzee Salim Mhandamuhum       1\n",
       "Namkerema                        1\n",
       "Robert Kasema                    1\n",
       "Karibu Na Senta                  1\n",
       "Mkafigili                        1\n",
       "Kwa Makausa Xavier               1\n",
       "Masanjara                        1\n",
       "Kwa Simon Kisanga                1\n",
       "Guduwelo Simwimba                1\n",
       "Shule Ya Msingi Igoma            1\n",
       "Mrugomelo B                      1\n",
       "Kwa Uhaula                       1\n",
       "Name: wpt_name, Length: 37400, dtype: int64"
      ]
     },
     "execution_count": 276,
     "metadata": {},
     "output_type": "execute_result"
    }
   ],
   "source": [
    "# There's a wide range of data here hopefully it will help improve the predictive power of our\n",
    "# models. Next up for inspection is 'wpt_name' (Name of the waterpoint if there is one).\n",
    "\n",
    "train_data.wpt_name.value_counts()"
   ]
  },
  {
   "cell_type": "code",
   "execution_count": 277,
   "metadata": {},
   "outputs": [],
   "source": [
    "# Due to the huge number of factors and the lack of a clear dominating value I'll drop this.\n",
    "# I may come back and include the top 5 later. Next up is 'basin'.\n",
    "\n",
    "train_data.drop('wpt_name',inplace = True , axis=1)"
   ]
  },
  {
   "cell_type": "code",
   "execution_count": 278,
   "metadata": {},
   "outputs": [
    {
     "data": {
      "text/plain": [
       "Lake Victoria              10248\n",
       "Pangani                     8940\n",
       "Rufiji                      7976\n",
       "Internal                    7785\n",
       "Lake Tanganyika             6432\n",
       "Wami / Ruvu                 5987\n",
       "Lake Nyasa                  5085\n",
       "Ruvuma / Southern Coast     4493\n",
       "Lake Rukwa                  2454\n",
       "Name: basin, dtype: int64"
      ]
     },
     "execution_count": 278,
     "metadata": {},
     "output_type": "execute_result"
    }
   ],
   "source": [
    "train_data.basin.value_counts()"
   ]
  },
  {
   "cell_type": "code",
   "execution_count": 279,
   "metadata": {},
   "outputs": [
    {
     "name": "stdout",
     "output_type": "stream",
     "text": [
      "<class 'pandas.core.frame.DataFrame'>\n",
      "Int64Index: 59400 entries, 0 to 59399\n",
      "Data columns (total 39 columns):\n",
      "id                       59400 non-null int64\n",
      "amount_tsh               59400 non-null float64\n",
      "days_since_recorded      59400 non-null int32\n",
      "funder                   59400 non-null object\n",
      "gps_height               59400 non-null int64\n",
      "installer                59400 non-null object\n",
      "longitude                59400 non-null float64\n",
      "latitude                 59400 non-null float64\n",
      "num_private              59400 non-null int64\n",
      "basin                    59400 non-null object\n",
      "region                   59400 non-null object\n",
      "region_code              59400 non-null int64\n",
      "district_code            59400 non-null int64\n",
      "lga                      59400 non-null object\n",
      "ward                     59400 non-null object\n",
      "population               59400 non-null int64\n",
      "public_meeting           59400 non-null object\n",
      "recorded_by              59400 non-null object\n",
      "scheme_management        59400 non-null object\n",
      "permit                   59400 non-null object\n",
      "construction_year        59400 non-null int64\n",
      "extraction_type          59400 non-null object\n",
      "extraction_type_group    59400 non-null object\n",
      "extraction_type_class    59400 non-null object\n",
      "management               59400 non-null object\n",
      "management_group         59400 non-null object\n",
      "payment                  59400 non-null object\n",
      "payment_type             59400 non-null object\n",
      "water_quality            59400 non-null object\n",
      "quality_group            59400 non-null object\n",
      "quantity                 59400 non-null object\n",
      "quantity_group           59400 non-null object\n",
      "source                   59400 non-null object\n",
      "source_type              59400 non-null object\n",
      "source_class             59400 non-null object\n",
      "waterpoint_type          59400 non-null object\n",
      "waterpoint_type_group    59400 non-null object\n",
      "status_group             59400 non-null object\n",
      "status_group_vals        59400 non-null int64\n",
      "dtypes: float64(3), int32(1), int64(8), object(27)\n",
      "memory usage: 17.9+ MB\n"
     ]
    }
   ],
   "source": [
    "train_data.info()\n"
   ]
  },
  {
   "cell_type": "code",
   "execution_count": 281,
   "metadata": {},
   "outputs": [
    {
     "data": {
      "text/html": [
       "<div>\n",
       "<style scoped>\n",
       "    .dataframe tbody tr th:only-of-type {\n",
       "        vertical-align: middle;\n",
       "    }\n",
       "\n",
       "    .dataframe tbody tr th {\n",
       "        vertical-align: top;\n",
       "    }\n",
       "\n",
       "    .dataframe thead th {\n",
       "        text-align: right;\n",
       "    }\n",
       "</style>\n",
       "<table border=\"1\" class=\"dataframe\">\n",
       "  <thead>\n",
       "    <tr style=\"text-align: right;\">\n",
       "      <th></th>\n",
       "      <th></th>\n",
       "      <th>status_group_vals</th>\n",
       "    </tr>\n",
       "    <tr>\n",
       "      <th>basin</th>\n",
       "      <th>status_group</th>\n",
       "      <th></th>\n",
       "    </tr>\n",
       "  </thead>\n",
       "  <tbody>\n",
       "    <tr>\n",
       "      <th rowspan=\"3\" valign=\"top\">Internal</th>\n",
       "      <th>functional</th>\n",
       "      <td>4482</td>\n",
       "    </tr>\n",
       "    <tr>\n",
       "      <th>functional needs repair</th>\n",
       "      <td>557</td>\n",
       "    </tr>\n",
       "    <tr>\n",
       "      <th>non functional</th>\n",
       "      <td>2746</td>\n",
       "    </tr>\n",
       "    <tr>\n",
       "      <th rowspan=\"3\" valign=\"top\">Lake Nyasa</th>\n",
       "      <th>functional</th>\n",
       "      <td>3324</td>\n",
       "    </tr>\n",
       "    <tr>\n",
       "      <th>functional needs repair</th>\n",
       "      <td>250</td>\n",
       "    </tr>\n",
       "    <tr>\n",
       "      <th>non functional</th>\n",
       "      <td>1511</td>\n",
       "    </tr>\n",
       "    <tr>\n",
       "      <th rowspan=\"3\" valign=\"top\">Lake Rukwa</th>\n",
       "      <th>functional</th>\n",
       "      <td>1000</td>\n",
       "    </tr>\n",
       "    <tr>\n",
       "      <th>functional needs repair</th>\n",
       "      <td>270</td>\n",
       "    </tr>\n",
       "    <tr>\n",
       "      <th>non functional</th>\n",
       "      <td>1184</td>\n",
       "    </tr>\n",
       "    <tr>\n",
       "      <th rowspan=\"3\" valign=\"top\">Lake Tanganyika</th>\n",
       "      <th>functional</th>\n",
       "      <td>3107</td>\n",
       "    </tr>\n",
       "    <tr>\n",
       "      <th>functional needs repair</th>\n",
       "      <td>742</td>\n",
       "    </tr>\n",
       "    <tr>\n",
       "      <th>non functional</th>\n",
       "      <td>2583</td>\n",
       "    </tr>\n",
       "    <tr>\n",
       "      <th rowspan=\"3\" valign=\"top\">Lake Victoria</th>\n",
       "      <th>functional</th>\n",
       "      <td>5100</td>\n",
       "    </tr>\n",
       "    <tr>\n",
       "      <th>functional needs repair</th>\n",
       "      <td>989</td>\n",
       "    </tr>\n",
       "    <tr>\n",
       "      <th>non functional</th>\n",
       "      <td>4159</td>\n",
       "    </tr>\n",
       "    <tr>\n",
       "      <th rowspan=\"3\" valign=\"top\">Pangani</th>\n",
       "      <th>functional</th>\n",
       "      <td>5372</td>\n",
       "    </tr>\n",
       "    <tr>\n",
       "      <th>functional needs repair</th>\n",
       "      <td>477</td>\n",
       "    </tr>\n",
       "    <tr>\n",
       "      <th>non functional</th>\n",
       "      <td>3091</td>\n",
       "    </tr>\n",
       "    <tr>\n",
       "      <th rowspan=\"3\" valign=\"top\">Rufiji</th>\n",
       "      <th>functional</th>\n",
       "      <td>5068</td>\n",
       "    </tr>\n",
       "    <tr>\n",
       "      <th>functional needs repair</th>\n",
       "      <td>437</td>\n",
       "    </tr>\n",
       "    <tr>\n",
       "      <th>non functional</th>\n",
       "      <td>2471</td>\n",
       "    </tr>\n",
       "    <tr>\n",
       "      <th rowspan=\"3\" valign=\"top\">Ruvuma / Southern Coast</th>\n",
       "      <th>functional</th>\n",
       "      <td>1670</td>\n",
       "    </tr>\n",
       "    <tr>\n",
       "      <th>functional needs repair</th>\n",
       "      <td>326</td>\n",
       "    </tr>\n",
       "    <tr>\n",
       "      <th>non functional</th>\n",
       "      <td>2497</td>\n",
       "    </tr>\n",
       "    <tr>\n",
       "      <th rowspan=\"3\" valign=\"top\">Wami / Ruvu</th>\n",
       "      <th>functional</th>\n",
       "      <td>3136</td>\n",
       "    </tr>\n",
       "    <tr>\n",
       "      <th>functional needs repair</th>\n",
       "      <td>269</td>\n",
       "    </tr>\n",
       "    <tr>\n",
       "      <th>non functional</th>\n",
       "      <td>2582</td>\n",
       "    </tr>\n",
       "  </tbody>\n",
       "</table>\n",
       "</div>"
      ],
      "text/plain": [
       "                                                 status_group_vals\n",
       "basin                   status_group                              \n",
       "Internal                functional                            4482\n",
       "                        functional needs repair                557\n",
       "                        non functional                        2746\n",
       "Lake Nyasa              functional                            3324\n",
       "                        functional needs repair                250\n",
       "                        non functional                        1511\n",
       "Lake Rukwa              functional                            1000\n",
       "                        functional needs repair                270\n",
       "                        non functional                        1184\n",
       "Lake Tanganyika         functional                            3107\n",
       "                        functional needs repair                742\n",
       "                        non functional                        2583\n",
       "Lake Victoria           functional                            5100\n",
       "                        functional needs repair                989\n",
       "                        non functional                        4159\n",
       "Pangani                 functional                            5372\n",
       "                        functional needs repair                477\n",
       "                        non functional                        3091\n",
       "Rufiji                  functional                            5068\n",
       "                        functional needs repair                437\n",
       "                        non functional                        2471\n",
       "Ruvuma / Southern Coast functional                            1670\n",
       "                        functional needs repair                326\n",
       "                        non functional                        2497\n",
       "Wami / Ruvu             functional                            3136\n",
       "                        functional needs repair                269\n",
       "                        non functional                        2582"
      ]
     },
     "execution_count": 281,
     "metadata": {},
     "output_type": "execute_result"
    }
   ],
   "source": [
    "piv_table = pd.pivot_table(train_data, index=['basin', 'status_group'],\n",
    "                           values=['status_group_vals'], aggfunc='count')\n",
    "piv_table"
   ]
  },
  {
   "cell_type": "code",
   "execution_count": null,
   "metadata": {},
   "outputs": [],
   "source": [
    "# Most basins have have more functional than non-functional pumps. Lake Rukwa\n",
    "# and Ruvuma don't. All the values are over 2000 so this looks like a good feature to keep.\n",
    "# Region will be considered next."
   ]
  },
  {
   "cell_type": "code",
   "execution_count": 282,
   "metadata": {},
   "outputs": [
    {
     "data": {
      "text/plain": [
       "Iringa           5294\n",
       "Shinyanga        4982\n",
       "Mbeya            4639\n",
       "Kilimanjaro      4379\n",
       "Morogoro         4006\n",
       "Arusha           3350\n",
       "Kagera           3316\n",
       "Mwanza           3102\n",
       "Kigoma           2816\n",
       "Ruvuma           2640\n",
       "Pwani            2635\n",
       "Tanga            2547\n",
       "Dodoma           2201\n",
       "Singida          2093\n",
       "Mara             1969\n",
       "Tabora           1959\n",
       "Rukwa            1808\n",
       "Mtwara           1730\n",
       "Manyara          1583\n",
       "Lindi            1546\n",
       "Dar es Salaam     805\n",
       "Name: region, dtype: int64"
      ]
     },
     "execution_count": 282,
     "metadata": {},
     "output_type": "execute_result"
    }
   ],
   "source": [
    "\n",
    "df.region.value_counts()"
   ]
  },
  {
   "cell_type": "code",
   "execution_count": 283,
   "metadata": {},
   "outputs": [],
   "source": [
    "# Both basin, lga, ward and region contain geographical information so there is a risk of them being\n",
    "# highly correlated with each other. I'll drop then for now.\n",
    "# They could be be worth including though, so I may come back to them.\n",
    "train_data.drop(['region', 'lga', 'ward'],inplace = True, axis=1)"
   ]
  },
  {
   "cell_type": "code",
   "execution_count": 291,
   "metadata": {},
   "outputs": [
    {
     "data": {
      "text/plain": [
       "count        1.0\n",
       "mean     59400.0\n",
       "std          NaN\n",
       "min      59400.0\n",
       "25%      59400.0\n",
       "50%      59400.0\n",
       "75%      59400.0\n",
       "max      59400.0\n",
       "Name: recorded_by, dtype: float64"
      ]
     },
     "execution_count": 291,
     "metadata": {},
     "output_type": "execute_result"
    }
   ],
   "source": [
    "train_data.recorded_by.value_counts().describe()"
   ]
  },
  {
   "cell_type": "code",
   "execution_count": 293,
   "metadata": {},
   "outputs": [],
   "source": [
    "# All data points have the same value so this offers no information that would help build our\n",
    "# model.\n",
    "train_data.drop('recorded_by',inplace = True, axis=1)"
   ]
  },
  {
   "cell_type": "code",
   "execution_count": 294,
   "metadata": {},
   "outputs": [],
   "source": [
    "# extraction_type, extraction_type_group and extraction_type_class appear to contain very similar\n",
    "# data. I'll drop the first two and keep the last one.\n",
    "\n",
    "train_data.drop(['extraction_type', 'extraction_type_group'],inplace = True, axis=1)"
   ]
  },
  {
   "cell_type": "code",
   "execution_count": 295,
   "metadata": {},
   "outputs": [
    {
     "data": {
      "text/plain": [
       "vwc                 40507\n",
       "wug                  6515\n",
       "water board          2933\n",
       "wua                  2535\n",
       "private operator     1971\n",
       "parastatal           1768\n",
       "water authority       904\n",
       "other                 844\n",
       "company               685\n",
       "unknown               561\n",
       "other - school         99\n",
       "trust                  78\n",
       "Name: management, dtype: int64"
      ]
     },
     "execution_count": 295,
     "metadata": {},
     "output_type": "execute_result"
    }
   ],
   "source": [
    "train_data.management.value_counts()"
   ]
  },
  {
   "cell_type": "code",
   "execution_count": 296,
   "metadata": {},
   "outputs": [],
   "source": [
    "# This appears to be almost identical to 'scheme_management'. I'll drop it.\n",
    "\n",
    "train_data.drop('management',inplace = True, axis=1)"
   ]
  },
  {
   "cell_type": "code",
   "execution_count": 297,
   "metadata": {},
   "outputs": [
    {
     "data": {
      "text/plain": [
       "user-group    52490\n",
       "commercial     3638\n",
       "parastatal     1768\n",
       "other           943\n",
       "unknown         561\n",
       "Name: management_group, dtype: int64"
      ]
     },
     "execution_count": 297,
     "metadata": {},
     "output_type": "execute_result"
    }
   ],
   "source": [
    "train_data.management_group.value_counts()"
   ]
  },
  {
   "cell_type": "code",
   "execution_count": 299,
   "metadata": {},
   "outputs": [
    {
     "data": {
      "text/plain": [
       "array(['vwc', 'other', 'pri_opr', 'wug', 'wtr_brd', 'wua', 'wtr_auth',\n",
       "       'comp', 'Parastatal'], dtype=object)"
      ]
     },
     "execution_count": 299,
     "metadata": {},
     "output_type": "execute_result"
    }
   ],
   "source": [
    "train_data.scheme_management.unique()"
   ]
  },
  {
   "cell_type": "code",
   "execution_count": 300,
   "metadata": {},
   "outputs": [],
   "source": [
    "# Appears to offer no new info and is likely to overlap with 'scheme_management'.\n",
    "\n",
    "train_data.drop('management_group',inplace = True, axis=1)"
   ]
  },
  {
   "cell_type": "code",
   "execution_count": 301,
   "metadata": {},
   "outputs": [
    {
     "data": {
      "text/plain": [
       "never pay                25348\n",
       "pay per bucket            8985\n",
       "pay monthly               8300\n",
       "unknown                   8157\n",
       "pay when scheme fails     3914\n",
       "pay annually              3642\n",
       "other                     1054\n",
       "Name: payment, dtype: int64"
      ]
     },
     "execution_count": 301,
     "metadata": {},
     "output_type": "execute_result"
    }
   ],
   "source": [
    "train_data.payment.value_counts()"
   ]
  },
  {
   "cell_type": "code",
   "execution_count": 302,
   "metadata": {},
   "outputs": [
    {
     "data": {
      "text/plain": [
       "never pay     25348\n",
       "per bucket     8985\n",
       "monthly        8300\n",
       "unknown        8157\n",
       "on failure     3914\n",
       "annually       3642\n",
       "other          1054\n",
       "Name: payment_type, dtype: int64"
      ]
     },
     "execution_count": 302,
     "metadata": {},
     "output_type": "execute_result"
    }
   ],
   "source": [
    "train_data.payment_type.value_counts()"
   ]
  },
  {
   "cell_type": "code",
   "execution_count": 304,
   "metadata": {},
   "outputs": [],
   "source": [
    "# Payment and payment_type contain identical data. Remove one and keep the other.\n",
    "\n",
    "train_data.drop('payment',inplace = True, axis=1)"
   ]
  },
  {
   "cell_type": "code",
   "execution_count": 305,
   "metadata": {},
   "outputs": [
    {
     "data": {
      "text/plain": [
       "soft                  50818\n",
       "salty                  4856\n",
       "unknown                1876\n",
       "milky                   804\n",
       "coloured                490\n",
       "salty abandoned         339\n",
       "fluoride                200\n",
       "fluoride abandoned       17\n",
       "Name: water_quality, dtype: int64"
      ]
     },
     "execution_count": 305,
     "metadata": {},
     "output_type": "execute_result"
    }
   ],
   "source": [
    "\n",
    "train_data.water_quality.value_counts()"
   ]
  },
  {
   "cell_type": "code",
   "execution_count": 306,
   "metadata": {},
   "outputs": [
    {
     "data": {
      "text/plain": [
       "good        50818\n",
       "salty        5195\n",
       "unknown      1876\n",
       "milky         804\n",
       "colored       490\n",
       "fluoride      217\n",
       "Name: quality_group, dtype: int64"
      ]
     },
     "execution_count": 306,
     "metadata": {},
     "output_type": "execute_result"
    }
   ],
   "source": [
    "train_data.quality_group.value_counts()"
   ]
  },
  {
   "cell_type": "code",
   "execution_count": 307,
   "metadata": {},
   "outputs": [],
   "source": [
    "# Water_quality and quality_group contain identical data. Remove one and keep the other.\n",
    "\n",
    "train_data.drop('quality_group',inplace = True, axis = 1)"
   ]
  },
  {
   "cell_type": "code",
   "execution_count": 308,
   "metadata": {},
   "outputs": [
    {
     "data": {
      "text/plain": [
       "enough          33186\n",
       "insufficient    15129\n",
       "dry              6246\n",
       "seasonal         4050\n",
       "unknown           789\n",
       "Name: quantity, dtype: int64"
      ]
     },
     "execution_count": 308,
     "metadata": {},
     "output_type": "execute_result"
    }
   ],
   "source": [
    "train_data.quantity.value_counts()"
   ]
  },
  {
   "cell_type": "code",
   "execution_count": 309,
   "metadata": {},
   "outputs": [
    {
     "data": {
      "text/plain": [
       "enough          33186\n",
       "insufficient    15129\n",
       "dry              6246\n",
       "seasonal         4050\n",
       "unknown           789\n",
       "Name: quantity_group, dtype: int64"
      ]
     },
     "execution_count": 309,
     "metadata": {},
     "output_type": "execute_result"
    }
   ],
   "source": [
    "train_data.quantity_group.value_counts()"
   ]
  },
  {
   "cell_type": "code",
   "execution_count": 310,
   "metadata": {},
   "outputs": [],
   "source": [
    "# Quantity and quantity_group contain identical data. Remove one and keep the other.\n",
    "\n",
    "train_data.drop('quantity_group',inplace = True,axis = 1)"
   ]
  },
  {
   "cell_type": "code",
   "execution_count": 311,
   "metadata": {},
   "outputs": [
    {
     "data": {
      "text/plain": [
       "spring                  17021\n",
       "shallow well            16824\n",
       "machine dbh             11075\n",
       "river                    9612\n",
       "rainwater harvesting     2295\n",
       "hand dtw                  874\n",
       "lake                      765\n",
       "dam                       656\n",
       "other                     212\n",
       "unknown                    66\n",
       "Name: source, dtype: int64"
      ]
     },
     "execution_count": 311,
     "metadata": {},
     "output_type": "execute_result"
    }
   ],
   "source": [
    "train_data.source.value_counts()"
   ]
  },
  {
   "cell_type": "code",
   "execution_count": 312,
   "metadata": {},
   "outputs": [
    {
     "data": {
      "text/plain": [
       "groundwater    45794\n",
       "surface        13328\n",
       "unknown          278\n",
       "Name: source_class, dtype: int64"
      ]
     },
     "execution_count": 312,
     "metadata": {},
     "output_type": "execute_result"
    }
   ],
   "source": [
    "train_data.source_class.value_counts()"
   ]
  },
  {
   "cell_type": "code",
   "execution_count": 313,
   "metadata": {},
   "outputs": [
    {
     "data": {
      "text/plain": [
       "spring                  17021\n",
       "shallow well            16824\n",
       "borehole                11949\n",
       "river/lake              10377\n",
       "rainwater harvesting     2295\n",
       "dam                       656\n",
       "other                     278\n",
       "Name: source_type, dtype: int64"
      ]
     },
     "execution_count": 313,
     "metadata": {},
     "output_type": "execute_result"
    }
   ],
   "source": [
    "train_data.source_type.value_counts()"
   ]
  },
  {
   "cell_type": "code",
   "execution_count": 314,
   "metadata": {},
   "outputs": [],
   "source": [
    "# Source and source_type contain very similar information. Remove one and keep the other.\n",
    "\n",
    "train_data.drop('source',inplace = True,axis =  1)"
   ]
  },
  {
   "cell_type": "code",
   "execution_count": 315,
   "metadata": {},
   "outputs": [],
   "source": [
    "# gps_height, longitude, latitude, region_code and district_code are all geographic info which\n",
    "# is unlikely to add any predictive power to the model given that there are other variables\n",
    "# containing geographic data. 'num_private' hasn't been given a discription on Driven Data,\n",
    "# it appears to be superflous. We expect id to not contain any useful information so that gets\n",
    "# dropped too.\n",
    "\n",
    "train_data.drop(['gps_height', 'longitude', 'latitude', 'region_code', 'district_code',\n",
    "             'num_private', 'id'], inplace = True,axis=1)"
   ]
  },
  {
   "cell_type": "code",
   "execution_count": null,
   "metadata": {},
   "outputs": [],
   "source": []
  }
 ],
 "metadata": {
  "kernelspec": {
   "display_name": "Python 3",
   "language": "python",
   "name": "python3"
  },
  "language_info": {
   "codemirror_mode": {
    "name": "ipython",
    "version": 3
   },
   "file_extension": ".py",
   "mimetype": "text/x-python",
   "name": "python",
   "nbconvert_exporter": "python",
   "pygments_lexer": "ipython3",
   "version": "3.7.3"
  }
 },
 "nbformat": 4,
 "nbformat_minor": 2
}
